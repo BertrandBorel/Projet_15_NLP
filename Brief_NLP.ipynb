{
 "cells": [
  {
   "cell_type": "code",
   "execution_count": 527,
   "id": "47d1027d",
   "metadata": {},
   "outputs": [],
   "source": [
    "import pandas as pd \n",
    "import numpy as np\n",
    "from wordcloud import WordCloud\n",
    "import matplotlib.pyplot as plt\n",
    "from sklearn.model_selection import train_test_split\n",
    "\n",
    "# on a besoin du module nltk (nécessite une installation)\n",
    "import nltk "
   ]
  },
  {
   "cell_type": "markdown",
   "id": "1adfbeeb",
   "metadata": {},
   "source": [
    "## Dataframe"
   ]
  },
  {
   "cell_type": "code",
   "execution_count": 528,
   "id": "0f8bc63a",
   "metadata": {},
   "outputs": [
    {
     "data": {
      "text/html": [
       "<div>\n",
       "<style scoped>\n",
       "    .dataframe tbody tr th:only-of-type {\n",
       "        vertical-align: middle;\n",
       "    }\n",
       "\n",
       "    .dataframe tbody tr th {\n",
       "        vertical-align: top;\n",
       "    }\n",
       "\n",
       "    .dataframe thead th {\n",
       "        text-align: right;\n",
       "    }\n",
       "</style>\n",
       "<table border=\"1\" class=\"dataframe\">\n",
       "  <thead>\n",
       "    <tr style=\"text-align: right;\">\n",
       "      <th></th>\n",
       "      <th>Note</th>\n",
       "      <th>Commentaire</th>\n",
       "    </tr>\n",
       "  </thead>\n",
       "  <tbody>\n",
       "    <tr>\n",
       "      <th>0</th>\n",
       "      <td>4,0</td>\n",
       "      <td>une bonne suite pour les aventures de sonic au...</td>\n",
       "    </tr>\n",
       "    <tr>\n",
       "      <th>1</th>\n",
       "      <td>5,0</td>\n",
       "      <td>Cette suite de sonic est incroyable !Le fan qu...</td>\n",
       "    </tr>\n",
       "    <tr>\n",
       "      <th>2</th>\n",
       "      <td>4,0</td>\n",
       "      <td>Super film de ouf, le fait que Knuckles soit d...</td>\n",
       "    </tr>\n",
       "    <tr>\n",
       "      <th>3</th>\n",
       "      <td>4,0</td>\n",
       "      <td>Très bon film ont retrouve ce qui fait l’espri...</td>\n",
       "    </tr>\n",
       "    <tr>\n",
       "      <th>4</th>\n",
       "      <td>2,5</td>\n",
       "      <td>Bon alors je trouve que la transposition de l'...</td>\n",
       "    </tr>\n",
       "    <tr>\n",
       "      <th>...</th>\n",
       "      <td>...</td>\n",
       "      <td>...</td>\n",
       "    </tr>\n",
       "    <tr>\n",
       "      <th>2900</th>\n",
       "      <td>2,5</td>\n",
       "      <td>Agréablement surpris! Des effets spéciaux impr...</td>\n",
       "    </tr>\n",
       "    <tr>\n",
       "      <th>2901</th>\n",
       "      <td>4,0</td>\n",
       "      <td>E-NOR-ME !!!!Le jeu de TOUS les acteurs est tr...</td>\n",
       "    </tr>\n",
       "    <tr>\n",
       "      <th>2902</th>\n",
       "      <td>5,0</td>\n",
       "      <td>Qu'elle film!!Je conseil a tous ce chef d'oeuv...</td>\n",
       "    </tr>\n",
       "    <tr>\n",
       "      <th>2903</th>\n",
       "      <td>5,0</td>\n",
       "      <td>Bon, DiCaprio commence vraiment à me gonfler! ...</td>\n",
       "    </tr>\n",
       "    <tr>\n",
       "      <th>2904</th>\n",
       "      <td>5,0</td>\n",
       "      <td>Après avoir vu ce film, je n'ai qu'une conclus...</td>\n",
       "    </tr>\n",
       "  </tbody>\n",
       "</table>\n",
       "<p>2905 rows × 2 columns</p>\n",
       "</div>"
      ],
      "text/plain": [
       "     Note                                        Commentaire\n",
       "0     4,0  une bonne suite pour les aventures de sonic au...\n",
       "1     5,0  Cette suite de sonic est incroyable !Le fan qu...\n",
       "2     4,0  Super film de ouf, le fait que Knuckles soit d...\n",
       "3     4,0  Très bon film ont retrouve ce qui fait l’espri...\n",
       "4     2,5  Bon alors je trouve que la transposition de l'...\n",
       "...   ...                                                ...\n",
       "2900  2,5  Agréablement surpris! Des effets spéciaux impr...\n",
       "2901  4,0  E-NOR-ME !!!!Le jeu de TOUS les acteurs est tr...\n",
       "2902  5,0  Qu'elle film!!Je conseil a tous ce chef d'oeuv...\n",
       "2903  5,0  Bon, DiCaprio commence vraiment à me gonfler! ...\n",
       "2904  5,0  Après avoir vu ce film, je n'ai qu'une conclus...\n",
       "\n",
       "[2905 rows x 2 columns]"
      ]
     },
     "execution_count": 528,
     "metadata": {},
     "output_type": "execute_result"
    }
   ],
   "source": [
    "df = pd.read_csv('df.csv')\n",
    "df"
   ]
  },
  {
   "cell_type": "markdown",
   "id": "32ab9a64",
   "metadata": {},
   "source": [
    "## Nuage de mots"
   ]
  },
  {
   "cell_type": "code",
   "execution_count": 529,
   "id": "59b1bff0",
   "metadata": {},
   "outputs": [
    {
     "data": {
      "image/png": "[encoded data removed]",
      "text/plain": [
       "<Figure size 432x288 with 1 Axes>"
      ]
     },
     "metadata": {
      "needs_background": "light"
     },
     "output_type": "display_data"
    }
   ],
   "source": [
    "liste= df['Commentaire'].values.tolist()\n",
    "\n",
    "WC=WordCloud(background_color = 'white',max_words = 100).generate(liste[0])\n",
    "\n",
    "\n",
    "plt.imshow(WC)\n",
    "plt.axis(\"off\")\n",
    "plt.show()"
   ]
  },
  {
   "cell_type": "markdown",
   "id": "7f058a25",
   "metadata": {},
   "source": [
    "## Préparation des données"
   ]
  },
  {
   "cell_type": "markdown",
   "id": "982d0516",
   "metadata": {},
   "source": [
    "### Tokenisation"
   ]
  },
  {
   "cell_type": "markdown",
   "id": "e196a910",
   "metadata": {},
   "source": [
    "#### Sentence Tokenization"
   ]
  },
  {
   "cell_type": "code",
   "execution_count": 530,
   "id": "993746b9",
   "metadata": {},
   "outputs": [],
   "source": [
    "from nltk.tokenize import sent_tokenize\n",
    "\n",
    "liste_token = []\n",
    "\n",
    "for x in df['Commentaire']:\n",
    "    tokenized_text=sent_tokenize(x)\n",
    "    liste_token.append(tokenized_text)\n",
    "\n"
   ]
  },
  {
   "cell_type": "markdown",
   "id": "7d101975",
   "metadata": {},
   "source": [
    "#### Word Tokenization"
   ]
  },
  {
   "cell_type": "code",
   "execution_count": 531,
   "id": "182fcc97",
   "metadata": {},
   "outputs": [
    {
     "name": "stdout",
     "output_type": "stream",
     "text": [
      "['Après', 'avoir', 'vu', 'ce', 'film', ',', 'je', \"n'ai\", \"qu'une\", 'conclusion', ',', 'Christopher', 'Nolan', 'est', 'un', 'génie', '.', 'Après', 'le', 'fantastique', '``', 'Dark', 'Knight', \"''\", ',', 'il', 'nous', 'pond', 'ce', 'fabuleux', 'film', 'sur', 'les', 'rêves', '.', 'Pas', 'question', 'de', 'vous', 'parler', 'du', 'scènario', 'qui', 'est', 'comme', 'habituellement', 'chez', 'ce', 'réalisateur', 'fantastique', '.', 'Cette', 'fois', 'Nolan', 'nous', 'sort', 'une', 'magnifique', 'histoire', 'sur', 'la', 'manipulation', 'de', 'personnes', 'à', 'travers', 'leurs', 'rêves', '.', 'Ce', 'scénario', 'qui', 'peut', 'paraître', 'assez', 'compliqué', 'et', 'confus', ',', 'est', 'une', 'réflexion', 'intelligeante', 'sur', 'le', 'rôle', 'des', 'rêves', ',', 'et', 'notre', 'désir', 'déchapper', 'à', 'la', 'réalité', ',', 'et', 'de', 'créer', 'en', 'quelque', 'sorte', 'notre', 'propre', 'réalité', '.', 'Après', 'il', 'a', 'les', 'acteurs', 'qui', 'livrent', 'une', 'interprétation', 'sublime', ',', 'límmersion', 'en', 'devient', 'totale', '.', 'Finalement', ',', 'il', 'y', 'a', 'la', 'fin', 'du', 'film', '.', 'Une', 'fin', 'ouverte', 'qui', 'laisse', 'place', 'à', 'la', 'réflexion', 'et', 'à', \"l'imagination\", '.', 'A', 'la', 'fin', 'on', 'ne', 'sait', 'pas', 'vraiment', 'si', 'le', 'tout', 'est', 'un', 'rêve', 'ou', 'si', \"c'est\", 'la', 'réalité', '.', 'Ce', 'film', 'est', 'donc', 'à', 'recommender', 'à', 'tout', 'le', 'monde', '.', \"C'est\", 'vraiment', 'quelque', 'chose', 'de', 'fantastique', ',', 'spectaculaire', 'et', 'spécial', '.', 'Un', 'grand', 'moment', 'de', 'cinéma', '.', 'Le', 'chef', \"d'oeuvre\", 'de', \"l'excellent\", 'réalisateur', 'Christopher', 'Nolan', '.']\n"
     ]
    }
   ],
   "source": [
    "from nltk.tokenize import word_tokenize\n",
    "\n",
    "liste_token_word = []\n",
    "\n",
    "for x in df['Commentaire'] :\n",
    "    tokenized_word=word_tokenize(x)\n",
    "    liste_token_word.append(tokenized_word)\n",
    "print(tokenized_word)"
   ]
  },
  {
   "cell_type": "markdown",
   "id": "b4517a97",
   "metadata": {},
   "source": [
    "### Frequency Distribution"
   ]
  },
  {
   "cell_type": "code",
   "execution_count": 532,
   "id": "48cc46ca",
   "metadata": {},
   "outputs": [
    {
     "name": "stdout",
     "output_type": "stream",
     "text": [
      "<FreqDist with 95 samples and 135 outcomes>\n"
     ]
    }
   ],
   "source": [
    "from nltk.probability import FreqDist\n",
    "\n",
    "somme_token = liste_token_word[1]\n",
    "    \n",
    "fdist = FreqDist(somme_token)\n",
    "print(fdist)"
   ]
  },
  {
   "cell_type": "code",
   "execution_count": 533,
   "id": "8ccc83ec",
   "metadata": {},
   "outputs": [
    {
     "data": {
      "text/plain": [
       "[(',', 9), ('!', 7)]"
      ]
     },
     "execution_count": 533,
     "metadata": {},
     "output_type": "execute_result"
    }
   ],
   "source": [
    "fdist.most_common(2)"
   ]
  },
  {
   "cell_type": "code",
   "execution_count": 534,
   "id": "24adae21",
   "metadata": {},
   "outputs": [
    {
     "data": {
      "image/png": "[encoded data removed]",
      "text/plain": [
       "<Figure size 432x288 with 1 Axes>"
      ]
     },
     "metadata": {
      "needs_background": "light"
     },
     "output_type": "display_data"
    }
   ],
   "source": [
    "# Frequency Distribution Plot\n",
    "import matplotlib.pyplot as plt\n",
    "fdist.plot(30,cumulative=False)\n",
    "plt.show()"
   ]
  },
  {
   "cell_type": "markdown",
   "id": "84ddfc15",
   "metadata": {},
   "source": [
    "### Stopwords"
   ]
  },
  {
   "cell_type": "code",
   "execution_count": 535,
   "id": "e8f8da21",
   "metadata": {},
   "outputs": [
    {
     "name": "stdout",
     "output_type": "stream",
     "text": [
      "{'s', 'ton', 'aie', 'qui', 'm', 'que', 'nos', 'eusses', 'd', 'étiez', 't', 'un', 'auront', 'me', 'étante', 'ses', 'fussiez', 'êtes', 'de', 'aurai', 'auras', 'lui', 'seraient', 'eus', 'à', 'ait', 'sois', 'moi', 'vos', 'fût', 'je', 'une', 'étions', 'étantes', 'aurait', 'au', 'il', 'n', 'étais', 'pas', 'sa', 'étée', 'avec', 'pour', 'l', 'dans', 'eussions', 'fussent', 'on', 'eûmes', 'étaient', 'serait', 'ai', 'le', 'fûtes', 'votre', 'étés', 'eues', 'tes', 'soyez', 'eussiez', 'sommes', 'avaient', 'les', 'la', 'ou', 'eût', 'serez', 'fussions', 'ayante', 'es', 'serais', 'vous', 'fûmes', 'sur', 'même', 'eux', 'seras', 'aies', 'sera', 'fus', 'fusse', 'eusse', 'avons', 'toi', 'ne', 'suis', 'aurions', 'avez', 'soyons', 'seront', 'ayants', 'eussent', 'serions', 'ce', 'est', 'ces', 'j', 'eûtes', 'ayons', 'son', 'aviez', 'auraient', 'eut', 'ayant', 'nous', 'par', 'soit', 'ayantes', 'qu', 'aurons', 'avais', 'avait', 'fusses', 'elle', 'aurez', 'eurent', 'as', 'fut', 'eue', 'eu', 'été', 'en', 'sont', 'serai', 'furent', 'avions', 'mes', 'étant', 'serons', 'soient', 'leur', 'seriez', 'et', 'y', 'ma', 'aurais', 'tu', 'c', 'mon', 'étants', 'te', 'ayez', 'des', 'aient', 'aux', 'étées', 'ils', 'notre', 'mais', 'était', 'aura', 'auriez', 'ont', 'se', 'du', 'ta'}\n"
     ]
    }
   ],
   "source": [
    "from nltk.corpus import stopwords\n",
    "stop_words=set(stopwords.words(\"french\"))\n",
    "print(stop_words)"
   ]
  },
  {
   "cell_type": "markdown",
   "id": "278a5f37",
   "metadata": {},
   "source": [
    "### Suppression des accents"
   ]
  },
  {
   "cell_type": "code",
   "execution_count": 536,
   "id": "ee67ec59",
   "metadata": {},
   "outputs": [
    {
     "data": {
      "text/html": [
       "<div>\n",
       "<style scoped>\n",
       "    .dataframe tbody tr th:only-of-type {\n",
       "        vertical-align: middle;\n",
       "    }\n",
       "\n",
       "    .dataframe tbody tr th {\n",
       "        vertical-align: top;\n",
       "    }\n",
       "\n",
       "    .dataframe thead th {\n",
       "        text-align: right;\n",
       "    }\n",
       "</style>\n",
       "<table border=\"1\" class=\"dataframe\">\n",
       "  <thead>\n",
       "    <tr style=\"text-align: right;\">\n",
       "      <th></th>\n",
       "      <th>Note</th>\n",
       "      <th>Commentaire</th>\n",
       "    </tr>\n",
       "  </thead>\n",
       "  <tbody>\n",
       "    <tr>\n",
       "      <th>0</th>\n",
       "      <td>4,0</td>\n",
       "      <td>une bonne suite pour les aventures de sonic au...</td>\n",
       "    </tr>\n",
       "    <tr>\n",
       "      <th>1</th>\n",
       "      <td>5,0</td>\n",
       "      <td>Cette suite de sonic est incroyable !Le fan qu...</td>\n",
       "    </tr>\n",
       "    <tr>\n",
       "      <th>2</th>\n",
       "      <td>4,0</td>\n",
       "      <td>Super film de ouf, le fait que Knuckles soit d...</td>\n",
       "    </tr>\n",
       "    <tr>\n",
       "      <th>3</th>\n",
       "      <td>4,0</td>\n",
       "      <td>Tres bon film ont retrouve ce qui fait lesprit...</td>\n",
       "    </tr>\n",
       "    <tr>\n",
       "      <th>4</th>\n",
       "      <td>2,5</td>\n",
       "      <td>Bon alors je trouve que la transposition de l'...</td>\n",
       "    </tr>\n",
       "  </tbody>\n",
       "</table>\n",
       "</div>"
      ],
      "text/plain": [
       "  Note                                        Commentaire\n",
       "0  4,0  une bonne suite pour les aventures de sonic au...\n",
       "1  5,0  Cette suite de sonic est incroyable !Le fan qu...\n",
       "2  4,0  Super film de ouf, le fait que Knuckles soit d...\n",
       "3  4,0  Tres bon film ont retrouve ce qui fait lesprit...\n",
       "4  2,5  Bon alors je trouve que la transposition de l'..."
      ]
     },
     "execution_count": 536,
     "metadata": {},
     "output_type": "execute_result"
    }
   ],
   "source": [
    "df['Commentaire'] = df['Commentaire'].str.normalize('NFKD').str.encode('ascii', errors='ignore').str.decode('utf-8')\n",
    "df.head()"
   ]
  },
  {
   "cell_type": "code",
   "execution_count": 537,
   "id": "7a75974b",
   "metadata": {},
   "outputs": [],
   "source": [
    "import re \n",
    "\n",
    "REMPLACE_SANS_ESPACE = re.compile(\"[;:!\\'?,\\\"()\\[\\],']\")\n",
    "REMPLACE_AVEC_ESPACE = re.compile(\"()|(-)|(/)|[.’]\")\n",
    "PUR_NOMBRE = re.compile(\"[0-9]\")\n",
    "\n",
    "# def setClassBin(i):\n",
    "#     if (float(i.replace(',', '.')) > 3):\n",
    "#         return 1\n",
    "#     else:\n",
    "#         return 0\n",
    "\n",
    "def preprocess(txt):\n",
    "    txt = [PUR_NOMBRE.sub(\"\", (str(line)).lower()) for line in txt] # retire les nombres (comme les années)\n",
    "    txt = [line.replace('\\n', ' ')  for line in txt] # Retire les \\n (retours chariots)\n",
    "    txt = [REMPLACE_SANS_ESPACE.sub(\" \", line.lower()) for line in txt]\n",
    "    txt = [REMPLACE_AVEC_ESPACE.sub(\"\", line) for line in txt]\n",
    "    return txt"
   ]
  },
  {
   "cell_type": "code",
   "execution_count": 538,
   "id": "76c2d10c",
   "metadata": {},
   "outputs": [],
   "source": [
    "df[\"Commentaire\"]=preprocess(df[\"Commentaire\"])"
   ]
  },
  {
   "cell_type": "code",
   "execution_count": 539,
   "id": "ac0eea28",
   "metadata": {},
   "outputs": [
    {
     "data": {
      "text/html": [
       "<div>\n",
       "<style scoped>\n",
       "    .dataframe tbody tr th:only-of-type {\n",
       "        vertical-align: middle;\n",
       "    }\n",
       "\n",
       "    .dataframe tbody tr th {\n",
       "        vertical-align: top;\n",
       "    }\n",
       "\n",
       "    .dataframe thead th {\n",
       "        text-align: right;\n",
       "    }\n",
       "</style>\n",
       "<table border=\"1\" class=\"dataframe\">\n",
       "  <thead>\n",
       "    <tr style=\"text-align: right;\">\n",
       "      <th></th>\n",
       "      <th>Note</th>\n",
       "      <th>Commentaire</th>\n",
       "      <th>Traitement_1</th>\n",
       "    </tr>\n",
       "  </thead>\n",
       "  <tbody>\n",
       "    <tr>\n",
       "      <th>0</th>\n",
       "      <td>4,0</td>\n",
       "      <td>une bonne suite pour les aventures de sonic au...</td>\n",
       "      <td>une bonne suite pour les aventures de sonic au...</td>\n",
       "    </tr>\n",
       "    <tr>\n",
       "      <th>1</th>\n",
       "      <td>5,0</td>\n",
       "      <td>cette suite de sonic est incroyable  le fan qu...</td>\n",
       "      <td>cette suite de sonic est incroyable  le fan qu...</td>\n",
       "    </tr>\n",
       "    <tr>\n",
       "      <th>2</th>\n",
       "      <td>4,0</td>\n",
       "      <td>super film de ouf  le fait que knuckles soit d...</td>\n",
       "      <td>super film de ouf  le fait que knuckles soit d...</td>\n",
       "    </tr>\n",
       "    <tr>\n",
       "      <th>3</th>\n",
       "      <td>4,0</td>\n",
       "      <td>tres bon film ont retrouve ce qui fait lesprit...</td>\n",
       "      <td>tres bon film ont retrouve ce qui fait lesprit...</td>\n",
       "    </tr>\n",
       "    <tr>\n",
       "      <th>4</th>\n",
       "      <td>2,5</td>\n",
       "      <td>bon alors je trouve que la transposition de l ...</td>\n",
       "      <td>bon alors je trouve que la transposition de l ...</td>\n",
       "    </tr>\n",
       "    <tr>\n",
       "      <th>...</th>\n",
       "      <td>...</td>\n",
       "      <td>...</td>\n",
       "      <td>...</td>\n",
       "    </tr>\n",
       "    <tr>\n",
       "      <th>2900</th>\n",
       "      <td>2,5</td>\n",
       "      <td>agreablement surpris  des effets speciaux impr...</td>\n",
       "      <td>agreablement surpris  des effets speciaux impr...</td>\n",
       "    </tr>\n",
       "    <tr>\n",
       "      <th>2901</th>\n",
       "      <td>4,0</td>\n",
       "      <td>enorme     le jeu de tous les acteurs est tres...</td>\n",
       "      <td>enorme     le jeu de tous les acteurs est tres...</td>\n",
       "    </tr>\n",
       "    <tr>\n",
       "      <th>2902</th>\n",
       "      <td>5,0</td>\n",
       "      <td>qu elle film  je conseil a tous ce chef d oeuv...</td>\n",
       "      <td>qu elle film  je conseil a tous ce chef d oeuv...</td>\n",
       "    </tr>\n",
       "    <tr>\n",
       "      <th>2903</th>\n",
       "      <td>5,0</td>\n",
       "      <td>bon  dicaprio commence vraiment a me gonfler  ...</td>\n",
       "      <td>bon  dicaprio commence vraiment a me gonfler  ...</td>\n",
       "    </tr>\n",
       "    <tr>\n",
       "      <th>2904</th>\n",
       "      <td>5,0</td>\n",
       "      <td>apres avoir vu ce film  je n ai qu une conclus...</td>\n",
       "      <td>apres avoir vu ce film  je n ai qu une conclus...</td>\n",
       "    </tr>\n",
       "  </tbody>\n",
       "</table>\n",
       "<p>2905 rows × 3 columns</p>\n",
       "</div>"
      ],
      "text/plain": [
       "     Note                                        Commentaire  \\\n",
       "0     4,0  une bonne suite pour les aventures de sonic au...   \n",
       "1     5,0  cette suite de sonic est incroyable  le fan qu...   \n",
       "2     4,0  super film de ouf  le fait que knuckles soit d...   \n",
       "3     4,0  tres bon film ont retrouve ce qui fait lesprit...   \n",
       "4     2,5  bon alors je trouve que la transposition de l ...   \n",
       "...   ...                                                ...   \n",
       "2900  2,5  agreablement surpris  des effets speciaux impr...   \n",
       "2901  4,0  enorme     le jeu de tous les acteurs est tres...   \n",
       "2902  5,0  qu elle film  je conseil a tous ce chef d oeuv...   \n",
       "2903  5,0  bon  dicaprio commence vraiment a me gonfler  ...   \n",
       "2904  5,0  apres avoir vu ce film  je n ai qu une conclus...   \n",
       "\n",
       "                                           Traitement_1  \n",
       "0     une bonne suite pour les aventures de sonic au...  \n",
       "1     cette suite de sonic est incroyable  le fan qu...  \n",
       "2     super film de ouf  le fait que knuckles soit d...  \n",
       "3     tres bon film ont retrouve ce qui fait lesprit...  \n",
       "4     bon alors je trouve que la transposition de l ...  \n",
       "...                                                 ...  \n",
       "2900  agreablement surpris  des effets speciaux impr...  \n",
       "2901  enorme     le jeu de tous les acteurs est tres...  \n",
       "2902  qu elle film  je conseil a tous ce chef d oeuv...  \n",
       "2903  bon  dicaprio commence vraiment a me gonfler  ...  \n",
       "2904  apres avoir vu ce film  je n ai qu une conclus...  \n",
       "\n",
       "[2905 rows x 3 columns]"
      ]
     },
     "execution_count": 539,
     "metadata": {},
     "output_type": "execute_result"
    }
   ],
   "source": [
    "# On ajoute la liste au dataframe\n",
    "\n",
    "df[\"Traitement_1\"] = df[\"Commentaire\"]\n",
    "df"
   ]
  },
  {
   "cell_type": "markdown",
   "id": "a8a3d39c",
   "metadata": {},
   "source": [
    "## Suppression des stopwords"
   ]
  },
  {
   "cell_type": "code",
   "execution_count": 540,
   "id": "363d4354",
   "metadata": {},
   "outputs": [],
   "source": [
    "import pandas as pd\n",
    "\n",
    "df['Traitement_1'] = df['Traitement_1'].astype(str)"
   ]
  },
  {
   "cell_type": "code",
   "execution_count": 541,
   "id": "dfa68575",
   "metadata": {},
   "outputs": [
    {
     "data": {
      "text/html": [
       "<div>\n",
       "<style scoped>\n",
       "    .dataframe tbody tr th:only-of-type {\n",
       "        vertical-align: middle;\n",
       "    }\n",
       "\n",
       "    .dataframe tbody tr th {\n",
       "        vertical-align: top;\n",
       "    }\n",
       "\n",
       "    .dataframe thead th {\n",
       "        text-align: right;\n",
       "    }\n",
       "</style>\n",
       "<table border=\"1\" class=\"dataframe\">\n",
       "  <thead>\n",
       "    <tr style=\"text-align: right;\">\n",
       "      <th></th>\n",
       "      <th>Note</th>\n",
       "      <th>Commentaire</th>\n",
       "      <th>Traitement_1</th>\n",
       "      <th>Traitement_2</th>\n",
       "    </tr>\n",
       "  </thead>\n",
       "  <tbody>\n",
       "    <tr>\n",
       "      <th>0</th>\n",
       "      <td>4,0</td>\n",
       "      <td>une bonne suite pour les aventures de sonic au...</td>\n",
       "      <td>une bonne suite pour les aventures de sonic au...</td>\n",
       "      <td>[bonne, suite, aventures, sonic, cinema, deja,...</td>\n",
       "    </tr>\n",
       "    <tr>\n",
       "      <th>1</th>\n",
       "      <td>5,0</td>\n",
       "      <td>cette suite de sonic est incroyable  le fan qu...</td>\n",
       "      <td>cette suite de sonic est incroyable  le fan qu...</td>\n",
       "      <td>[cette, suite, sonic, incroyable, fan, ravi, q...</td>\n",
       "    </tr>\n",
       "    <tr>\n",
       "      <th>2</th>\n",
       "      <td>4,0</td>\n",
       "      <td>super film de ouf  le fait que knuckles soit d...</td>\n",
       "      <td>super film de ouf  le fait que knuckles soit d...</td>\n",
       "      <td>[super, film, ouf, fait, knuckles, cote, eggma...</td>\n",
       "    </tr>\n",
       "    <tr>\n",
       "      <th>3</th>\n",
       "      <td>4,0</td>\n",
       "      <td>tres bon film ont retrouve ce qui fait lesprit...</td>\n",
       "      <td>tres bon film ont retrouve ce qui fait lesprit...</td>\n",
       "      <td>[tres, bon, film, retrouve, fait, lesprit, son...</td>\n",
       "    </tr>\n",
       "    <tr>\n",
       "      <th>4</th>\n",
       "      <td>2,5</td>\n",
       "      <td>bon alors je trouve que la transposition de l ...</td>\n",
       "      <td>bon alors je trouve que la transposition de l ...</td>\n",
       "      <td>[bon, alors, trouve, transposition, univers, s...</td>\n",
       "    </tr>\n",
       "  </tbody>\n",
       "</table>\n",
       "</div>"
      ],
      "text/plain": [
       "  Note                                        Commentaire  \\\n",
       "0  4,0  une bonne suite pour les aventures de sonic au...   \n",
       "1  5,0  cette suite de sonic est incroyable  le fan qu...   \n",
       "2  4,0  super film de ouf  le fait que knuckles soit d...   \n",
       "3  4,0  tres bon film ont retrouve ce qui fait lesprit...   \n",
       "4  2,5  bon alors je trouve que la transposition de l ...   \n",
       "\n",
       "                                        Traitement_1  \\\n",
       "0  une bonne suite pour les aventures de sonic au...   \n",
       "1  cette suite de sonic est incroyable  le fan qu...   \n",
       "2  super film de ouf  le fait que knuckles soit d...   \n",
       "3  tres bon film ont retrouve ce qui fait lesprit...   \n",
       "4  bon alors je trouve que la transposition de l ...   \n",
       "\n",
       "                                        Traitement_2  \n",
       "0  [bonne, suite, aventures, sonic, cinema, deja,...  \n",
       "1  [cette, suite, sonic, incroyable, fan, ravi, q...  \n",
       "2  [super, film, ouf, fait, knuckles, cote, eggma...  \n",
       "3  [tres, bon, film, retrouve, fait, lesprit, son...  \n",
       "4  [bon, alors, trouve, transposition, univers, s...  "
      ]
     },
     "execution_count": 541,
     "metadata": {},
     "output_type": "execute_result"
    }
   ],
   "source": [
    "ftoken = lambda x: [word.lower() for word in word_tokenize(x) if word not in (stop_words)]\n",
    "df[\"Traitement_2\"] = df[\"Traitement_1\"].apply(ftoken)\n",
    "df.head()"
   ]
  },
  {
   "cell_type": "code",
   "execution_count": 542,
   "id": "799497f6",
   "metadata": {},
   "outputs": [],
   "source": [
    "from nltk.tokenize import sent_tokenize, word_tokenize\n",
    "from nltk.corpus import stopwords\n",
    "import re\n",
    "\n",
    "\n",
    "filtre = []\n",
    "\n",
    "for element in df[\"Commentaire\"] :\n",
    "    stopWords = set(stopwords.words('french'))\n",
    "    words = word_tokenize(element)\n",
    "    for w in words:\n",
    "        if w not in stopWords:\n",
    "#         w = w.lower()\n",
    "            w = w.replace('\\n', ' ')\n",
    "\n",
    "            filtre.append(w)\n"
   ]
  },
  {
   "cell_type": "code",
   "execution_count": 543,
   "id": "afdbf7d2",
   "metadata": {},
   "outputs": [
    {
     "data": {
      "text/plain": [
       "189041"
      ]
     },
     "execution_count": 543,
     "metadata": {},
     "output_type": "execute_result"
    }
   ],
   "source": [
    "len(filtre)"
   ]
  },
  {
   "cell_type": "markdown",
   "id": "5f0d8156",
   "metadata": {},
   "source": [
    "### Nombre d'occurences qui reviennent le plus souvent"
   ]
  },
  {
   "cell_type": "code",
   "execution_count": 544,
   "id": "fc1ddf46",
   "metadata": {},
   "outputs": [
    {
     "name": "stdout",
     "output_type": "stream",
     "text": [
      "<FreqDist with 12974 samples and 189041 outcomes>\n"
     ]
    }
   ],
   "source": [
    "from nltk.probability import FreqDist\n",
    "   \n",
    "fdist = FreqDist(filtre)\n",
    "print(fdist)"
   ]
  },
  {
   "cell_type": "code",
   "execution_count": 545,
   "id": "3ce3949f",
   "metadata": {},
   "outputs": [
    {
     "data": {
      "text/plain": [
       "[('a', 8581), ('film', 5672), ('tres', 2598), ('sonic', 2228), ('plus', 1963)]"
      ]
     },
     "execution_count": 545,
     "metadata": {},
     "output_type": "execute_result"
    }
   ],
   "source": [
    "fdist.most_common(5)"
   ]
  },
  {
   "cell_type": "code",
   "execution_count": 546,
   "id": "08c0b8fd",
   "metadata": {},
   "outputs": [
    {
     "data": {
      "image/png": "[encoded data removed]",
      "text/plain": [
       "<Figure size 432x288 with 1 Axes>"
      ]
     },
     "metadata": {
      "needs_background": "light"
     },
     "output_type": "display_data"
    }
   ],
   "source": [
    "# Frequency Distribution Plot\n",
    "import matplotlib.pyplot as plt\n",
    "fdist.plot(30,cumulative=False)\n",
    "plt.show()"
   ]
  },
  {
   "cell_type": "markdown",
   "id": "47cf7181",
   "metadata": {},
   "source": [
    "### Suppression des termes inutiles "
   ]
  },
  {
   "cell_type": "code",
   "execution_count": 547,
   "id": "6b5801f6",
   "metadata": {},
   "outputs": [],
   "source": [
    "liste_supp = [\"a\", \"film\", \"sonic\", \"nolan\", \"inception\", \"scenario\", \"spoiler\"]\n",
    "\n",
    "for x in filtre :\n",
    "    if x in liste_supp :\n",
    "        filtre.remove(x)"
   ]
  },
  {
   "cell_type": "code",
   "execution_count": 549,
   "id": "21730a73",
   "metadata": {},
   "outputs": [
    {
     "name": "stdout",
     "output_type": "stream",
     "text": [
      "<FreqDist with 12974 samples and 170208 outcomes>\n"
     ]
    }
   ],
   "source": [
    "fdist = FreqDist(filtre)\n",
    "print(fdist)"
   ]
  },
  {
   "cell_type": "code",
   "execution_count": 550,
   "id": "34af02b8",
   "metadata": {},
   "outputs": [
    {
     "data": {
      "text/plain": [
       "[('tres', 2598),\n",
       " ('plus', 1963),\n",
       " ('bien', 1632),\n",
       " ('tout', 1607),\n",
       " ('meme', 1462)]"
      ]
     },
     "execution_count": 550,
     "metadata": {},
     "output_type": "execute_result"
    }
   ],
   "source": [
    "fdist.most_common(5)"
   ]
  },
  {
   "cell_type": "code",
   "execution_count": 551,
   "id": "825e39ea",
   "metadata": {},
   "outputs": [
    {
     "data": {
      "image/png": "[encoded data removed]",
      "text/plain": [
       "<Figure size 432x288 with 1 Axes>"
      ]
     },
     "metadata": {
      "needs_background": "light"
     },
     "output_type": "display_data"
    }
   ],
   "source": [
    "# Frequency Distribution Plot\n",
    "import matplotlib.pyplot as plt\n",
    "fdist.plot(30,cumulative=False)\n",
    "plt.show()"
   ]
  },
  {
   "cell_type": "code",
   "execution_count": 552,
   "id": "324412ac",
   "metadata": {},
   "outputs": [
    {
     "data": {
      "text/plain": [
       "170208"
      ]
     },
     "execution_count": 552,
     "metadata": {},
     "output_type": "execute_result"
    }
   ],
   "source": [
    "len(filtre)"
   ]
  },
  {
   "cell_type": "markdown",
   "id": "08a39804",
   "metadata": {},
   "source": [
    "## Normalization"
   ]
  },
  {
   "cell_type": "markdown",
   "id": "d4c788e8",
   "metadata": {},
   "source": [
    "### Stemming"
   ]
  },
  {
   "cell_type": "code",
   "execution_count": 553,
   "id": "3c45dc6a",
   "metadata": {},
   "outputs": [],
   "source": [
    "from nltk.stem import PorterStemmer\n",
    "from nltk.tokenize import sent_tokenize, word_tokenize\n",
    "\n",
    "ps = PorterStemmer()\n",
    "\n",
    "stemmed_words=[]\n",
    "for w in filtre:\n",
    "    stemmed_words.append(ps.stem(w))"
   ]
  },
  {
   "cell_type": "code",
   "execution_count": 554,
   "id": "5b97528e",
   "metadata": {},
   "outputs": [
    {
     "name": "stdout",
     "output_type": "stream",
     "text": [
      "     Note                                        Commentaire  \\\n",
      "0     4,0  une bonne suite pour les aventures de sonic au...   \n",
      "1     5,0  cette suite de sonic est incroyable  le fan qu...   \n",
      "2     4,0  super film de ouf  le fait que knuckles soit d...   \n",
      "3     4,0  tres bon film ont retrouve ce qui fait lesprit...   \n",
      "4     2,5  bon alors je trouve que la transposition de l ...   \n",
      "...   ...                                                ...   \n",
      "2900  2,5  agreablement surpris  des effets speciaux impr...   \n",
      "2901  4,0  enorme     le jeu de tous les acteurs est tres...   \n",
      "2902  5,0  qu elle film  je conseil a tous ce chef d oeuv...   \n",
      "2903  5,0  bon  dicaprio commence vraiment a me gonfler  ...   \n",
      "2904  5,0  apres avoir vu ce film  je n ai qu une conclus...   \n",
      "\n",
      "                                           Traitement_1  \\\n",
      "0     une bonne suite pour les aventures de sonic au...   \n",
      "1     cette suite de sonic est incroyable  le fan qu...   \n",
      "2     super film de ouf  le fait que knuckles soit d...   \n",
      "3     tres bon film ont retrouve ce qui fait lesprit...   \n",
      "4     bon alors je trouve que la transposition de l ...   \n",
      "...                                                 ...   \n",
      "2900  agreablement surpris  des effets speciaux impr...   \n",
      "2901  enorme     le jeu de tous les acteurs est tres...   \n",
      "2902  qu elle film  je conseil a tous ce chef d oeuv...   \n",
      "2903  bon  dicaprio commence vraiment a me gonfler  ...   \n",
      "2904  apres avoir vu ce film  je n ai qu une conclus...   \n",
      "\n",
      "                                           Traitement_2  \n",
      "0     bon suit aventur sonic cinem dej premi film et...  \n",
      "1     cet suit sonic incroi fan rav quand jou megadr...  \n",
      "2     sup film ouf fait knuckl cot eggman debut refe...  \n",
      "3     tre bon film retrouv fait lespr sonic film cla...  \n",
      "4     bon alor trouv transposit univer sonic mond re...  \n",
      "...                                                 ...  \n",
      "2900  agreabl surpr effet special impression paris r...  \n",
      "2901  enorm jeu tous acteur tre bien mem mario cotil...  \n",
      "2902  film conseil a tous chef oeuvr fer pass h bonheur  \n",
      "2903  bon dicaprio commenc vrai a gonfl fais part ce...  \n",
      "2904  apre avoir vu film conclus christoph nolan gen...  \n",
      "\n",
      "[2905 rows x 4 columns]\n"
     ]
    }
   ],
   "source": [
    "from nltk.stem.snowball import SnowballStemmer\n",
    "\n",
    "stemming = SnowballStemmer(language='french')\n",
    "\n",
    "fonction_stemming = lambda x: ' '.join([stemming.stem(word) for word in x])\n",
    "df[\"Traitement_2\"] = df[\"Traitement_2\"].apply(fonction_stemming)\n",
    "\n",
    "print(df)"
   ]
  },
  {
   "cell_type": "markdown",
   "id": "6ffeeec8",
   "metadata": {},
   "source": [
    "###  Modification de la colonne \"Note\""
   ]
  },
  {
   "cell_type": "code",
   "execution_count": 557,
   "id": "e09136b6",
   "metadata": {},
   "outputs": [
    {
     "data": {
      "text/html": [
       "<div>\n",
       "<style scoped>\n",
       "    .dataframe tbody tr th:only-of-type {\n",
       "        vertical-align: middle;\n",
       "    }\n",
       "\n",
       "    .dataframe tbody tr th {\n",
       "        vertical-align: top;\n",
       "    }\n",
       "\n",
       "    .dataframe thead th {\n",
       "        text-align: right;\n",
       "    }\n",
       "</style>\n",
       "<table border=\"1\" class=\"dataframe\">\n",
       "  <thead>\n",
       "    <tr style=\"text-align: right;\">\n",
       "      <th></th>\n",
       "      <th>Commentaire</th>\n",
       "      <th>Traitement_1</th>\n",
       "      <th>Traitement_2</th>\n",
       "    </tr>\n",
       "  </thead>\n",
       "  <tbody>\n",
       "    <tr>\n",
       "      <th>0</th>\n",
       "      <td>une bonne suite pour les aventures de sonic au...</td>\n",
       "      <td>une bonne suite pour les aventures de sonic au...</td>\n",
       "      <td>bon suit aventur sonic cinem dej premi film et...</td>\n",
       "    </tr>\n",
       "    <tr>\n",
       "      <th>1</th>\n",
       "      <td>cette suite de sonic est incroyable  le fan qu...</td>\n",
       "      <td>cette suite de sonic est incroyable  le fan qu...</td>\n",
       "      <td>cet suit sonic incroi fan rav quand jou megadr...</td>\n",
       "    </tr>\n",
       "    <tr>\n",
       "      <th>2</th>\n",
       "      <td>super film de ouf  le fait que knuckles soit d...</td>\n",
       "      <td>super film de ouf  le fait que knuckles soit d...</td>\n",
       "      <td>sup film ouf fait knuckl cot eggman debut refe...</td>\n",
       "    </tr>\n",
       "    <tr>\n",
       "      <th>3</th>\n",
       "      <td>tres bon film ont retrouve ce qui fait lesprit...</td>\n",
       "      <td>tres bon film ont retrouve ce qui fait lesprit...</td>\n",
       "      <td>tre bon film retrouv fait lespr sonic film cla...</td>\n",
       "    </tr>\n",
       "    <tr>\n",
       "      <th>4</th>\n",
       "      <td>bon alors je trouve que la transposition de l ...</td>\n",
       "      <td>bon alors je trouve que la transposition de l ...</td>\n",
       "      <td>bon alor trouv transposit univer sonic mond re...</td>\n",
       "    </tr>\n",
       "    <tr>\n",
       "      <th>...</th>\n",
       "      <td>...</td>\n",
       "      <td>...</td>\n",
       "      <td>...</td>\n",
       "    </tr>\n",
       "    <tr>\n",
       "      <th>2900</th>\n",
       "      <td>agreablement surpris  des effets speciaux impr...</td>\n",
       "      <td>agreablement surpris  des effets speciaux impr...</td>\n",
       "      <td>agreabl surpr effet special impression paris r...</td>\n",
       "    </tr>\n",
       "    <tr>\n",
       "      <th>2901</th>\n",
       "      <td>enorme     le jeu de tous les acteurs est tres...</td>\n",
       "      <td>enorme     le jeu de tous les acteurs est tres...</td>\n",
       "      <td>enorm jeu tous acteur tre bien mem mario cotil...</td>\n",
       "    </tr>\n",
       "    <tr>\n",
       "      <th>2902</th>\n",
       "      <td>qu elle film  je conseil a tous ce chef d oeuv...</td>\n",
       "      <td>qu elle film  je conseil a tous ce chef d oeuv...</td>\n",
       "      <td>film conseil a tous chef oeuvr fer pass h bonheur</td>\n",
       "    </tr>\n",
       "    <tr>\n",
       "      <th>2903</th>\n",
       "      <td>bon  dicaprio commence vraiment a me gonfler  ...</td>\n",
       "      <td>bon  dicaprio commence vraiment a me gonfler  ...</td>\n",
       "      <td>bon dicaprio commenc vrai a gonfl fais part ce...</td>\n",
       "    </tr>\n",
       "    <tr>\n",
       "      <th>2904</th>\n",
       "      <td>apres avoir vu ce film  je n ai qu une conclus...</td>\n",
       "      <td>apres avoir vu ce film  je n ai qu une conclus...</td>\n",
       "      <td>apre avoir vu film conclus christoph nolan gen...</td>\n",
       "    </tr>\n",
       "  </tbody>\n",
       "</table>\n",
       "<p>2905 rows × 3 columns</p>\n",
       "</div>"
      ],
      "text/plain": [
       "                                            Commentaire  \\\n",
       "0     une bonne suite pour les aventures de sonic au...   \n",
       "1     cette suite de sonic est incroyable  le fan qu...   \n",
       "2     super film de ouf  le fait que knuckles soit d...   \n",
       "3     tres bon film ont retrouve ce qui fait lesprit...   \n",
       "4     bon alors je trouve que la transposition de l ...   \n",
       "...                                                 ...   \n",
       "2900  agreablement surpris  des effets speciaux impr...   \n",
       "2901  enorme     le jeu de tous les acteurs est tres...   \n",
       "2902  qu elle film  je conseil a tous ce chef d oeuv...   \n",
       "2903  bon  dicaprio commence vraiment a me gonfler  ...   \n",
       "2904  apres avoir vu ce film  je n ai qu une conclus...   \n",
       "\n",
       "                                           Traitement_1  \\\n",
       "0     une bonne suite pour les aventures de sonic au...   \n",
       "1     cette suite de sonic est incroyable  le fan qu...   \n",
       "2     super film de ouf  le fait que knuckles soit d...   \n",
       "3     tres bon film ont retrouve ce qui fait lesprit...   \n",
       "4     bon alors je trouve que la transposition de l ...   \n",
       "...                                                 ...   \n",
       "2900  agreablement surpris  des effets speciaux impr...   \n",
       "2901  enorme     le jeu de tous les acteurs est tres...   \n",
       "2902  qu elle film  je conseil a tous ce chef d oeuv...   \n",
       "2903  bon  dicaprio commence vraiment a me gonfler  ...   \n",
       "2904  apres avoir vu ce film  je n ai qu une conclus...   \n",
       "\n",
       "                                           Traitement_2  \n",
       "0     bon suit aventur sonic cinem dej premi film et...  \n",
       "1     cet suit sonic incroi fan rav quand jou megadr...  \n",
       "2     sup film ouf fait knuckl cot eggman debut refe...  \n",
       "3     tre bon film retrouv fait lespr sonic film cla...  \n",
       "4     bon alor trouv transposit univer sonic mond re...  \n",
       "...                                                 ...  \n",
       "2900  agreabl surpr effet special impression paris r...  \n",
       "2901  enorm jeu tous acteur tre bien mem mario cotil...  \n",
       "2902  film conseil a tous chef oeuvr fer pass h bonheur  \n",
       "2903  bon dicaprio commenc vrai a gonfl fais part ce...  \n",
       "2904  apre avoir vu film conclus christoph nolan gen...  \n",
       "\n",
       "[2905 rows x 3 columns]"
      ]
     },
     "execution_count": 557,
     "metadata": {},
     "output_type": "execute_result"
    }
   ],
   "source": [
    "def setClassBin(i):\n",
    "    if (float(i.replace(',', '.')) > 3):\n",
    "        return 1\n",
    "    else:\n",
    "        return 0\n",
    "yList = [setClassBin(x) for x in df['Note']]\n",
    "df.drop(['Note'], axis=1)"
   ]
  },
  {
   "cell_type": "code",
   "execution_count": 558,
   "id": "6a05c105",
   "metadata": {},
   "outputs": [],
   "source": [
    "df[\"Note\"] = yList"
   ]
  },
  {
   "cell_type": "code",
   "execution_count": 559,
   "id": "79b74c0b",
   "metadata": {},
   "outputs": [
    {
     "data": {
      "text/html": [
       "<div>\n",
       "<style scoped>\n",
       "    .dataframe tbody tr th:only-of-type {\n",
       "        vertical-align: middle;\n",
       "    }\n",
       "\n",
       "    .dataframe tbody tr th {\n",
       "        vertical-align: top;\n",
       "    }\n",
       "\n",
       "    .dataframe thead th {\n",
       "        text-align: right;\n",
       "    }\n",
       "</style>\n",
       "<table border=\"1\" class=\"dataframe\">\n",
       "  <thead>\n",
       "    <tr style=\"text-align: right;\">\n",
       "      <th></th>\n",
       "      <th>Note</th>\n",
       "      <th>Commentaire</th>\n",
       "      <th>Traitement_1</th>\n",
       "      <th>Traitement_2</th>\n",
       "    </tr>\n",
       "  </thead>\n",
       "  <tbody>\n",
       "    <tr>\n",
       "      <th>0</th>\n",
       "      <td>1</td>\n",
       "      <td>une bonne suite pour les aventures de sonic au...</td>\n",
       "      <td>une bonne suite pour les aventures de sonic au...</td>\n",
       "      <td>bon suit aventur sonic cinem dej premi film et...</td>\n",
       "    </tr>\n",
       "    <tr>\n",
       "      <th>1</th>\n",
       "      <td>1</td>\n",
       "      <td>cette suite de sonic est incroyable  le fan qu...</td>\n",
       "      <td>cette suite de sonic est incroyable  le fan qu...</td>\n",
       "      <td>cet suit sonic incroi fan rav quand jou megadr...</td>\n",
       "    </tr>\n",
       "    <tr>\n",
       "      <th>2</th>\n",
       "      <td>1</td>\n",
       "      <td>super film de ouf  le fait que knuckles soit d...</td>\n",
       "      <td>super film de ouf  le fait que knuckles soit d...</td>\n",
       "      <td>sup film ouf fait knuckl cot eggman debut refe...</td>\n",
       "    </tr>\n",
       "    <tr>\n",
       "      <th>3</th>\n",
       "      <td>1</td>\n",
       "      <td>tres bon film ont retrouve ce qui fait lesprit...</td>\n",
       "      <td>tres bon film ont retrouve ce qui fait lesprit...</td>\n",
       "      <td>tre bon film retrouv fait lespr sonic film cla...</td>\n",
       "    </tr>\n",
       "    <tr>\n",
       "      <th>4</th>\n",
       "      <td>0</td>\n",
       "      <td>bon alors je trouve que la transposition de l ...</td>\n",
       "      <td>bon alors je trouve que la transposition de l ...</td>\n",
       "      <td>bon alor trouv transposit univer sonic mond re...</td>\n",
       "    </tr>\n",
       "    <tr>\n",
       "      <th>...</th>\n",
       "      <td>...</td>\n",
       "      <td>...</td>\n",
       "      <td>...</td>\n",
       "      <td>...</td>\n",
       "    </tr>\n",
       "    <tr>\n",
       "      <th>2900</th>\n",
       "      <td>0</td>\n",
       "      <td>agreablement surpris  des effets speciaux impr...</td>\n",
       "      <td>agreablement surpris  des effets speciaux impr...</td>\n",
       "      <td>agreabl surpr effet special impression paris r...</td>\n",
       "    </tr>\n",
       "    <tr>\n",
       "      <th>2901</th>\n",
       "      <td>1</td>\n",
       "      <td>enorme     le jeu de tous les acteurs est tres...</td>\n",
       "      <td>enorme     le jeu de tous les acteurs est tres...</td>\n",
       "      <td>enorm jeu tous acteur tre bien mem mario cotil...</td>\n",
       "    </tr>\n",
       "    <tr>\n",
       "      <th>2902</th>\n",
       "      <td>1</td>\n",
       "      <td>qu elle film  je conseil a tous ce chef d oeuv...</td>\n",
       "      <td>qu elle film  je conseil a tous ce chef d oeuv...</td>\n",
       "      <td>film conseil a tous chef oeuvr fer pass h bonheur</td>\n",
       "    </tr>\n",
       "    <tr>\n",
       "      <th>2903</th>\n",
       "      <td>1</td>\n",
       "      <td>bon  dicaprio commence vraiment a me gonfler  ...</td>\n",
       "      <td>bon  dicaprio commence vraiment a me gonfler  ...</td>\n",
       "      <td>bon dicaprio commenc vrai a gonfl fais part ce...</td>\n",
       "    </tr>\n",
       "    <tr>\n",
       "      <th>2904</th>\n",
       "      <td>1</td>\n",
       "      <td>apres avoir vu ce film  je n ai qu une conclus...</td>\n",
       "      <td>apres avoir vu ce film  je n ai qu une conclus...</td>\n",
       "      <td>apre avoir vu film conclus christoph nolan gen...</td>\n",
       "    </tr>\n",
       "  </tbody>\n",
       "</table>\n",
       "<p>2905 rows × 4 columns</p>\n",
       "</div>"
      ],
      "text/plain": [
       "      Note                                        Commentaire  \\\n",
       "0        1  une bonne suite pour les aventures de sonic au...   \n",
       "1        1  cette suite de sonic est incroyable  le fan qu...   \n",
       "2        1  super film de ouf  le fait que knuckles soit d...   \n",
       "3        1  tres bon film ont retrouve ce qui fait lesprit...   \n",
       "4        0  bon alors je trouve que la transposition de l ...   \n",
       "...    ...                                                ...   \n",
       "2900     0  agreablement surpris  des effets speciaux impr...   \n",
       "2901     1  enorme     le jeu de tous les acteurs est tres...   \n",
       "2902     1  qu elle film  je conseil a tous ce chef d oeuv...   \n",
       "2903     1  bon  dicaprio commence vraiment a me gonfler  ...   \n",
       "2904     1  apres avoir vu ce film  je n ai qu une conclus...   \n",
       "\n",
       "                                           Traitement_1  \\\n",
       "0     une bonne suite pour les aventures de sonic au...   \n",
       "1     cette suite de sonic est incroyable  le fan qu...   \n",
       "2     super film de ouf  le fait que knuckles soit d...   \n",
       "3     tres bon film ont retrouve ce qui fait lesprit...   \n",
       "4     bon alors je trouve que la transposition de l ...   \n",
       "...                                                 ...   \n",
       "2900  agreablement surpris  des effets speciaux impr...   \n",
       "2901  enorme     le jeu de tous les acteurs est tres...   \n",
       "2902  qu elle film  je conseil a tous ce chef d oeuv...   \n",
       "2903  bon  dicaprio commence vraiment a me gonfler  ...   \n",
       "2904  apres avoir vu ce film  je n ai qu une conclus...   \n",
       "\n",
       "                                           Traitement_2  \n",
       "0     bon suit aventur sonic cinem dej premi film et...  \n",
       "1     cet suit sonic incroi fan rav quand jou megadr...  \n",
       "2     sup film ouf fait knuckl cot eggman debut refe...  \n",
       "3     tre bon film retrouv fait lespr sonic film cla...  \n",
       "4     bon alor trouv transposit univer sonic mond re...  \n",
       "...                                                 ...  \n",
       "2900  agreabl surpr effet special impression paris r...  \n",
       "2901  enorm jeu tous acteur tre bien mem mario cotil...  \n",
       "2902  film conseil a tous chef oeuvr fer pass h bonheur  \n",
       "2903  bon dicaprio commenc vrai a gonfl fais part ce...  \n",
       "2904  apre avoir vu film conclus christoph nolan gen...  \n",
       "\n",
       "[2905 rows x 4 columns]"
      ]
     },
     "execution_count": 559,
     "metadata": {},
     "output_type": "execute_result"
    }
   ],
   "source": [
    "df"
   ]
  },
  {
   "cell_type": "markdown",
   "id": "3f0041ba",
   "metadata": {},
   "source": [
    "## Visualisation des notes"
   ]
  },
  {
   "cell_type": "code",
   "execution_count": 560,
   "id": "8a904bee",
   "metadata": {},
   "outputs": [],
   "source": [
    "# conversion de la colonne en float\n",
    "df['Note'] = df['Note'].astype(float)"
   ]
  },
  {
   "cell_type": "code",
   "execution_count": 561,
   "id": "2f7bd3d9",
   "metadata": {},
   "outputs": [
    {
     "data": {
      "text/plain": [
       "2905"
      ]
     },
     "execution_count": 561,
     "metadata": {},
     "output_type": "execute_result"
    }
   ],
   "source": [
    "# Nombre total de notes\n",
    "len(df['Note'])"
   ]
  },
  {
   "cell_type": "code",
   "execution_count": 562,
   "id": "6e3b8809",
   "metadata": {},
   "outputs": [
    {
     "name": "stdout",
     "output_type": "stream",
     "text": [
      "Nb de commentaires positifs :  2234 \n",
      "Nb de commentaires négatifs :  671\n",
      "Nombre total de commentaires :  2905\n"
     ]
    }
   ],
   "source": [
    "somme_p = 0\n",
    "somme_n = 0\n",
    "\n",
    "for x in df['Note']:\n",
    "    if x == 1 :\n",
    "        somme_p += 1\n",
    "    elif x == 0 :\n",
    "        somme_n += 1\n",
    "\n",
    "print(\"Nb de commentaires positifs : \", somme_p, \"\\nNb de commentaires négatifs : \", somme_n)\n",
    "\n",
    "# somme totale\n",
    "total = somme_p + somme_n\n",
    "print(\"Nombre total de commentaires : \", total)\n",
    "    "
   ]
  },
  {
   "cell_type": "markdown",
   "id": "d70ecec6",
   "metadata": {},
   "source": [
    "### Pourcentage de commentaires négatifs"
   ]
  },
  {
   "cell_type": "code",
   "execution_count": 563,
   "id": "5640570d",
   "metadata": {},
   "outputs": [
    {
     "name": "stdout",
     "output_type": "stream",
     "text": [
      "23.098106712564544 %\n"
     ]
    }
   ],
   "source": [
    "print(somme_n/total*100, \"%\")"
   ]
  },
  {
   "cell_type": "markdown",
   "id": "cd015268",
   "metadata": {},
   "source": [
    "### Pourcentage de commentaires positifs"
   ]
  },
  {
   "cell_type": "code",
   "execution_count": 564,
   "id": "f2c70e4a",
   "metadata": {},
   "outputs": [
    {
     "name": "stdout",
     "output_type": "stream",
     "text": [
      "76.90189328743546 %\n"
     ]
    }
   ],
   "source": [
    "print(somme_p/total * 100, \"%\")"
   ]
  },
  {
   "cell_type": "markdown",
   "id": "ef002038",
   "metadata": {},
   "source": [
    "### La note moyenne est de : "
   ]
  },
  {
   "cell_type": "code",
   "execution_count": 565,
   "id": "b28466e3",
   "metadata": {},
   "outputs": [
    {
     "data": {
      "text/plain": [
       "0.7690189328743545"
      ]
     },
     "execution_count": 565,
     "metadata": {},
     "output_type": "execute_result"
    }
   ],
   "source": [
    "df['Note'].mean()"
   ]
  },
  {
   "cell_type": "markdown",
   "id": "28f0db32",
   "metadata": {},
   "source": [
    "### Visualisation graphique : "
   ]
  },
  {
   "cell_type": "code",
   "execution_count": 566,
   "id": "b7e898bd",
   "metadata": {},
   "outputs": [
    {
     "data": {
      "text/plain": [
       "<AxesSubplot:ylabel='Note'>"
      ]
     },
     "execution_count": 566,
     "metadata": {},
     "output_type": "execute_result"
    },
    {
     "data": {
      "image/png": "[encoded data removed]",
      "text/plain": [
       "<Figure size 504x504 with 1 Axes>"
      ]
     },
     "metadata": {},
     "output_type": "display_data"
    }
   ],
   "source": [
    "df[\"Note\"].value_counts(normalize=True).plot.pie(legend=True, figsize=(7, 7))"
   ]
  },
  {
   "cell_type": "code",
   "execution_count": 567,
   "id": "825d90ab",
   "metadata": {},
   "outputs": [
    {
     "data": {
      "text/plain": [
       "<AxesSubplot:xlabel='Note'>"
      ]
     },
     "execution_count": 567,
     "metadata": {},
     "output_type": "execute_result"
    },
    {
     "data": {
      "image/png": "[encoded data removed]",
      "text/plain": [
       "<Figure size 432x288 with 1 Axes>"
      ]
     },
     "metadata": {
      "needs_background": "light"
     },
     "output_type": "display_data"
    }
   ],
   "source": [
    "t = pd.crosstab(df.Note, \"Nombre de notes\")\n",
    "\n",
    "t.plot.bar(rot=0)"
   ]
  },
  {
   "cell_type": "markdown",
   "id": "18d35278",
   "metadata": {},
   "source": [
    "#### Conclusion : \n",
    "\n",
    "Il y a donc une prépondérance de notes positives, ce qui risque de fausser notre modèle lors de l'entraînement de ce dernier. Pour résoudre ce problème il faut augmenter le jeu de données des commentaires négatifs."
   ]
  },
  {
   "cell_type": "markdown",
   "id": "185b58ce",
   "metadata": {},
   "source": [
    "---"
   ]
  },
  {
   "cell_type": "markdown",
   "id": "3f3cd866",
   "metadata": {},
   "source": [
    "# Data augmentation"
   ]
  },
  {
   "cell_type": "markdown",
   "id": "4400a07e",
   "metadata": {},
   "source": [
    "**Note : Cette partie n'est pas à jour.\n",
    "Par ailleurs, l'exécution du programme de traduction met un certain temps à se réaliser (30min environ) d'où les enregistrements en fichier txt.**"
   ]
  },
  {
   "cell_type": "markdown",
   "id": "d150d5f2",
   "metadata": {},
   "source": [
    "On va récupérer tous les commentaires négatifs, récupérer chaque mot et les traduire en anglais. Puis on va à nouveau les traduire, en français cette fois. Cela nous permettra d'obtenir des synonymes et grossir ainsi notre data."
   ]
  },
  {
   "cell_type": "code",
   "execution_count": 38,
   "id": "c50f0ecc",
   "metadata": {},
   "outputs": [],
   "source": [
    "# filtre pour ne récupérer que les commentaires négatifs\n",
    "\n",
    "df_neg = df[df[\"Note\"]==0]"
   ]
  },
  {
   "cell_type": "code",
   "execution_count": 39,
   "id": "db26588b",
   "metadata": {},
   "outputs": [
    {
     "data": {
      "text/html": [
       "<div>\n",
       "<style scoped>\n",
       "    .dataframe tbody tr th:only-of-type {\n",
       "        vertical-align: middle;\n",
       "    }\n",
       "\n",
       "    .dataframe tbody tr th {\n",
       "        vertical-align: top;\n",
       "    }\n",
       "\n",
       "    .dataframe thead th {\n",
       "        text-align: right;\n",
       "    }\n",
       "</style>\n",
       "<table border=\"1\" class=\"dataframe\">\n",
       "  <thead>\n",
       "    <tr style=\"text-align: right;\">\n",
       "      <th></th>\n",
       "      <th>Note</th>\n",
       "      <th>Commentaire</th>\n",
       "    </tr>\n",
       "  </thead>\n",
       "  <tbody>\n",
       "    <tr>\n",
       "      <th>4</th>\n",
       "      <td>0</td>\n",
       "      <td>bon alors je trouve que la transposition de l ...</td>\n",
       "    </tr>\n",
       "    <tr>\n",
       "      <th>5</th>\n",
       "      <td>0</td>\n",
       "      <td>malgre deux nouveaux personnages de l univers ...</td>\n",
       "    </tr>\n",
       "    <tr>\n",
       "      <th>10</th>\n",
       "      <td>0</td>\n",
       "      <td>sonic   est une suite paresseuse et opportuni...</td>\n",
       "    </tr>\n",
       "    <tr>\n",
       "      <th>11</th>\n",
       "      <td>0</td>\n",
       "      <td>postgeneriqueplus ambitieux que le premier sur...</td>\n",
       "    </tr>\n",
       "    <tr>\n",
       "      <th>14</th>\n",
       "      <td>0</td>\n",
       "      <td>sonic se reve en justicier  facon superheros  ...</td>\n",
       "    </tr>\n",
       "    <tr>\n",
       "      <th>...</th>\n",
       "      <td>...</td>\n",
       "      <td>...</td>\n",
       "    </tr>\n",
       "    <tr>\n",
       "      <th>2883</th>\n",
       "      <td>0</td>\n",
       "      <td>un traqueur de reves est devenu un fugitif sa ...</td>\n",
       "    </tr>\n",
       "    <tr>\n",
       "      <th>2884</th>\n",
       "      <td>0</td>\n",
       "      <td>tres bon film  dommage que la scene final gach...</td>\n",
       "    </tr>\n",
       "    <tr>\n",
       "      <th>2890</th>\n",
       "      <td>0</td>\n",
       "      <td>une etoile pour les effetssinon le reste</td>\n",
       "    </tr>\n",
       "    <tr>\n",
       "      <th>2897</th>\n",
       "      <td>0</td>\n",
       "      <td>scenario sans consistance et acteur principal ...</td>\n",
       "    </tr>\n",
       "    <tr>\n",
       "      <th>2900</th>\n",
       "      <td>0</td>\n",
       "      <td>agreablement surpris  des effets speciaux impr...</td>\n",
       "    </tr>\n",
       "  </tbody>\n",
       "</table>\n",
       "<p>671 rows × 2 columns</p>\n",
       "</div>"
      ],
      "text/plain": [
       "      Note                                        Commentaire\n",
       "4        0  bon alors je trouve que la transposition de l ...\n",
       "5        0  malgre deux nouveaux personnages de l univers ...\n",
       "10       0   sonic   est une suite paresseuse et opportuni...\n",
       "11       0  postgeneriqueplus ambitieux que le premier sur...\n",
       "14       0  sonic se reve en justicier  facon superheros  ...\n",
       "...    ...                                                ...\n",
       "2883     0  un traqueur de reves est devenu un fugitif sa ...\n",
       "2884     0  tres bon film  dommage que la scene final gach...\n",
       "2890     0           une etoile pour les effetssinon le reste\n",
       "2897     0  scenario sans consistance et acteur principal ...\n",
       "2900     0  agreablement surpris  des effets speciaux impr...\n",
       "\n",
       "[671 rows x 2 columns]"
      ]
     },
     "execution_count": 39,
     "metadata": {},
     "output_type": "execute_result"
    }
   ],
   "source": [
    "df_neg"
   ]
  },
  {
   "cell_type": "code",
   "execution_count": 41,
   "id": "739e356a",
   "metadata": {},
   "outputs": [],
   "source": [
    "# On tokenise et supprime les stopwords\n",
    "\n",
    "liste_neg = []\n",
    "\n",
    "\n",
    "for element in df_neg[\"Commentaire\"] :\n",
    "    stopWords = set(stopwords.words('french'))\n",
    "    words = word_tokenize(element)\n",
    "    for w in words :\n",
    "        if w not in stopWords:\n",
    "#         w = w.lower()\n",
    "            w = w.replace('\\n', ' ')\n",
    "\n",
    "            liste_neg.append(w)"
   ]
  },
  {
   "cell_type": "markdown",
   "id": "4b7b6112",
   "metadata": {},
   "source": [
    "### Suppression des mots inutiles dans les commentaires négatifs"
   ]
  },
  {
   "cell_type": "code",
   "execution_count": 43,
   "id": "15e885a8",
   "metadata": {},
   "outputs": [
    {
     "data": {
      "image/png": "[encoded data removed]",
      "text/plain": [
       "<Figure size 432x288 with 1 Axes>"
      ]
     },
     "metadata": {
      "needs_background": "light"
     },
     "output_type": "display_data"
    }
   ],
   "source": [
    "fdist = FreqDist(liste_neg)\n",
    "\n",
    "# Frequency Distribution Plot\n",
    "import matplotlib.pyplot as plt\n",
    "fdist.plot(30,cumulative=False)\n",
    "plt.show()"
   ]
  },
  {
   "cell_type": "code",
   "execution_count": 44,
   "id": "ed5213c6",
   "metadata": {},
   "outputs": [
    {
     "data": {
      "text/plain": [
       "35179"
      ]
     },
     "execution_count": 44,
     "metadata": {},
     "output_type": "execute_result"
    }
   ],
   "source": [
    "# nombre d'éléments dans la liste\n",
    "len(liste_neg)"
   ]
  },
  {
   "cell_type": "code",
   "execution_count": 45,
   "id": "7e6aa429",
   "metadata": {},
   "outputs": [],
   "source": [
    "# suppression des termes inutiles\n",
    "liste_supp = [\"a\", \"film\", \"films\", \"sonic\", \"nolan\", \"inception\", \"scenario\", \"spoiler\", \"jim\", \"carrey\"]\n",
    "\n",
    "for x in liste_neg :\n",
    "    if x in liste_supp :\n",
    "        liste_neg.remove(x)"
   ]
  },
  {
   "cell_type": "code",
   "execution_count": 46,
   "id": "112473ce",
   "metadata": {},
   "outputs": [
    {
     "data": {
      "text/plain": [
       "32207"
      ]
     },
     "execution_count": 46,
     "metadata": {},
     "output_type": "execute_result"
    }
   ],
   "source": [
    "# nombre d'éléments dans la liste\n",
    "len(liste_neg)"
   ]
  },
  {
   "cell_type": "code",
   "execution_count": 48,
   "id": "7d200147",
   "metadata": {},
   "outputs": [
    {
     "data": {
      "image/png": "[encoded data removed]",
      "text/plain": [
       "<Figure size 432x288 with 1 Axes>"
      ]
     },
     "metadata": {
      "needs_background": "light"
     },
     "output_type": "display_data"
    }
   ],
   "source": [
    "# Frequency Distribution Plot\n",
    "import matplotlib.pyplot as plt\n",
    "fdist.plot(30,cumulative=False)\n",
    "plt.show()"
   ]
  },
  {
   "cell_type": "code",
   "execution_count": 49,
   "id": "2f46aea4",
   "metadata": {
    "collapsed": true
   },
   "outputs": [
    {
     "name": "stdout",
     "output_type": "stream",
     "text": [
      "['bon', 'alors', 'trouve', 'transposition', 'univers', 'monde', 'reel', 'assez', 'reussie', 'personnages', 'attachants', 'ecriture', 'plutot', 'correcte', 'rigolos', 'succedent', 'succulent', 'robotnik', 'completement', 'barge', 'contre', 'vrai', 'passe', 'ans', 'risque', 'ennuyer', 'tant', 'plat', 'quarantenaires', 'quete', 'references', 'approchant', 'materiau', 'orignal', 'aussi', 'peu', 'decus', 'manque', 'substance', 'disons', 'ca', 'pu', 'etre', 'pire', 'malgre', 'deux', 'nouveaux', 'jeu', 'video', 'knuckles', 'tails', 'loin', 'catchline', 'affiche', 'fois', 'plus', 'fun', 'tend', 'vers', 'moins', 'etonnement', 'si', 'refere', 'premier', 'opus', 'sorti', 'double', 'merite', 'nouveaute', 'effet', 'surprisec', 'malheureusement', 'suites', 'faut', 'savoir', 'conforter', 'fans', 'zone', 'connue', 'appreciee', 'reussir', 'egalement', 'relancer', 'interet', 'osant', 'quelques', 'nouvelles', 'recettesce', 'version', 'distrait', 'amuse', 'rythme', 'souvent', 'soutenu', 'certain', 'arrive', 'vraiment', 'insuffler', 'quelque', 'chose', 'totalement', 'novateur', 'comparaison', 'predecesseurjim', 'toujours', 'pique', 'plaisant', 'finalement', 'leger', 'audessous', 'numero', 'site', 'cinemadourgfreefr', 'suite', 'paresseuse', 'opportuniste', 'conserve', 'defauts', 'predecesseur', 'tres', 'laid', 'stupide', 'sans', 'grand', 'interethttps', 'wwwcineseriecomcritiquescinesonicunesuiteopportunistehttps', 'wwwcineseriecomnewscinemasonicfocussurlascenepostgenerique', 'postgeneriqueplus', 'ambitieux', 'nombreux', 'elements', 'autre', 'cote', 'etait', 'public', 'enfant', 'beta', 'adultes', 'ester', 'eggs', 'seconde', 'lecture', 'bien', 'legere', 'etcmais', 'avant', 'tout', 'plaire', 'jeunes', 'enfants', 'plait', 'bonussalle', 'comble', 'retrouve', 'enfonce', 'siege', 'insupportable', 'pousses', 'paroxysme', 'vans', 'dignes', 'dun', 'siecle', 'fonctionnant', 'faisant', 'mieux', 'sourire', 'gras', 'preado', 'roue', 'libre', 'alias', 'caricatural', 'gadgets', 'cochonneries', 'plastique', 'directement', 'sortis', 'magasins', 'produits', 'derives', 'lot', 'sucettes', 'robots', 'emeraudes', 'refs', 'differents', 'jeux', 'etc', 'nayant', 'jamais', 'emballage', 'sequence', 'seattle', 'terminant', 'leau', 'sortant', 'egouts', 'regardant', 'spectacle', 'sous', 'pleine', 'lune', 'linstar', 'debut', 'adventure', 'mot', 'chaos', 'apparaissant', 'meme', 'titre', 'journal', 'lendemain', 'napparaisse', 'ni', 'tikal', 'tous', 'appareils', 'quayant', 'traits', 'fideles', 'blanc', 'immacule', 'luimeme', 'enfin', 'veste', 'rouge', 'celle', 'lon', 'connait', 'biplan', 'lieu', 'detre', 'jaune', 'audela', 'voix', 'particuliere', 'vf', 'nest', 'developpe', 'lemeraude', 'mere', 'parce', 'quil', 'puissent', 'prendre', 'main', 'taille', 'semblable', 'quanta', 'elles', 'retrouvent', 'minuscules', 'coup', 'ridicules', 'plans', 'penser', 'ceux', 'foret', 'labyrinthique', 'uniquement', 'deco', 'yeux', 'knuckle', 'silluminent', 'sait', 'trop', 'pourquoi', 'lile', 'senvolant', 'parallele', 'knukles', 'utilise', 'points', 'escalader', 'vole', 'tenant', 'utilisant', 'forme', 'spherique', 'battre', 'dont', 'vitesse', 'permet', 'retrouver', 'coller', 'parois', 'pleins', 'details', 'propres', 'montres', 'final', 'second', 'plan', 'surf', 'debris', 'robot', 'derriere', 'nouvelle', 'scene', 'danse', 'rien', 'faire', 'beaucoup', 'longue', 'genante', 'humour', 'peterroter', 'pousse', 'detail', 'arrivent', 'gagnant', 'infantilite', 'cassant', 'leffort', 'facilite', 'trois', 'pages', 'parvient', 'fidele', 'lunivers', 'montre', 'predecesseurplus', 'riche', 'abouti', 'nombreuses', 'foistrop', 'joyeux', 'passages', 'grave', 'scenes', 'destruction', 'dernier', 'acte', 'saisissantes', 'blesse', 'recouvert', 'boue', 'blessures', 'front', 'famille', 'humaine', 'hautement', 'dangereux', 'risquant', 'mort', 'lhumeur', 'eteinteune', 'introduction', 'gun', 'peut', 'presque', 'manquer', 'reve', 'justicier', 'facon', 'superheros', 'sauvant', 'veuve', 'lorphelin', 'petite', 'ville', 'green', 'hills', 'sauf', 'dr', 'retour', 'decide', 'eliminer', 'bonne', 'toute', 'herisson', 'anthropomorphequi', 'cru', 'premiere', 'adaptation', 'rencontrerait', 'autant', 'succes', 'rapportant', 'mise', 'depart', 'quun', 'incroyable', 'badbuzz', 'precede', 'sortie', 'mondiale', 'cest', 'donc', 'reelle', 'surprise', 'paramount', 'donne', 'feu', 'vert', 'lancer', 'cette', 'purement', 'mercantile', '&', 'sadresse', 'essentiellement', 'heurehistoire', 'rajouter', 'consistance', 'script', 'gueguerre', 'entre', 'moment', 'devient', 'redondant', 'viennent', 'recit', 'lechidne', 'dreadlocks', 'renard', 'queues', 'clairement', 'oriente', 'tranche', 'dage', 'voir', 'lhumour', 'gags', 'bas', 'question', 'flatulence', 'oublier', 'cite', 'fessiercopter', 'secondaires', 'james', 'marsden', 'tete', 'servent', 'quant', 'meubler', 'sousintrigues', 'toutes', 'futiles', 'unes', 'autres', 'visiblement', 'jeff', 'fowler', 'quoi', 'tente', 'mal', 'trouver', 'lexemple', 'produit', 'calibre', 'auditoire', 'gamins', 'devant', 'insipide', 'fade', 'contente', 'remplissage', 'pendant', 'longues', 'heures', 'seul', 'maison', 'transforme', 'projetx', 'siberie', 'battle', 'bref', 'largement', 'chier', 'dailleurs', 'demande', 'encore', 'quel', 'linteret', 'pop', 'culture', 'napportent', 'strictement', 'pelemele', 'batman', 'uber', 'professor', 'x', 'soldat', 'hiver', 'monopolyalors', 'sortait', 'salles', 'fevrier', 'an', 'tard', 'tournage', 'volet', 'demarrait', 'realise', 'precipitation', 'postprod', 'mois', 'surprenant', 'cgi', 'deprimants', 'textures', 'foirees', 'reprises', 'interactions', 'acteurs', 'collent', 'lennui', 'pres', 'den', 'finir', 'puisquun', 'eme', 'deja', 'annonce', 'comme', 'atteste', 'postgenerique', 'lapparition', 'shadow', 'http', 'bitlycinephilenostalgeek', 'twittercomb_renger', 'gamin', 'lavouer', 'jai', 'horrible', 'seance', 'juste', 'enfantin', 'quoila', 'cetait', 'limite', 'fait', 'caissebrefpublie', 'avril', 'laborieuse', 'er', 'notera', 'sympathique', 'decors', 'ressemble', 'certains', 'niveaux', 'enchaine', 'mauvaises', 'blagues', 'certaines', 'sert', 'intrigue', 'mariage', 'hawai', 'soi', 'disant', 'pauvres', 'lignee', 'carrey', 'role', 'mesure', 'bonnes', 'valeurs', 'niveau', 'helas', 'placements', 'derangeant', 'jeune', 'gosse', 'voila', 'gros', 'probleme', 'idee', 'fesait', 'buddy', 'movir', 'fini', 'speciaux', 'partie', 'ecrit', 'met', 'couleur', 'flashi', 'fan', 'esperons', 'meilleur', 'car', 'ensemble', 'meh', 'mauvais', 'gachent', 'actions', 'abord', 'parlons', 'sais', 'base', 'personnage', 'comique', 'prend', 'situations', 'durant', 'moments', 'tensions', 'constant', 'gestuels', 'plombent', 'defaut', 'francaise', 'dialogues', 'forces', 'tellement', 'mouer', 'degre', 'deuxieme', 'difference', 'action', 'sort', 'immersionmaintenant', 'cliches', 'sorte', 'lecon', 'morale', 'super', 'heros', 'font', 'ceci', 'cela', 'amis', 'important', 'blablabla', 'ete', 'subtile', 'dit', 'martel', 'lecons', 'moral', 'fort', 'migraineset', 'evolution', 'compare', 'geni', 'fou', 'narcissique', 'egocentrique', 'bords', 'deviens', 'veritable', 'maboule', 'extasie', 'gaz', 'hilarant', 'faute', 'interessante', 'moitie', 'mis', 'lourd', 'ramolli', 'caractere', 'devenir', 'tsundere', 'fin', 'persos', 'leurs', 'focus', 'regarde', 'piece', 'theatre', 'comiqueet', 'post', 'generique', 'nouveau', 'perso', 'connaissez', 'licence', 'savez', 'parle', 'attend', 'oh', 'vfx', 'etaient', 'bizarres', 'terrible', 'petit', 'enormement', 'cestadire', 'instaure', 'nen', 'friandla', 'realisation', 'classique', 'satisfaisante', 'nulle', 'exceptionnelle', 'metteur', 'rendre', 'impressionnant', 'effets', 'cartoonesques', 'protagonistes', 'explosions', 'autressinon', 'ny', 'original', 'lhistoire', 'presentee', 'pense', 'profondeur', 'background', 'developpes', 'va', 'continuite', 'parfois', 'peuvent', 'decrocher', 'sourireje', 'conseille', 'sattendre', 'long', 'bancal', 'gagnerait', 'qualite', 'retirait', 'sequences', 'humains', 'sketchs', 'critique', 'commercial', 'evident', 'allait', 'rapidement', 'chantier', 'ouverte', 'notamment', 'arrivee', 'appele', 'prototype', 'racontee', 'quand', 'fonctionner', 'incluant', 'bigger', 'its', 'better', 'eh', 'forcement', 'mechants', 'posant', 'fond', 'verts', 'affreux', 'faudrait', 'exploser', 'budget', 'non', 'hawaii', 'temple', 'rappelant', 'fortement', 'indiana', 'joneson', 'sent', 'pretexte', 'multiplie', 'apparitions', 'bad', 'guys', 'fonctionne', 'etrangement', 'premierla', 'provenait', 'principalement', 'bleu', 'ici', 'dissimines', 'travers', 'horripilants', 'plusieurs', 'rempilent', 'camera', 'revient', 'originalite', 'centre', 'preoccupationssonic', 'temps', 'poser', 'bases', 'encombrer', 'veritables', 'enjeux', 'menace', 'habitants', 'dis', 'haut', 'ambiance', 'visuels', 'allegrement', 'pompes', 'licences', 'connues', 'publicon', 'navigue', 'urbaine', 'productions', 'dc', 'clins', 'espionnage', 'rapproche', 'sagas', 'reputees', 'esprit', 'sega', 'pourtant', 'relegue', 'ressembler', 'venantle', 'destines', 'devrait', 'bacleeje', 'compte', 'nombre', 'facilites', 'bar', 'facile', 'introduite', 'histoire', 'deus', 'ex', 'machina', 'permettent', 'avancer', 'problemes', 'sortir', 'importes', 'quels', 'appel', 'misant', 'enchainement', 'peripeties', 'detriment', 'vraisemblances', 'logique', 'concentre', 'recherche', 'artefact', 'hyper', 'puissant', 'emeraude', 'verte', 'obtenir', 'puissance', 'hors', 'commun', 'vont', 'devoir', 'rechercher', 'globe', 'mette', 'dessus', 'ci', '%', 'blockbusters', 'repassera', 'oblige', 'multiplies', 'bonheur', 'totale', 'air', 'amuser', 'lequel', 'investit', 'nouvel', 'allie', 'mefaits', 'knucles', 'connus', 'afficionados', 'antagoniste', 'affronter', 'designs', 'ainsi', 'animation', 'proprement', 'bluffante', 'grande', 'reussite', 'metrage', 'oui', 'techniquement', 'parlant', 'globalement', 'passons', 'fonds', 'visibles', 'studios', 'evidents', 'marque', 'soin', 'apportes', 'apporte', 'credit', 'responsables', 'sfx', 'blur', 'oeuvre', 'avatar', 'man', 'of', 'steel', 'dire', 'volonte', 'aller', 'deluge', 'mettant', 'pedale', 'aspect', 'aventure', 'jeter', 'malgres', 'inherents', 'faciles', 'divertit', 'enchainent', 'amenent', 'parfait', 'equilibre', 'doses', 'mention', 'honorable', 'natasha', 'rothwell', 'hilarante', 'vedette', 'chacunes', 'etonnant', 'frenetique', 'ralentit', 'place', 'emotions', 'biais', 'longlaw', 'mentor', 'bienvenue', 'donnent', 'epaisseur', 'importance', 'amitie', 'mardsen', 'necessite', 'creer', 'liens', 'forts', 'epreuves', 'alimentent', 'regulierement', 'themes', 'universels', 'parlent', 'mondeevidemment', 'cas', 'type', 'projets', 'commerciaux', 'termine', 'happy', 'ending', 'hollywoodien', 'laisse', 'volontairement', 'teasant', 'venu', 'iconiqueexemple', 'typique', 'raconter', 'existe', 'seulement', 'penchant', 'spectaculaire', 'tiens', 'vite', 'vu', 'ailleurs', 'puisse', 'energie', 'inspirations', 'marche', 'oublie', 'honneur', 'videos', 'auquel', 'cense', 'annee', 'agit', 'divertissement', 'familial', 'suit', 'cahier', 'charges', 'balises', 'reserve', 'surprises', 'neanmoins', 'precedent', 'vintage', 'adaptes', 'annees', 'bete', 'niais', 'kitsch', 'outrancier', 'doit', 'surjeu', 'visuel', 'nineties', 'marvel', 'curieusement', 'envie', 'laisser', 'cerveau', 'vestiaire', 'ame', 'reste', 'divertissant', 'innovant', 'sil', 'betise', 'laideur', 'aine', 'doffrir', 'espace', 'voyons', 'cabotiner', 'sauter', 'partout', 'tomber', 'evoluer', 'sein', 'dune', 'champignons', 'geants', 'critiquer', 'gout', 'dilue', 'cafe', 'image', 'lacteur', 'conscient', 'mediocrite', 'projet', 'samuse', 'profite', 'labsence', 'dautorite', 'nimporte', 'commence', 'parodier', 'tom', 'hanks', 'cast', 'away', 'ami', 'imaginaire', 'plaque', 'rocher', 'recouvre', 'guere', 'demesure', 'ace', 'ventura', 'temoigne', 'contraire', 'galvanisation', 'hollywoodienne', 'degrade', 'pseudo', 'label', 'vulgaire', 'consommation', 'vendu', 'point', 'similaire', 'desastre', 'omnipresence', 'sterile', 'paralyse', 'contemporains', 'images', 'numeriques', 'absence', 'certainement', 'davantage', 'cinema', 'piteuses', 'adaptations', 'dirais', 'ennuirestez', 'jusqu', 'belles', 'reconnaitront', 'souci', 'choix', 'contenter', 'essayant', 'actuels', 'combo', 'audacieux', 'jim', 'exagere', 'top', 'eggman', 'jubilatoire', 'surtout', 'orientations', 'chaque', 'pensees', 'nettement', 'lors', 'sensas', 'different', 'endroits', 'visites', 'ressemblent', 'mondes', 'perd', 'noie', 'phases', 'transitoires', 'inutiles', 'concours', 'minutes', 'drole', 'genant', 'ramassis', 'mauvaise', 'convaincra', 'personne', 'esthetique', 'vide', 'huitre', 'mange', 'pourrait', 'croire', 'mammouths', 'adores', 'part', 'surjoues', 'niaises', 'parfoispour', 'anciens', 'plaisir', 'hype', 'suite\\\\\\\\', 'directe', 'demiheure', 'moyens', 'memes', 'ininteressants', 'plats', 'roles', 'ecrits', 'cabotine', 'degueulent', 'resume', 'note', 'adapte', 'passez', 'chemin', 'prise', 'suivre', 'decu', 'faible', 'longueurs', 'faitdu', 'cheminde', 'lintrigue', 'sortiront', 'intelligents', 'parents', 'doute', 'abrutis', 'lavalanche', 'deconseille', 'ennuyeux', 'plein', 'americaine', 'sonic', 'aujourd', 'hui', 'dirait', 'mode', 'complique', 'personnes', 'comprennent', 'croient', 'intelligentes', 'apprecient', 'histoires', 'entremelees', 'hormis', 'couper', 'souffle', 'style', 'contrainte', 'nullite', 'raisons', 'commerciales', 'theme', 'evoque', 'peutetre', 'christopher', 'realisateur', 'attendais', 'engouement', 'generalje', 'sentiment', 'frustration', 'semble', 'brouillon', 'foutu', 'visuellement', 'concept', 'fusillades', 'courses', 'genre', 'vieille', 'machine', 'permis', 'developper', 'rapports', 'liberation', 'apportait', 'commentaire', 'eclaire', 'phrase', 'hitchcock', 'vaut', 'partir', 'cliche', 'arriver', 'illustre', 'trajet', 'inverse', 'delire', 'demarre', 'dislocation', 'epoustouflante', 'traditionnelles', 'exposition', 'blockbuster', 'balise', 'john', 'woo', 'bondidee', 'appetissante', 'puis', 'ebouriffant', 'traitement', 'propose', 'entrer', 'reves', 'structure', 'apparente', 'fils', 'definition', 'matiere', 'rever', 'carre', 'demonstratif', 'conclusif', 'dramatiquement', 'terre', 'vieilles', 'intrigues', 'celebre', 'agent', 'secret', 'or', 'vouloir', 'rationnaliser', 'outrance', 'finit', 'tuer', 'inevitable', 'debarrasse', 'mystere', 'raison', 'quinception', 'cassetete', 'rasemotte', 'mulholland', 'drive', 'tutoyer', 'etoiles', 'haaaaaa', 'crains', 'froisser', 'uns', 'crois', 'decevantmoi', 'uvre', 'matrix', 'sauce', 'originale', 'pouvais', 'attendre', 'envergure', 'impensable', 'decolle', 'aucun', 'di', 'caprio', 'habitude', 'prenant', 'monolithique', 'bout', 'egarer', 'bousculer', 'passant', 'profondement', 'ennuyant', 'certes', 'valent', 'peine', 'etres', 'vus', 'diable', 'telle', 'questioninsignifiant', 'donner', 'impression', 'reflechir', 'comprendre', 'immense', 'regret', 'annoncer', 'sens', 'profond', 'voyez', 'lahaaaa', 'douleur', 'cour', 'instant', 'endormirde', 'telles', 'intolerables', 'lorsqu', 'aucune', 'signification', 'propre', 'egarons', 'tels', 'sentiers', 'salle', 'presente', 'pose', 'unique', 'toupie', 'tombe', 'croyais', 'eclater', 'rire', 'jours', 'quelle', 'tristessebien', 'avoir', 'rime', 'deception', 'avalanche', 'critiques', 'presse', 'spectateurs', 'etais', 'confiant', 'pris', 'agitation', 'gesticulation', 'emotion', 'mecanique', 'noient', 'bagarres', 'interminables', 'excellente', 'imbriques', 'bons', 'reussies', 'teinte', 'etrangete', 'singularite', 'confusion', 'plonge', 'spectateur', 'certaine', 'incomprehension', 'melanger', 'genres', 'exces', 'essaie', 'attirer', 'maximum', 'ingredients', 'dommage', 'judicieuse', 'tentative', 'dallier', 'dauteur', 'daction', 'concu', 'use', 'abuse', 'sublimant', 'grosses', 'ficelles', 'hollywoodiennes', 'inherentes', 'recrutes', 'braquage', 'raccourcis', 'scenaristiques', 'malvenus', 'reussis', 'explication', 'paris', 'via', 'novice', 'ellen', 'page', 'perdre', 'route', 'oniriques', 'sentremelent', 'habilement', 'millimetre', 'afin', 'cours', 'pourra', 'mille', 'choses', 'satisfait', 'evidement', 'bond', 'dautres', 'classiques', 'natteint', 'cheville', 'incontestablement', 'technique', 'musique', 'assourdissante', 'invraisemblable', 'revele', 'mou', 'ennuie', 'total', 'soulante', 'navet', 'fil', 'inspire', 'present', 'virtuel', 'dark', 'city', 'quarante', 'achevante', 'apres', 'rentre', 'croustillant', 'labyrinthe', 'tenir', 'tenu', 'somnolence', 'lourdeur', 'kermesse', 'importe', 'dehors', 'cause', 'superbe', 'composition', 'hans', 'zimmer', 'attrayante', 'tue', 'suspense', 'superposition', 'etire', 'inutilement', 'astucieux', 'pretentieux', 'prenez', 'affligeants', 'inepties', 'mission', 'impossible', 'ajoutez', 'guerre', 'platinium', 'balles', 'melange', 'coca', 'cola', 'orangina', 'imbuvable', 'scenarion', 'milieu', 'plaisantin', 'ajoute', 'bouts', 'rapport', 'voit', 'marion', 'cotillard', 'pleurnicher', 'longueur', 'sinon', 'ennuient', 'achete', 'dvd', 'demandez', 'warner', 'bros', 'celui', 'titis', 'minet', 'rembourser', 'dedomagement', 'arnaque', 'intellectuelle', 'telecharge', 'hadopi', 'remboursement', 'courant', 'gentil', 'garcon', 'realiser', 'ecrire', 'glaoui', 'emmeler', 'pinceaux', 'conscience', 'excellence', 'moyenne', 'notes', 'minoritaire', 'desincarnel', 'the', 'knight', 'continue', 'froid', 'interesser', 'aventures', 'multidimensionnelles', 'interminable', 'voisin', 'memento', 'poesie', 'interessant', 'obscure', 'grands', 'coups', 'trucages', 'essentiel', 'joue', 'incapable', 'pleurer', 'commande', 'larmes', 'glycerine', 'coulent', 'dicaprio', 'autrefois', 'offre', 'visage', 'crise', 'regard', 'scorsese', 'malheur', 'jouer', 'inutile', 'deranger', 'spectaculaires', 'presentes', 'bandeannonce', 'jetais', 'poete', 'grosse', 'merdeles', 'vingt', 'premieres', 'assommantes', 'decouragent', 'emblee', 'maitres', 'mots', 'captive', 'brievement', 'retombe', 'lamentablementil', 'h', 'panpan', 'papa', 'enveuxtuenvoila', 'ecroulements', 'gratteciel', 'veulent', 'exploiter', 'sensibilite', 'septembrale', 'detendre', 'echeance', 'reguliere', 'sollicite', 'meninges', 'hypotheses', 'coherentes', 'credibles', 'tournant', 'autour', 'lidee', 'quon', 'acceder', 'groupe', 'linconscient', 'individu', 'disneyland', 'gacheetout', 'dabord', 'imaginer', 'violes', 'surrealistes', 'sensuels', 'zen', 'castagne', 'beau', 'convoque', 'large', 'content', 'billet', 'paye', 'carte', 'illimitee', 'netait', 'servi', 'dose', 'minimale', 'darmes', 'combatcertes', 'voyager', 'comprend', 'epater', 'galerie', 'mombasa', 'kyoto', 'sydney', 'californie', 'vieux', 'bondpour', 'equilibrer', 'brouillonne', 'nappe', 'vit', 'dintense', 'laquelle', 'supercherie', 'eclaterait', 'jourtouche', 'finale', 'recette', 'marketing', 'mall', 'nationale', 'curieux', 'prenom', 'ladrian', 'rocky', 'censee', 'apporter', 'touche', 'indispensable', 'romantisme', 'prefabrique', 'ange', 'demon', 'fout', 'reponse', 'fantomatique', 'spectral', 'dimension', 'nattendait', 'fauxpas', 'lecranje', 'signale', 'hommes', 'semblent', 'coules', 'moule', 'affichent', 'certitudes', 'faille', 'confiance', 'inebranlable', 'intelligence', 'supreme', 'physique', 'gars', 'castes', 'testosterone', 'taquins', 'voire', 'poil', 'agressifs', 'hardy', 'larchetype', 'mec', 'con', 'lis', 'accent', 'incomprehensible', 'apprends', 'articuler', 'suffit', 'davoir', 'barbe', 'naissante', 'carriere', 'joseph', 'gordonlevitt', 'mignon', 'nage', 'couloirsquant', 'boulot', 'superficiels', 'tape', 'passage', 'reveille', 'lorsque', 'van', 'incoherence', 'acceptee', 'clin', 'dil', 'titanic', 'complaisait', 'inconscience', 'aquatiquechaque', 'montage', 'carnage', 'dinception', 'principal', 'convenue', 'serie', 'dau', 'douze', 'episodes', 'qua', 'caser', 'valise', 'prete', 'craquer', 'justification', 'rendraient', 'lensemble', 'credible', 'elagues', 'paraitraient', 'arbitrairesmais', 'jetes', 'exercice', 'reussi', 'dart', 'pompier', 'cree', 'western', 'expose', 'virile', 'na', 'sincerite', 'pretention', 'tordu', 'absurde', 'enervant', 'soporifique', 'blueray', 'vais', 'revendre', 'gogos', 'criant', 'genie', 'etant', 'ah', 'ia', 'beaux', 'casting', 'linedit', 'veut', 'arguments', 'contrebalances', 'tares', 'traine', 'fx', 'poudre', 'ultra', 'obscurs', 'vo', 'javais', 'piger', 'titres', 'tiree', 'cheveux', 'monte', 'questce', 'sy', 'serieux', 'fins', 'ouvertes', 'denigmes', 'prefere', 'quelquun', 'ouais', 'renfort', 'etoile', 'masquer', 'philatelique', 'depuis', 'dix', 'perception', 'decalee', 'realite', 'pauvre', 'mievre', 'allez', 'refais', 'shutter', 'island', 'avale', 'sentirai', 'fouet', 'boursouflure', 'remarquables', 'superbes', 'discours', 'filandreux', 'sujet', 'intellectuel', 'perpetuels', 'rebondissements', 'empechent', 'ferme', 'repose', 'brillante', 'narratif', 'ambition', 'illustration', 'implications', 'psychanalytiques', 'dilatation', 'ininteressante', 'voue', 'art', 'tambour', 'battant', 'lance', 'course', 'echevelee', 'arreter', 'abscons', 'occasion', 'fumeuse', 'narration', 'eclatee', 'survoltee', 'raccrocher', 'wagons', 'ensuite', 'deploie', 'vertige', 'cumulant', 'trepidantes', 'dements', 'alambique', 'ronflante', 'surenchere', 'indigeste', 'epuisante', 'inventivite', 'virtuosite', 'expliquer', 'paradoxes', 'decoulent', 'su', 'alle', 'fac', 'psycho', 'auditeur', 'authentique', 'instructif', 'jure', 'conventionnels', 'droit', 'desormais', 'celebres', 'pleurs', 'conventionnelle', 'champ', 'contrechamp', 'permanent', 'tele', 'decoupe', 'accord', 'aime', 'reprochais', 'night', 'kiffer', 'bordel', 'mairde', 'boum', 'compositeur', 'simplement', 'mettre', 'essaye', 'prennent', 'airs', 'captent', 'lumiere', 'train', 'galerer', 'porc', 'compris', 'miroirs', 'enleve', 'fleuve', 'stylee', 'intelligente', 'retenir', 'essayer', 'disent', 'truc', 'rester', 'accroche', 'comment', 'critiquesinception', 'exemple', 'appuie', 'duquel', 'bacle', 'ideeet', 'technologie', 'permettant', 'visiter', 'agir', 'interieur', 'estime', 'accessoire', 'debile', 'bande', 'escroc', 'pirater', 'victime', 'implanter', 'homme', 'affaire', 'intello', 'branchouille', 'invente', 'regles', 'absurdes', 'systemes', 'antivol', 'battent', 'arme', 'ecoule', 'meurt', 'quelqu', 'sousniveau', 'marchait', 'agissait', 'virtuelle', 'programmee', 'fonctionnent', 'autrement', 'fameux', 'representent', 'apportent', 'absolument', 'pretextes', 'poursuite', 'bagarre', 'fusillade', 'communiquer', 'subconscient', 'employe', 'dialogue', 'ruse', 'nonpour', 'couronner', 'tas', 'demandait', 'explications', 'rende', 'incoherente', 'relie', 'reveurs', 'controle', 'nana', 'architecte', 'labyrinthes', 'camionnette', 'tonneaux', 'pont', 'fisher', 'mourant', 'connecte', 'cobb', 'saito', 'sortent', 'decharge', 'passeje', 'parlerais', 'chiante', 'possible', 'greffee', 'force', 'temeraire', 'excessif', 'transporte', 'ennui', 'sommeil', 'devenait', 'mefier', 'juilletaout', 'cesse', 'demander', 'rendu', 'dithyrambique', 'distille', 'amplitude', 'pantins', 'difficilement', 'bof', 'gratuits', 'puisqu', 'participent', 'progression', 'dramatique', 'chiant', 'shutterisland', 'brin', 'mome', 'zeste', 'arrpecies', 'usa', 'suffisent', 'inoubliable', 'manipulation', 'gens', 'partage', 'saisit', 'remords', 'vis', 'epouse', 'attention', 'mechands', 'tirent', 'accepter', 'niveauzero', 'sonore', 'cauchemardesque', 'supporter', 'necessiterait', 'coma', 'nuit', 'revais', 'matin', 'mets', '*', 'pensee', 'regarder', 'endormi', 'suisje', 'accrocher', 'vois', 'ouf', 'tel', 'persuade', 'fichtrement', 'capter', 'imagine', 'repli', 'convaincu', 'revanche', 'debat', 'donnera', 'faux', 'perceval', 'perles', 'aguichantes', 'pretentieuses', 'apprecie', 'connaisse', 'reflexion', 'court', 'fusille', 'superposent', 'nul', 'seule', 'presence', 'leo', 'motive', 'objectivite', 'plupart', 'enorme', 'genial', 'face', 'retorquent', 'franchement', 'preferezvous', 'visionner', 'modeste', 'idiot', 'agreable', 'ressentir', 'dubitatif', 'spectateursa', 'difficile', 'etes', 'einstein', 'perdu', 'inceptionpour', 'retenu', 'psychologique', 'reflexionsil', 'dees', 'echanges', 'fusionnels', 'entierement', 'femme', 'eventuellement', 'leonardo', 'eficace', 'convaincantea', 'hasardeux', 'baroque', 'permanents', 'reveseulement', 'dernieres', 'quatre', 'numeroter', 'etesle', 'idees', 'douteuses', 'vie', 'reveiller', 'suicide', 'rationnelle', 'posttraumatique', 'suie', 'deuilaccrochez', 'accrochez', 'tire', 'surjouent', 'sonne', 'flop', 'typiquement', 'laissent', 'carreau', 'ceuxci', 'empressent', 'crier', 'relativement', 'sophistique', 'ecran', 'chefd', 'parler', 'intelligent', 'malin', 'flatte', 'cineaste', 'qualifie', 'tour', 'bras', 'proposer', 'bluffants', 'tordue', 'conventionnel', 'pseudosentiments', 'biodegradable', 'fameuse', 'tremblotante', 'bullettime', 'amour', 'pelle', 'claques', 'regrette', 'tourne', 'boucle', 'secours', 'range', 'depasse', 'service', 'suppose', 'constitue', 'signaler', 'refait', 'acteur', 'habite', 'passer', 'sentiments', 'personnelle', 'excepte', 'passion', 'buildings', 'figuration', 'heureusement', 'hh', 'amene', 'supposee', 'remettre', 'chamboules', 'fiche', 'longs', 'metrages', 'demeure', 'vacuite', 'stupefiante', 'deplacer', 'impressionnants', 'dimanche', 'soir', 'imbecile', 'will', 'self', 'artetpoiesisblogspotfr', 'esthetisme', 'absent', 'pachydermiques', 'nombriliste', 'mortel', 'soirees', 'parisiennes', 'classe', 'semblant', 'superieur', 'avouent', 'sciencefiction', 'meilleurs', 'ecrivent', 'adore', 'deteste', 'personnellement', 'moyennement', 'mentalement', 'torture', 'saoulant', 'regarderai', 'cherchent', 'extremement', 'rigolo', 'flatulences', 'imbriquent', 'former', 'epaisse', 'couche', 'puante', 'fumet', 'particulierement', 'savoureux', 'amateurs', 'quoion', 'eructes', 'tentent', 'code', 'cache', 'enfoui', 'milliardaire', 'quelconque', 'intereton', 'looooooonngues', 'filmees', 'remettent', 'perspective', 'records', 'recents', 'pet', 'longon', 'endort', 'banale', 'reactions', 'idiotes', 'espere', 'remanences', 'nauseabondes', 'impregnent', 'durablement', 'nasaux', 'sensibles', 'periodes', 'disette', 'tient', 'debout', 'surestime', 'pseudospectaculaires', 'bruyant', 'suffisamment', 'apprecier', 'tortueux', 'celuici', 'dure', 'soidisant', 'philosophique', 'vachement', 'contient', 'bravoure', 'rarement', 'rimait', 'drolement', 'chef', 'froids', 'pedants', 'couple', 'equivalent', 'fuir', 'quotidien', 'composee', 'tours', 'grises', 'vive', 'virtuels', 'defouraillent', 'milliers', 'metres', 'deranges', 'reellement', 'interagir', 'alterer', 'provoquer', 'degats', 'irreversibles', 'quid', 'fantasmes', 'phobies', 'cet', 'chacun', 'succession', 'souvenirs', 'bousculent', 'eclair', 'imaginez', 'penetrer', 'sceances', 'psy', 'puisque', 'anticipe', 'arret', 'lieux', 'imprimees', 'cueillir', 'fleurs', 'bord', 'f', 'kmh', 'ouragan', 'apesanteur', 'derange', 'suivent', 'priori', 'constamment', 'adapter', 'motifs', 'lient', 'plage', 'volley', 'precipice', 'vend', 'pizzas', 'brooklin', 'serveur', 'rencontre', 'pere', 'assis', 'rue', 'chute', 'pied', 'arbre', 'situe', 'enfance', 'ben', 'foutre', 'gesticulent', 'omnipresente', 'prenante', 'possede', 'qualites', 'morbides', 'pornographie', 'peur', 'terreur', 'paradis', 'emmagasinons', 'naissance', 'bofff', 'accompagne', 'petarades', 'senties', 'ralenti', 'malheureusment', 'parier', 'mouille', 'superproduction', 'boursouflee', 'ridicule', 'fallait', 'visionnaire', 'fausse', 'syndrome', 'livre', 'terminer', 'rend', 'retourne', 'paragraphes', 'vient', 'ecluser', 'glorieuses', 'mecs', 'table', 'terrasse', 'verre', 'volent', 'morpheus', 'apparaitre', 'nolanje', 'reticences', 'inceptionle', 'explique', 'pur', 'home', 'bourgeois', 'but', 'successions', 'justifier', 'achat', 'euroset', 'previsible', 'sale', 'ride', 'irritant', 'mordsmoi', 'noeud', 'irritante', 'merci', 'oubliais', 'call', 'duty', 'modern', 'warfare', 'surement', 'oeil', 'geeksgamers', 'woaaw', 'xbox', 'potable', 'dilettante', 'pensais', 'porte', 'inconscient', 'inciser', 'fissure', 'dejouer', 'destin', 'programme', 'seduisant', 'enfermait', 'cellule', 'capitonnee', 'bordant', 'rasoir', 'technologies', 'scientisme', 'naif', 'besoin', 'multiplier', 'permutations', 'ehhh', 'vautrer', 'raies', 'tissees', 'sauve', 'techniques', 'baigne', 'vulgos', 'independance', 'day', 'rock', 'convaincre', 'delicieux', 'cadres', 'ordonne', 'enticher', 'voyait', 'venirben', 'revu', 'reouverture', 'cines', 'moyen', 'confus', 'biensur', 'statiques', 'visionnage', 'partis', 'enchassent', 'doutes', 'existentiels', 'philip', 'k', 'dick', 'hyperintelligent', 'hypercomplexe', 'conceptuel', 'exigeant', 'concentration', 'instants', 'syncopee', 'sacrifie', 'transforment', 'vision', 'parcours', 'combattant', 'exageree', 'surexpliquer', 'concepts', 'rationnel', 'rassurer', 'bavardes', 'ajout', 'cretin', 'justifiables', 'interessantes', 'concentrer', 'coeur', 'respecter', 'excellents', 'laissant', 'noter', 'desamorcant', 'end', 'precipite', 'intellos', 'reconnaissance', 'enormes', 'duree', 'servenr', 'penalise', 'dormir', 'trente', 'excellent', 'preuve', 'pige', 'longtemps', 'ennuye', 'mourir', 'bazar', 'arthur', 'bussy', 'symboliques', 'lynch', 'eraserhead', 'cronenberg', 'animes', 'satochi', 'kon', 'paprika', 'perfect', 'blue', 'remplie', 'mises', 'abime', 'schizophrenie', 'reveset', 'nollan', 'litteralement', 'pete', 'cable', 'demiheurel', 'geniale', 'cillian', 'murphy', 'absorbe', 'production', 'elitiste', 'precedentsi', 'magie', 'psychanalyse', 'cauchemars', 'creux', 'expert', 'incompetent', 'snobisme', 'symboles', 'cool', 'essentiels', 'complexe', 'incroyablement', 'splendides', 'idioten', 'supportable', 'imbrique', 'ajoutent', 'essayent', 'item', 'limbes', 'pasla', 'heure', 'analyser', 'approfondir', 'rentrent', 'crane', 'assimile', 'reaction', 'exprime', 'degout', 'haissable', 'phrases', 'reviennent', 'parfaitement', 'pseudoscientifiques', 'auteur', 'symbolique', 'simple', 'vraie', 'insulte', 'avis', 'debauche', 'minuscule', 'moque', 'maquilles', 'nuls', 'croirait', 'prendrait', 'loriginal', 'precisement', 'loriginalite', 'tiers', 'decroche', 'verifier', 'craignais', 'evidemment', 'letait', 'lhomme', 'abyssale', 'abracadabrantesque', 'confine', 'debilite', 'sagitil', 'victimes', 'voler', 'sf', 'onirique', 'etrange', 'irrationnel', 'deroutant', 'napparait', 'fruit', 'limagination', 'nom', 'subtil', 'confier', 'mechant', 'asiatique', 'soutirer', 'document', 'confidentiel', 'concurrent', 'industriel', 'noble', 'sempresse', 'daccepter', 'police', 'aimerait', 'revoir', 'emouvant', 'comperes', 'sintroduire', 'construit', 'loccurrence', 'selectionnee', 'capacite', 'dessiner', 'papier', 'linitier', 'lesprit', 'modifier', 'partages', 'penetre', 'convient', 'situation', 'nerveux', 'perturbe', 'souvenir', 'interpretee', 'magistrale', 'decedee', 'entraine', 'mentale', 'poignante', 'celleci', 'saute', 'balcon', 'chambre', 'dhotel', 'desprit', 'dispositions', 'aupres', 'avocat', 'accuser', 'trouvailles', 'cobs', 'descendre', 'fischer', 'jusque', 'troisieme', 'strate', 'deviennent', 'echappatoire', 'infailliblement', 'courageux', 'extracteur', 'inquietant', 'poireaute', 'mysterieuse', 'male', 'couteau', 'cuisine', 'finement', 'aiguise', 'lois', 'physiques', 'mysterieusement', 'chamboulees', 'ba', 'occasionne', 'droles', 'gentils', 'extracteurs', 'combattent', 'snipers', 'projection', 'sac', 'couloir', 'reference', 'voilee', 'duvre', 'americain', 'comprenne', 'decidement', 'grandguignolesque', 'palme', 'queue', 'lair', 'bouleverse', 'peux', 'timaginer', 'complexite', 'perfection', 'imperfection', 'secouru', 'larchitecte', 'parallelement', 'rebours', 'franc', 'eclat', 'jetez', 'fable', 'lindistinction', 'quune', 'addition', 'betises', 'sorties', 'delirante', 'scenariste', 'dessai', 'honte', 'travaillentils', 'encense', 'lunanimite', 'lexception', 'telerama', 'bouillie', 'infecte', 'participe', 'decadence', 'societe', 'mene', 'saisir', 'lampleur', 'moteur', 'propositions', 'multiples', 'realites', 'sopposent', 'lenigme', 'marcher', 'surfant', 'etats', 'alteres', 'faiseur', 'grandiloquents', 'hysterique', 'souffrant', 'pitoyable', 'credibilite', 'camionette', 'mer', 'lapprecie', 'faite', 'deroute', 'foi', 'violent', 'sentais', 'dizaine', 'quitte', 'soporiphique', 'decevant', 'claque', 'monumentale', 'incroyables', 'gigantesques', 'flopee', 'marquantesdeuxieme', 'cnolan', 'partieet', 'passionnant', 'parlaitde', 'attentif', 'agacant', 'repetitions', 'ecouter', 'incoherences', 'passent', 'compliquebref', 'facilement', 'reflexions', 'q', 'compliques', 'aborde', 'pourvoir', 'travail', 'principaux', 'suivante', 'estadire', 'dort', 'utilisent', 'langage', 'expres', 'majorite', 'basee', 'loufoques', 'incomprehensibles', 'shabituer', 'evitez', 'haletant', 'fonction', 'pratique', 'sympa', 'modele', 'speciale', 'dicpario', 'quoique', 'remix', 'casse', 'banque', 'tjr', 'convenu', 'decidemment', 'ampleur', 'haleine', 'denouement', 'seconds', 'g', 'levitta', 'berenger', 'geometrique', 'scientifique', 'perplexepersonnellement', 'concois', 'abstraite', 'destructuree', 'david', 'represente', 'inland', 'empire', 'reussit', 'neammoins', 'flirte', 'fincher', 'allier', 'rare', 'aisance', 'vs', 'demie', 'bavardage', 'ininterrompu', 'surligner', 'carrement', 'indigent', 'bavard', 'lourdingue', 'habitudeles', 'inegaux', 'pleurniche', 'toujoursle', 'reverie', 'tourner', 'cependant', 'travailler', 'divertir', 'passaient', 'tenait', 'realises', 'touches', 'apparues', 'parci', 'parla', 'aseptise', 'beurre', 'glisse', 'ressemblances', 'surcote', 'moue', 'bofles', 'jouent', 'suffire', 'degagent', 'brutalites', 'embrouillaminis', 'roman', 'tolkien', 'matrices', 'sub', 'temporelles', 'enerver', 'lumineuse', 'clarte', 'soustraire', 'violence', 'actuel', 'simplicite', 'beaute', 'formes', 'strates', 'ingenie', 'embrouiller', 'paraitre', 'contradictoires', 'alliance', 'habits', 'scrip', 'girl', 'dut', 'planter', 'fautil', 'fabrique', 'biens', 'personnels', 'imprenables', 'existentpersonne', 'socrate', 'descartes', 'citer', 'jesuschrist', 'siens', 'souris', 'memoire', 'moulin', 'vent', 'enfancece', 'rassure', 'sceneune', 'installee', 'inflige', 'parait', 'distorsion', 'avantage', 'decevante', 'ensevelie', 'consacre', 'declaration', 'deployee', 'invraisemblances', 'traitee', 'reprends', 'synopsis', 'allocine', 'voleur', 'experimente', 'lart', 'perilleux', 'specialite', 'consiste', 'sapproprier', 'secrets', 'precieux', 'mythologie', 'enfouis', 'revons', 'prochain', 'encensent', 'vulnerable', 'talents', 'trouble', 'begins', 'devenu', 'applaudi', 'entier', 'cher', 'jouissance', 'suspens', 'fluidite', 'modestie', 'ultime', 'permettre', 'davant', 'condition', 'accomplir', 'limpossible', 'flou', 'equipe', 'linverse', 'esprits', 'sils', 'parviennent', 'sagir', 'crime', 'methodiques', 'doues', 'soientils', 'naurait', 'preparer', 'partenaires', 'ennemi', 'redoutable', 'systematiquement', 'davance', 'soupconner', 'lexistence', 'hey', 'cine', 'sci', 'fi', 'mr', 'evader', 'sensation', 'heureux', 'jete', 'poubelle', 'insulter', 'coeurce', 'daube', 'bouse', 'pareilet', 'cinephile', 'oeuvres', 'blade', 'runner', 'quoid', 'choque', 'inhumanite', 'originall', 'pretentieuse', 'topque', 'talent', 'ladedans', 'simples', 'inspires', 'baignes', 'atmosphere', 'sombre', 'recherches', 'trompe', 'impatience', 'siderant', 'guider', 'strange', 'shootee', 'deambule', 'conviction', 'largue', 'estce', 'interview', 'declare', 'suivi', 'direje', 'gueule', 'cautionner', 'imposteur', 'insomnia', 'brillamment', 'releve', 'gueulele', 'directionet', 'aimeront', 'intelligentsce', 'jadorec', 'cinephiles', 'petent', 'yen', 'malheureusementbref', 'degoute', 'garde', 'amer', 'sincerement', 'marchera', 'surevaluede', 'grandchosecomme', 'poupees', 'gigognes', 'joli', 'avecmarion', 'pub', 'diorrefaite', 'cube', 'dur', 'vue', 'quasiment', 'elogieuses', 'barde', 'meublage', 'prodigieusement', 'emmerdatoire', 'feuille', 'cigarette', 'annoncee', 'mysterieux', 'fourni', 'exceptionnel', 'comprisdesole', 'merdej', 'minutesbon', 'courage', 'surevaluer', 'normal', 'mettrais', 'tonnerre', 'applaudissement', 'injustifie', 'recoit', 'preferer', 'extreme', 'attribue', 'disais', 'divertissante', 'donnant', 'adhere', 'reveler', 'cascades', 'mi', 'jason', 'bourne', 'neo', 'resultat', 'trame', 'principale', 'superieure', 'protege', 'envahisseurs', 'feintes', 'voyageurs', 'clandestin', 'lambda', 'fiere', 'faussement', 'arrivees', 'soupe', 'pensez', 'prodige', 'felicitation', 'maintenant', 'regardez', 'discutera', 'archetype', 'flingue', 'violente', 'explosion', 'absolu', 'magnifique', 'abetissement', 'orchestre', 'peuton', 'endormis', 'proches', 'age', 'mental', 'ferai', 'surnotes', 'excessives', 'conseil', 'attendez', 'tv', 'mettez', 'argent', 'dedans', 'estival', 'quasi', 'copiecolle', 'reinvente', 'produire', 'chez', 'belle', 'amener', 'steven', 'seagal', 'agacante', 'josph', 'charisme', 'dise', 'subversif', 'destine', 'elitistes', 'messieursdames', 'mettaient', 'subjugue', 'scenar', 'avere', 'cochonnerie', 'parions', 'considerent', 'cons', 'sombrer', 'restes', 'endorment', 'interressant', 'demarrer', 'endormir', 'ambience', 'exactement', 'changer', 'interessent', 'lire', 'recall', 'proche', 'emmerdement', 'lent', 'guns', 'fights', 'incipides', 'pourris', 'intermittences', 'charismatique', 'lourde', 'tache', 'opinion', 'vaillants', 'exacerber', 'procede', 'generation', 'ralentis', 'pate', 'potjvelesh', 'abracadabrant', 'overdose', 'abstrait', 'terme', 'speciall', 'imaginee', 'particulierleonardo', 'convaincant', 'agreabletous', 'corrects', 'convenablesles', 'rencontres', 'satisfaisants', 'objets', 'equipements', 'acceptables', 'degage', 'intrigantl', 'lassante', 'musiques', 'composeesles', 'faites', 'inefficaces', 'perdent', 'gacheun', 'prestation', 'travaille', 'introduire', 'embrouille', 'charge', 'poursuites', 'mitraillages', 'munissezvous', 'aspirine', 'assuree', 'nullement', 'ohlala', 'revoltant', 'mepris', 'contrairement', 'disait', 'principe', 'litterature', 'revolutionnaire', 'chimere', 'lassera', 'nan', 'chapeau', 'conclusion', 'atil', 'monumental', 'sien', 'lincomprehension', 'reputation', 'admettre', 'sourciller', 'seraitce', 'fraction', 'inventives', 'audacieuses', 'justes', 'rediger', 'emballe', 'emmerde', 'esperer', 'acabit', 'soufflet', 'brutalement', 'nai', 'minteresser', 'passait', 'mattendais', 'objet', 'retentissant', 'limpression', 'dassister', 'mega', 'cinematographique', 'stupefait', 'sauver', 'jepargnerai', 'letre', 'cata', 'complete', 'bidon', 'gates', 'eventuel', 'ouvert', 'voie', 'bruits', 'pr', 'pleurnicharde', 'talentsbref', 'flagrante', 'inspiration', 'lit', 'pitch', 'effectivement', 'passionnante', 'marquer', 'boxoffice', 'ultraconventionnel', 'traite', 'frustrant', 'audacieuse', 'ultraenvahissante', 'vides', 'protagoniste', 'souhaite', 'surcharge', 'exploit', 'fiilm', 'atrocement', 'banal', 'bravo', 'tromper', 'combats', 'decor', 'til', 'manifeste', 'demesuree', 'fascinant', 'avaitil', 'pareil', 'aise', 'embrouillamini', 'songes', 'confrontation', 'nonobstant', 'finales', 'rappellent', 'positifs', 'publicite', 'ok', 'innovante', 'bluffe', 'aije', 'bcp', 'entendu', 'parfaite_', 'poignee', 'bankable', '_', 'ajoutezy', 'apparence', 'revolutionnaire_', 'tordezle', 'incomprehensible_', 'saupoudrez', 'repliques', 'philosophie', 'comptoir', 'pseudomystique_', 'bombardez', 'photographies_', 'rajoutezy', 'nongeeks', 'agrementez', 'pincee', 'marcheet', 'degustee', 'objectif', 'averti', 'creuse', 'fais', 'iphone', 'venir', 'tuent', 'reserver', 'scenarios', 'matrixh', 'essai', 'rentrer', 'theories', 'farfelus', 'pros', 'etages', 'souffre', 'calvaire', 'coriace', 'sympas', 'rises', 'detour', 'concentrant', 'filmla', 'imaginationdommage', 'dieu', 'penibles', 'soporifiques', 'paquete', 'mords', 'servant', 'caution', 'philosophicointellectuelle', 'nanar', 'honnetement', 'effort', 'facons', 'boums', 'pif', 'paf', 'ahhh', 'hiiii', 'inexistants', 'briser', 'menues', 'remet', 'affres', 'existence', 'jolie', 'ouvre', 'bouche', 'informatiques', 'applaudissements', 'visible', 'saisons', 'probablement', 'periode', 'general', 'echelle', 'appreciation', 'elevee', 'lu', 'kubrick', 'faisais', 'reveillez', 'subi', 'depeche', 'mater', 'influence', 'olala', 'timidement', 'profit', 'justement', 'saga', 'freres', 'wachowski', 'approfondie', 'comprehensible', 'dote', 'remarquable', 'paru', 'savais', 'distinguer', 'explosives', 'revepour', 'inventer', 'pharamineux', 'accumulations', 'nebuleux', 'achalentles', 'assurer', 'comprends', 'maniere', 'decente', 'chistopher', 'formidable', 'magnifiques', 'fantastique', 'extraordinaire', 'cottillard', 'superbele', 'distribution', 'diapason', 'profitant', 'inappropriee', 'merveilleux', 'ecris', 'moin', 'merde', 'bavardages', 'incessants', 'execrable', 'pseudoangoissante', 'americains', 'capables', 'bouses', 'infames', 'budgets', 'xxie', 'creent', 'blague', 'accouche', 'ignoble', 'salmigondis', 'populace', 'croit', 'mn', 'voulait', 'brouilli', 'imcomprehension', 'aimer', 'flouse', 'pondre', 'file', 'blues', 'illisible', 'once', 'choisi', 'interprete', 'edith', 'piaf', 'rappeler', 'harcelant', 'systematiques', 'reveil', 'bis', 'bataille', 'neige', 'manquaient', 'folie', 'eteindre', 'poste', 'record', 'regardais', 'travaillee', 'erreurs', 'organisations', 'raccord', 'professionnels', 'pleinement', 'participation', 'egale', 'series', 'b', 'boumboum', 'platitude', 'amoureux', 'interessants', 'grandchose', 'prevoyez', 'boite', 'medoc', 'thermos', 'fooooort', 'preference', 'lol', 'aime^^', 'noces', 'rebelles', 'wolfman', 'thriller', 'anticipation', 'rouleau', 'compresseur', 'explicatif', 'rationalisant', 'blabla', 'copiecolleet', 'voiton', 'emprunts', 'soignes', 'lamines', 'sonquant', 'attachant', '=', 'identification', 'presonnages', 'mediocre', 'specieux', 'envers', 'secondes', 'pseudomatrix', 'loupe', 'economisez', 'nuisent', 'psychologie', 'auxquels', 'attacherd', 'gachis', 'axe', 'cotillardmais', 'entrees', 'box', 'office', 'baffe', 'assenee', 'normes', 'attendu', 'friandise', 'estivale', 'innovants', 'souhait', 'startingblocks', 'hauteur', 'folles', 'attentes', 'glorieux', 'toutefois', 'lescroquerie', 'organisee', 'redouter', 'restant', 'commandes', 'exempt', 'inegal', 'grandes', 'differences', 'decriture', 'scenaristiquement', 'inutilite', 'bordelique', 'emporter', 'ladhesion', 'foutoir', 'didees', 'truffer', 'dactions', 'made', 'in', 'roger', 'moore', 'renforcer', 'malaise', 'reproche', 'tiendra', 'fameuses', 'nont', 'donirique', 'glacantes', 'realisme', 'demolissant', 'fondations', 'lambitieux', 'jusquau', 'grace', 'imparfait', 'planplan', 'trousse', 'rougeblanc', 'damour', 'monter', 'hauteurs', 'auxquelles', 'habitues', 'scenarise', 'hollywood', 'recu', 'eloges', 'dithyrambiques', 'unanimite', 'songeur', 'impeccable', 'impeccablement', 'drame', 'personnel', 'dom', 'argument', 'noye', 'tapeal', 'possibilite', 'reseau', 'disparait', 'reveur', 'hacker', 'combat', 'allume', 'televiseur', 'console', 'logorrhee', 'technicocretine', 'visant', 'fonctionnement', 'informatique', 'pseudopsychanalytique', 'hallucinant', 'connerie', 'temoin', 'ahurissante', 'attends', 'mine', 'maladroite', 'etouffe', 'appauvrit', 'edwardes', 'cracher', 'jolies', 'irreprochables', 'differentes', 'debats', 'internet', 'officielle', 'reside', 'instar', 'mettait', 'schema', 'assiste', 'charmante', 'incarnes', 'talentueux', 'populaires', 'bonus', 'vieil', 'reconnu', 'michael', 'caine', 'fera', 'saupoudre', 'cascade', 'coherence', 'constate', 'efficace', 'retiendrai', 'impressionnantes', 'apercu', 'societepublic', 'demain', 'fixe', 'banane', 'atteint', 'statut', 'culte', 'instantanement', 'scenaristes', 'precise', 'promotion', 'annihilent', 'coherences', 'fixant', 'aucunes', 'limites', 'spielberg', 'oubliera', 'regardera', 'dents', 'difficiles', 'lignes', 'etron', 'usant', 'ramette', 'raser', 'jungle', 'amazonienne', 'ps', 'raconte', 'logmetrage', 'justifie', 'fesses', 'sieges', 'confortable', 'regrets', 'pretentions', 'exile', 'change', 'juin', 'recul', 'entends', 'servir', 'egos', 'sublimes', 'soignee', 'interpreter', 'bizarrement', 'paradoxale', 'empeche', 'ennuyes', 'pan', 'trainer', 'repetitif', 'longevite', 'notion', 'cherche', 'fake', 'verite', 'navrant', 'bouleversement', 'carton', 'eau', 'insupporter', 'calmer', 'surfer', 'vague', 'sucees', 'choc', 'febrile', 'casser', 'pattes', 'canard', 'brise', 'cotes', 'exceptions', 'egards', 'retiendra', 'photographie', 'collegues', 'exemplaire', 'ingenieuse', 'figure', 'deferler', 'linfini', 'lepisode', 'sense', 'tenants', 'aboutissants', 'egare', 'entrainement', 'racolage', 'fatiguer', 'dautant', 'tonitruante', 'concue', 'sourdingues', 'denormes', 'difficultes', 'atteindre', 'dexcellence', 'navait', 'actuellement', 'senario', 'pourri', 'consommateursje', 'comprendrais', 'genail', 'eviter', 'avouer', 'moutons', 'repetez', 'finiront', 'sis', 'jaime', 'lecteurspectateurauditeur', 'subtiles', 'paraisse', 'message', 'voulu', 'fatiguant', 'glamour', 'actrices', 'simpliste', 'maquillee', 'ideal', 'hauts', 'froide', 'meurs', 'new', 'york', 'legende', 'accueillante', 'valait', 'leve', 'silence', 'romans', 'ennuis', 'riches', 'brillantes', 'prestige', 'ratee', 'bat', 'oubliez', 'etrangers', 'creaient', 'synthonisant', 'soirs', 'minuit', 'brillant', 'sols', 'jour', 'coucher', 'medium', 'infiltrer', 'accroitre', 'ellememe', 'vise', 'musclees', 'militaires', 'cible', 'economique', 'heritier', 'renoncer', 'paternelle', 'economie', 'nerf', 'affaires', 'cousepoursuite', 'comprenais', 'representaient', 'changements', 'articulation', 'cohesion', 'dite', 'relations', 'defunte', 'digressives', 'lien', 'central', 'avaler', 'pilule', 'ressenti', 'moindre', 'immersion', 'valu', 'tim', 'burton', 'ambiances', 'prosaique', 'stereotype', 'semblait', 'photocopie', 'jouant', 'minimum', 'syndical', 'expliquent', 'suffisant', 'etions', 'gosses', 'debiles', 'essaient', 'etoffer', 'sembler', 'proportion', 'trucs', 'cure', 'fumeux', 'tordus', 'arrogants', 'efforts', 'millionnaires', 'offrir', 'decorations', 'epoustouflantes', 'abonnes', 'absents', 'propos', 'onirisme', 'poetique', 'branche', 'nue', 'filmee', 'noir', 'contrejour', 'ingmar', 'bergman', 'fraises', 'sauvages', 'dense', 'existenz', 'evitent', 'melodrame', 'pesant', 'generale', 'incertaine', 'bienl', 'incoherent', 'toupieil', 'charme', 'anesthesique', 'efface', 'epatant', 'exploration', 'servie', 'regale', 'armee', 'singes', 'feroce', 'championnats', 'belote', 'confondre', 'sentimentalisme', 'degoulinant', 'parti', 'migraine', 'big', 'interpretation', 'fric', 'gd', 'ennuyeuses', 'skieurs', 'guimauve', 'voitures', 'explosent', 'immeubles', 'ecroulent', 'teenagers', 'attardes', 'filmsi', 'appelle', 'disapointed', 'tapage', 'verrait', 'problematique', 'politique', 'gave', 'lisse', 'enjeu', 'balourd', 'estampille', 'auteurennui', 'pires', 'honteux', 'polluant', 'finissent', 'boursoufflure', 'deplacement', 'exige', 'exception', 'attaches', 'beche', 'flottant', 'scenaristique', 'decennie', 'precedente', 'demeurent', 'saisissants', 'brillants', 'fabuleux', 'infiltres', 'scorcese', 'positives', 'blogs', 'crees', 'lies', 'sors', 'sachant', 'capte', 'instables', 'meilleure', 'esthetie', 'varietes', 'environnementales', 'bourre', 'rajoute', 'illa', 'ressemblant', 'concerne', 'comprehension', 'esthetiquetout', 'repits', 'irreflechi', 'visages', 'partoutdeception', 'evidente', 'effetsa', 'tendance', 'claire', 'resoudre', 'mysteres', 'ladessus', 'portees', 'styles', 'reconnait', 'signature', 'plafond', 'triomphe', 'negligeable', 'retrouvons', 'definir', 'muscle', 'matine', 'philosophiques', 'emboites', 'fecond', 'assumant', 'dispose', 'atouts', 'importants', 'armada', 'cascadeurs', 'convoquee', 'millions', 'dollar', 'constater', 'flamboyant', 'exploites', 'camoufler', 'vraies', 'tiennent', 'timbreposte', 'pacotille', 'evoquer', 'vaguement', 'freud', 'traversent', 'eclairs', 'fulgurants', 'echos', 'obsedants', 'marquante', 'leitmotiv', 'entame', 'camion', 'fascinante', 'hesitations', 'repetees', 'resurgence', 'douloureuse', 'entrecoupe', 'complot', 'spheres', 'verse', 'filmer', 'costard', 'cravate', 'eiffel', 'pointe', 'nez', 'arriereplan', 'luxe', 'montrant', 'batiments', 'attenant', 'debussy', 'eclaboussant', 'assener', 'quarts', 'coursespoursuites', 'furibondes', 'agreables', 'rues', 'gratuite', 'dedale', 'principales', 'ennuyeuse', 'happyend', 'belant', 'cheris', 'philippa', 'billets', 'lacunes', 'imperatif', 'regardable', 'ambitionnaitil', 'autreje', 'pleure', 'potentiel', 'commencait', 'saurais', 'too', 'much', 'nonfilm', 'nonacteurs', 'nonmise', 'neant', 'pognon', 'pareille', 'fanboys', 'surcotent', 'bay', 'neuneu', 'poulpe', 'artificiels', 'chiantissime', 'devais', 'resumer', 'courent', 'couilles', 'poursuivis', 'mitraillettesy', 'bateau', 'enchainer', 'exotiques', 'grotesques', 'levitent', 'desole', 'epreuve', 'intellectuellement', 'laborieux', 'pouvez', 'voulez', 'cachet', 'valium', 'mg', 'monumentaleplus', 'projectionc', 'assourdissanteet', 'deboutn', 'revolution', 'comparable', 'orteil', 'attendaient', 'catastrophique', 'demi', 'paraissent', 'inter', 'minables', 'environ', 'baratin', 'definitive', 'conquis', 'ajouterais', 'incendies', 'ensuivent', 'assassinats', 'rapide', 'sauna', 'entrain', 'bailler', 'partant', 'conjointe', 'arrives', 'entree', 'avance', 'irrepressible', 'pouvoir', 'crayon', 'etapes', 'ressort', 'enerve', 'amie', 'approprie', 'vomir', 'hotel', 'asspenps', 'infame', 'necessaire', 'pisser', 'impeccables', 'tableau', 'frolait', 'combien', 'putain', 'favoris', 'hallucinee', 'cauchemar', 'conferences', 'physiciens', 'astrophysiciens', 'comprehensibles', 'triples', 'nuds', 'surdosage', 'informations', 'compliquees', 'chieuse', 'fouine', 'carpaccio', 'decoit', 'prit', 'repense', 'respectes', 'bingbamboum', 'repetitifs', 'saccage', 'demarquer', 'enieme', 'forte', 'dejavu', 'jouaient', 'petaradantes', 'boycotte', 'travolta', 'nicolas', 'cage', 'bruce', 'willis', 'cruise', 'encadrer', 'johnny', 'deppc', 'comparer', 'gouts', 'allocineenne', 'visionnemon', 'sied', 'rosece', 'savant', 'chroniques', 'sarah', 'connor', 'noyer', 'poisson', 'combler', 'targuer', 'etiquette', 'sfsf', 'foireuxquoi', 'anglais', 'silly', 'maquillage', 'taxis', 'luc', 'besson', 'prends', 'frais', 'minute', 'acerbes', 'arrete', 'baston', 'masque', 'ski', 'fassent', 'irruption', 'bluffant', 'ingenieux', 'gagne', 'arrrrrrrrg', 'enthousiaste', 'rationalite', 'deprimant', 'imagination', 'marino', 'mate', 'doublage', 'japonais', 'actrice', 'demeuree', 'ininteressantj', 'rehabilitera', 'categorie', 'phenomenes', 'circuit', 'declenche', 'ink', 'inapercu', 'recommander', 'appeler', 'imbriquer', 'lynchee', 'absurdite', 'entendre', 'dedanset', 'perdure', 'pondu', 'subit', 'fiction', 'amequand', 'derniere', 'planer', 'bienbon', 'interetjeu', 'dicapriole', 'fairesi', 'desirez', 'experiences', 'cinematographiques', 'derniers', 'zero', 'berceau', 'inconsequent', 'juno', 'adolescente', 'cerebrale', 'interdit', 'cerveaux', 'lents', 'panoplie', 'demonstration', 'permanente', 'canardages', 'salon', 'armement', 'foutage', 'crispe', 'circonvolutions', 'permanentes', 'quitter', 'transcendant', 'voici', 'pretendu', 'lannee', 'lont', 'navez', 'dira', 'vaine', 'dacceder', 'lintelligence', 'tocqueville', 'perle', 'tyrannie', 'maitrisee', 'maitriser', 'reprocher', 'lavoir', 'letat', 'decemment', 'hochet', 'faibles', 'rate', 'pedant', 'premiers', 'caricature', 'ken', 'watanabe', 'dalterer', 'selon', 'inculquee', 'gre', 'modifiez', 'violez', 'integrite', 'rehabiliterai', 'contemporain', 'membres', 'lequipe', 'sinterroge', 'legitimite', 'soffusque', 'saura', 'lami', 'entrepreneur', 'notable', 'tolerables', 'plethore', 'collectionne', 'fadaise', 'cautionne', 'tantinet', 'ledifice', 'brindilles', 'petits', 'cochons', 'dorme', 'hasard', 'avion', 'cabine', 'dinquietudes', 'commanditaire', 'machination', 'proprietaire', 'compagnie', 'aerienne', 'dessert', 'destination', 'pret', 'decoller', 'compagnies', 'doivent', 'desservir', 'choisit', 'chance', 'somnifere', 'defibrille', 'suivez', 'netes', 'decourage', 'ascenseur', 'piege', 'cables', 'artificiellement', 'pesanteur', 'clair', 'defense', 'voleurs', 'coule', 'source', 'lentrainement', 'quaucun', 'gardes', 'corps', 'viser', 'particulier', 'jacques', 'linception', 'testee', 'convaincue', 'vivant', 'persuader', 'instillant', 'vivait', 'suicider', 'sequelle', 'simplifiait', 'exerce', 'mombassa', 'pays', 'procedure', 'penale', 'concede', 'rationnels', 'trouveront', 'heuu', 'ya', 'psychedelique', 'montrer', 'suscite', 'exceptionnels', 'magique', 'deroule', 'i', 'have', 'dream', 'crie', 'reposer', 'producteur', 'compliquee', 'origine', 'decouvert', 'logiciel', 'joujou', 'hop', 'nullissime', 'tolere', 'romeo', 'juliette', 'confuse', 'russes', 'enchainements', 'put', 'fournir', 'autrui', 'boursoufle', 'artificiel', 'frustre', 'manquent', 'ecrase', 'ridiculement', 'assistez', 'enormeben', 'villemiroir', 'meandreux', 'irait', 'bouleverser', 'ballade', 'nenni', 'copie', 'affreusement', 'viens', 'faits', 'bienc', 'asseptise', 'dirrais', 'robotsil', 'min', 'autrece', 'coherent', 'visite', 'guide', 'millieu', 'decorsc', 'considere', 'faisait', 'joie', 'avoue', 'issue', 'dois', 'concernant', 'crescendo', 'enigme', 'chercher', 'solution', 'contenu', 'ece', 'element', 'perturbateur', 'supplice', 'bijou', 'ch', 'r', 'gonfle', 'principes', 'deviant', 'rentrees', 'niquer', 'lempire', 'nickel', 'inexpressive', 'correct', 'playmobil', 'emes', 'coupe', 'galere', 'compose', 'ais', 'sentir', 'trilogie', 'sedatifs', 'penetration', 'multitude', 'redire', 'decrochent', 'filmje', 'restera', 'superieurement', 'ficele', 'espions', 'science', 'innove', 'revolutionne', 'sacree', 'bois', 'experience', 'demandezlui', 'repondra', 'incomprehensions', 'poutant', 'appelerai', 'coutillard', 'commencerais', 'donnees', 'intriguait', 'depenser', 'euros', 'coinje', 'paraissait', 'terriblement', 'horreur', 'ininteressant', 'espion', 'devait', 'emparer', 'retenues', 'rancunier', 'accepte', 'promet', 'effacer', 'fausses', 'accusations', 'pesent', 'demanteler', 'rival', 'empecher', 'devienne', 'monopole', 'foutrait', 'pratiquer', 'cobbdicaprio', 'revoit', 'soucis', 'sonnerie', 'pauvrete', 'copies', 'effrenee', 'nonsens', 'habituellement', 'presents', 'traitant', 'hyperreglee', 'structuree', 'devoilant', 'chances', 'indices', 'hermeneutes', 'chevronnes', 'monopolise', 'masquant', 'potentiellement', 'superflues', 'abymes', 'abyme', 'lasser', 'impuissance', 'enthousiasmer', 'suivie', 'developpement', 'wooinception', 'vertigineux', 'elegant', 'austeres', 'brouiller', 'frontieres', 'irreel', 'resucee', 'augmenter', 'rentabilite', 'eventuels', 'retours', 'interrogation', 'degrace', 'hero', 'arrivais', 'allee', 'hier', 'superflu', 'previsibles', 'pensent', 'demitour', 'chiantissimes', 'plie', 'originaux', 'resterai', 'modere', 'sfanticipationthriller', 'surpris', 'brochette', 'real', 'motivant', 'came', 'plongee', 'extraire', 'inevitablement', 'melangent', 'foule', 'tombent', 'permanence', 'laction', 'parasitee', 'sempiternelles', 'irrealistes', 'lesquelles', 'brouillard', 'legerement', 'frustres', 'emporte', 'faudraitil', 'sexprimer', 'domine', 'abattage', 'habituel', 'parfaite', 'apparition', 'majeures', 'incarne', 'prof', 'enseigner', 'sorbonne', 'lionel', 'messi', 'venait', 'len', 'guingamp', 'formalites', 'dimmigration', 'los', 'angeles', 'dextase', 'quasimystique', 'triomphale', 'aida', 'verdi', 'comprendrez', 'sensible', 'equation', 'demontee', 'indeniable', 'don', 'alambiquees', 'entourer', 'diriger', 'condamne', 'subir', 'imbrications', 'tiroirs', 'veuille', 'attarder', 'sonnent', 'calme', 'prenne', 'pompeuses', 'inquiete', 'prochaine', 'decade', 'oser', 'paralleles', 'notions', 'twists', 'utopique', 'infliger', 'imbitables', 'tvplus', 'preoccupe', 'relever', 'defi', 'petard', 'aimais', 'confirme', 'mmmh', 'explorer', 'voyage', 'epoustoufflants', 'courbe', 'complices', 'tirant', 'danseurs', 'gache', 'compleixite', 'theorie', 'sciences', 'royale', 'actionmmmmh', 'comediens', 'assoupissante', 'mario', 'rit', 'verbeux', 'deplu', 'cartesien', 'sr', 'mitige', 'epatante', 'diriges', 'veritablement', 'xxieme', 'balaye', 'filmo', 'representer', 'soupconne', 'aloi', 'fleurissent', 'subtilites', 'plaquees', 'utiles', 'portee', 'projections', 'inscrit', 'contrepoint', 'approfondi', 'explicite', 'surface', 'delecter', 'relevent', 'prouesse', 'traduite', 'pretend', 'plonger', 'pyrotechnique', 'assomant', 'ponctue', 'delicat', 'batterie', 'katiouchas', 'partition', 'gladiator', 'failles', 'garder', 'ecoutant', 'abracadabrantesques', 'supposees', 'accroire', 'extraction', 'facheux', 'domaine', 'defendre', 'interets', 'avide', 'trait', 'symptomatique', 'epoque', 'valeur', 'finesse', 'oniriquereste', 'visuelles', 'beneficiant', 'interpretations', 'naturel', 'fraicheur', 'apparait', 'ponctuellement', 'associee', 'grotesque', 'chanson', 'poursuivre', 'longtempsinception', 'vain', 'regretter', 'naturelles', 'bo', 'amateur', 'ronfler', 'surfait', 'remede', 'visionne', 'fielleuxquoi', 'deposer', 'sautoriser', 'termes', 'deffets', 'sen', 'prive', 'urbaines', 'sessaie', 'larchitecture', 'poetiques', 'courts', 'rares', 'sel', 'reservee', 'psychometaphysique', 'poupee', 'emboitees', 'distorsions', 'linterpretation', 'profonde', 'fouille', 'remontre', 'endormie', 'revois', 'pure', 'tradition', 'dh', 'limage', 'voudrait', 'trefonds', 'perplexite', 'telephonee', 'kilometres', 'ecrivant', 'rends', 'decrire', 'semaines', 'minterroge', 'vaisje', 'impressionnee', 'tombee', 'fichtre', 'seraisje', 'quai', 'impatient', 'decouvrir', 'cloche', 'hallucinants', 'chouchou', 'formelles', 'fallu', 'digerer', 'atterrit', 'panier', 'cuvee', 'machinerie', 'net', 'luvre', 'volets', 'adequats', 'obsessions', 'metaphysiques', 'accrochage', 'humain', 'demarche', 'dautre', 'traiter', 'derouler', 'meandres', 'agence', 'metonymique', 'majeure', 'lonirisme', 'planla', 'debouche', 'truchement', 'melies', 'capra', 'bunuel', 'inadaptee', 'attendant', 'peniblement', 'napporte', 'signalons', 'quils', 'commencant', 'saffirmer', 'comedien', 'somptueux', 'mesurer', 'extraodrinaire', 'meilleures', 'entreprise', 'elliptique', 'troue', 'fichu', 'terribles', 'enneigee', 'feint', 'hourra', 'calmosl', 'accessible', 'repetitives', 'vrmt', 'abandon', 'aille', 'detourner', 'creatif', 'interpretes', 'etudie', 'membre', 'eleve', 'ramener', 'construction', 'toile', 'singulierement', 'filmune', 'creentpour', 'info', 'thirteenth', 'floor', 'donnerai', 'bruit', 'recherchee', 'interferer', 'maitriserla', 'utilisation', 'polymorphe', 'scientifiques', 'porter', 'evenements', 'delirants', 'rationnelles', 'extraordinaires', 'borne', 'originauxmais', 'admiratif', 'inventif', 'photo', 'sublime', 'menee', 'dexpliquer', 'senglue', 'demploi', 'nappant', 'degoulinants', 'fouillis', 'tomberont', 'relation', 'amoureuse', 'solaris', 'exotique', 'sosie', 'heath', 'ledger', 'inapercus', 'prouve', 'bavarder', 'caracteriser', 'enthousiasme', 'impressionne', 'multidimensionnel', 'enchevetre', 'ultrasimplissime', 'puissante', 'multinationale', 'cambriole', 'richissime', 'kingsley', 'culpabilite', 'malleable', 'dynamique', 'utilisee', 'sage', 'rappelle', 'chauvesouris', 'puzzle', 'pieces', 'connectes', 'vivent', 'influencer', 'prisonnier', 'cousu', 'cruellement', 'devraient', 'accessibles', 'ena', 'triste', 'louanges', 'recolte', 'ireel', 'beauf', 'tane', 'foisce', 'holdup', 'tronche', 'cotillon', 'desatsreusement', 'confu', 'machin', 'imangine', 'este', 'labirynthe', 'stope', 'possibilites', 'infinies', 'offertes', 'aiment', 'ajouter', 'touffue', 'reserves', 'gravement', 'crieront', 'creativite', 'debridee', 'habillage', 'ferait', 'accompagner', 'improbable', 'diabolique', 'gacher', 'dollars', 'escarbille', 'producteurs', 'parlerai', 'preferant', 'solidaire', 'representante', 'states', 'estil', 'grossier', 'raccoleur', 'cerclage', 'tension', 'intracerebrale', 'arretee', 'filmle', 'exposant', 'stimulante', 'retournements', 'croyez', 'batit', 'inserant', 'intenses', 'tragedie', 'escalade', 'vertigineuse', 'conditions', 'erre', 'indecise', 'incertain', 'lost', 'odyssee', 'eyes', 'wide', 'shut', 'possibledi', 'pepere', 'mimiques', 'exploitees', 'tragique', 'eternels', 'entoureon', 'balourdise', 'approche', 'us', 'enfermes', 'coffres', 'materialisent', 'milice', 'tueurs', 'cf', 'cheap', 'sexe', 'traitees', 'debloquer', 'frein', 'securite', 'chuter', 'celuicila', 'sophistication', 'alambiquee', 'epuise', 'totems', 'passera', 'timide', 'dela', 'interesse', 'hyperion', 'dan', 'simmons', 'ouvrage', 'christoblog', 'chrisblogsallocinefr', 'reconnais', 'semer', 'simpledans', 'mieuxnolan', 'handicape', 'filmographie', 'racontece', 'filmil', 'coupes', 'reecrire', 'captivantes', 'defautle', 'debordante', 'solide', 'ardu', 'intelligemment', 'menees', 'supplement', 'stylise', 'accroc', 'moije', 'minorite', 'commet', 'caje', 'reconnaissant', 'cashutter', 'recommence', 'positif', 'derangee', 'irreprochabe', 'nevrose', 'complications', 'pouvaient', 'levitation', 'seuls', 'astronautes', 'piper', 'halliwell', 'charmed', 'qi', 'brouhaha', 'melant', 'demelant', 'jeanlouis', 'envoie', 'pathe', 'cuivres', 'violons', 'larme', 'attendri', 'soigne', 'recrudescence', 'justifiait', 'redondante', 'affrontent', 'mercenaires', 'atmospheres', 'enrichi', 'dommagecomme', 'dessin', 'anime', 'explore', 'angoisses', 'immersions', 'revelations', 'progressives', 'construites', 'resonne', 'oreilles', 'gigogne', 'boxer', 'sienne', 'vernis', 'claquent', 'sieste', 'qe', 'conseillezvous', 'qq', 'egard', 'commentaires', 'elogieux', 'concernait', 'communs', 'unissent', 'demontre', 'decrypter', 'incursions', 'exceptionnelles', 'contribuent', 'vaseux', 'outils', 'promo', 'promettaient', 'enlever', 'cadrage', 'toutet', 'calque', 'matrixl', 'developpee', 'enrichir', 'revesa', 'polar', 'honnete', 'fatras', 'elucubrations', 'paranormales', 'cerebraux', 'sophistiques', 'emmele', 'renouveler', 'etaler', 'maitrise', 'intentions', 'saluent', 'coute', 'cherle', 'limpide', 'experts', 'emmener', 'exploitepar', 'quond', 'architecture', 'vraimentje', 'decevantes', 'realisees', 'jeupar', 'finalementon', 'maitrisej', 'voient', 'serventelles', 'ambitieuse', 'celles', 'recue', 'vanilla', 'sky', 'mayonnaise', 'spoil', 'subtiliser', 'plongeant', 'agents', 'manuvrer', 'parmi', 'designe', 'environnement', 'banalite', 'imaginables', 'repousser', 'cloitrer', 'attacher', 'incompris', 'permeable', 'fantaisie', 'deforme', 'retournent', 'wouhou', 'culot', 'petites', 'incoherentes', 'alternative', 'obeit', 'contraignantes', 'postulat', 'errone', 'realiste', 'avonsnous', 'etranges', 'decousus', 'illogiques', 'interagi', 'extravagance', 'consentie', 'volontiers', 'tordues', 'perspicaces', 'exploite', 'surprendre', 'berner', 'aide', 'gagner', 'contraint', 'depit', 'obstacles', 'stress', 'sang', 'monotone', 'dizaines', 'grattesciels', 'similaires', 'alignes', 'canevas', 'batiment', 'fenetres', 'carrees', 'reflechissant', 'couverte', 'tissu', 'versant', 'gouttes', 'liquide', 'anesthesiant', 'exemples', 'exploitee', 'vendue', 'strategies', 'employer', 'debitees', 'recitale', 'tempo', 'vif', 'battement', 'cur', 'electro', 'repetitive', 'repetitivetrop', 'subtilite', 'vendeur', 'defaveur', 'complexifie', 'insipides', 'captivent', 'suggestions', 'immiscer', 'precedemment', 'corvee', 'consenti', 'revenir', 'reconfortant', 'dressee', 'ajoutee', 'rapporte', 'inedit', 'meditation', 'philosophiquement', 'psychologiquement', 'saluer', 'fine', 'genialtous', 'merveilleusement', 'bienj', 'etonne', 'hauteurmon', 'sensationnelle', 'catastrophe', 'conduite', 'amenee', 'prises', 'moyennes', 'fouillee', 'tombant', 'melo', 'gamme', 'ranger', 'insatisfaits', 'sceptiques', 'quelquesuns', 'torrent', 'accordant', 'palette', 'nouvellement', 'etendue', 'cinq', 'notation', 'chefs', 'seduisante', 'soutenue', 'epopee', 'opte', 'hypothese', 'fantasme', 'futurs', 'narre', 'exploits', 'staff', 'inegale', 'gordon', 'levitt', 'croisement', 'vulgarisation', 'freudienne', 'nostalgie', 'mythologique', 'pardela', 'orphique', 'exotisme', 'client', 'encoreplein', 'sentimental', 'pseudophilosophique', 'mystique', 'enthousiastes', 'fourretout', 'roublard', 'scenaristerealisateur', 'imitation', 'americaines', 'sensibilte', 'mefiance', 'auberge', 'espagnole', 'expression', 'ressusciter', 'chinois', 'blablacompliquer', 'epoustoufflante', 'spetiaux', 'scenariomais', 'bluffer', 'redondantes', 'morte', 'gordonlewitt', 'risquent', 'volontier', 'incongrue', 'poignant', 'fignole', 'impose', 'realisateurs', 'enthousiasmant', 'combinaison', 'deroge', 'regle', 'proclame', 'ringard', 'signifiait', 'atout', 'mouais', 'millimetree', 'glaciale', 'exclamant', 'prime', 'figes', 'fixes', 'couleurs', 'sombres', 'travailles', 'approfondis', 'basiques', 'surprend', 'trottoir', 'actuelle', 'presentation', 'surfaits', 'emboitement', 'temporel', 'retient', 'soulagement', 'defiler', 'engoument', 'mature', 'captivante', 'vivre', 'magistralement', 'deborde', 'richesses', 'ingeniosite', 'necessitant', 'visionnages', 'intensifie', 'prestations', 'classes', 'thardy', 'jgordonlevitt', 'surprenante', 'epage', 'confie', 'mcotillard', 'filme', 'maitre', 'adoucit', 'desirer', 'satisfaire', 'audience', 'longmetrage', 'definit', 'somme', 'bombe', 'majeur', 'inceptionquelle', 'deceptionc', 'indescriptible', 'insomnie', 'dodo', 'assurecomme', 'derrick', 'deplaisant', 'patte', 'auteurisante', 'humble', 'aviscertes', 'britannique', 'numerique', 'traditionnels', 'fluide', 'spectaculairede', 'elabore', 'exigence', 'requise', 'didactique', 'familiariser', 'resterait', 'international', 'boyscout', 'sousexploiteececi', 'personnelles', 'unanimement', 'reconnue', 'moimeme', 'indiscutables', 'nolanmania', 'honnetes', 'immemoriels', 'fim', 'imax', 'dechaine', 'foules', 'esperant', 'gate', 'rocambolesque', 'effusion', 'piqure', 'obligatoire', 'requiem', 'ragoutant', 'surcroit', 'dissuade', 'artificielle', 'surjouer', 'visionnant', 'apprecierai', 'echappeesje', 'decides', 'vf^^', 'briques', 'autresalors', 'convaincants', 'personnelement', 'discute', 'bruyante', 'percu', 'histoirece', 'impliques', 'concernes', 'passeet', 'hachoir', 'respire', 'assommes', 'stroboscopique', 'inutilesil', 'amas', 'technologiques', 'froides', 'derangecomme', 'oniriquethe', 'arrivait', 'brio', 'marquantes', 'intelligible', 'gothique', 'reussieil', 'apercevoir', 'artistique', 'auteurj', 'essayerais', 'souffert', 'degonflera', 'baudruche', 'passee', 'plonges', 'tenez', 'empile', 'briller', 'gesticule', 'pseudointellectualiser', 'pueril', 'cauchemard', 'resussite', 'embrouillee', 'tiroir', 'cloisons', 'maitrisees', 'lassant', 'remake', 'moderne', 'lasse', 'vitej', 'penible', 'faim', 'jeien', 'instinct', 'assommant', 'tristesse', 'inventive', 'epoustouflants', 'diredes', 'topune', 'rea', 'topmais', 'blablablablablablbaaaaa', 'filmon', 'finl', 'abracadabrante', 'departbref', 'happe', 'chamboule', 'eveiller', 'filmscenario', 'revait', 'meriterait', 'tentaculaire', 'adulte', 'prouesses', 'narratives', 'ecueils', 'promene', 'mornes', 'degager', 'connu', 'score', 'poussif', 'eceuil', 'financiers', 'obscures', 'prevoyait', 'restent', 'tirer', 'analyses', 'attendue', 'twist', 'miteuse', 'pallier', 'huien', 'expliquee', 'pompeuse', 'gueuleah', 'enrober', 'soie', 'cacher', 'forfaiture', 'claviers', 'omnipresents', 'lourds', 'graves', 'impressionner', 'artifices', 'amasser', 'tunes', 'raccoleurs', 'pubs', 'idemmes', 'incences', 'profiter', 'cretinerie', 'arretez', 'bouffer', 'glutamate', 'brosser', 'fluor', 'reflechissez', 'derobe', 'cibles', 'industriels', 'invitee', 'missions', 'vatelle', 'simplifieedans', 'epingle', 'soleil', 'novateurs', 'empruntes', 'dynamisme', 'contagieux', 'flash', 'back', 'poussifs', 'cles', 'quota', 'mitraillettes', 'inevitables', 'affaiblissent', 'intimiste', 'paraitil', 'simplistesi', 'shyamalan', 'comparebilan', 'operations', 'lara', 'croft', 'travel', 'all', 'over', 'world', 'promesse', 'commerciale', 'divertissantet', 'ontils', 'marre', 'epinal', 'france', 'bars', 'jetterontils', 'orties', 'epuiser', 'prometteur', 'irremediablement', 'precedents', 'preferes', 'corrompre', 'hit', 'jugeote', 'km^^', 'tarde', 'platement', 'primordial', 'lourdement', 'confondante', 'cynisme', 'empresse', 'genialissime', 'longuet', 'raccourci', 'blood', 'diamond', 'aviator', 'ect', 'bandeoriginale', 'hideuse', 'signee', 'etouffante', 'naturellement', 'moindres', 'inexistantes', 'bizarre', 'fouillant', 'vocabulaire', 'totem', 'decoudre', 'lacher', 'rater', 'primordiale', 'specialiste', 'entorses', 'deboussoler', 'negatifs', 'noterai', 'abus', 'assaut', 'traitre', 'ternes', 'chauffeur', 'arabe', 'gaiete', 'foisonnant', 'etincelle', 'reflechi', 'reflechibref', 'enooorme', 'copmlique', 'louper', 'parole', 'adherer', 'possibles', 'retourner', 'devine', 'couru', 'escroquerie', 'narrativement', 'matrixien', 'moche', 'haneke', 'flippant', 'promesses', 'enigmatique', 'connaissais', 'interstellar', 'decouverts', 'perchee', 'officiers', 'inconnue', 'potentiels', 'crimes', 'criminels', 'chasse', 'comprise', 'tournuresles', 'balancement', 'baignoire', 'momentla', 'innonde', 'alpin', 'poursuivie', 'provoquee', 'vehicule', 'transportant', 'dormantune', 'domptee', 'folle', 'radicalement', 'pliee', 'visuelle', 'risquerait', 'brutal', 'tsss', 'raffinement', 'canardage', 'incessant', 'first', 'person', 'shooter', 'grisglauques', 'package', 'adolescents', 'deprimes', 'ingenieuses', 'meriter', 'provoque', 'installation', 'decerebre', 'inepte', 'fute', 'volatilisee', 'lurette', 'fenetre', 'pitie', 'fascination', 'etonner', 'capable', 'qeue', 'narrative', 'defforts', 'high', 'tech', 'lenvers', 'etirement', 'muscles', 'savoirfaire', 'proprete', 'clinique', 'dhopital', 'hermetique', 'chic', 'monstrueux', 'dinventivite', 'huilee', 'p', 'deguise', 'madame', 'retine', 'immediate', 'somptueuse', 'hommage', 'oscarisee', 'dolivier', 'dahan', 'bebete', 'souviens', 'merveille', 'spoiler', 'reuni', 'concocte', 'naurons', 'blablatage', 'sauveront', 'neurones', 'censes', 'palais', 'risquez', 'saturation', 'obsedante', 'loisir', 'demotions', 'ciment', 'decousu', 'sinteresser', 'ratage', 'sommeille', 'nanard', 'hesite', 'virtuoses', 'pompeux', 'constructions', 'clairesles', 'sentimentale', 'auraisje', 'insister', 'abandonne', 'adepte', 'esthetiquement', 'irreprochable', 'splendide', 'desuete', 'archi', 'favori', 'medias', 'mienne', 'vivement', 'prochaines', 'sensations', 'generalement', 'argumentes', 'centrer', 'rates', 'pratiquement', 'fictive', 'confection', 'complexes', 'cambriolage', 'multiplication', 'alambiques', 'sus', 'fragilise', 'chateau', 'cartes', 'seme', 'cede', 'hollywoodiser', 'bruitages', 'redite', 'bacles', 'cinquante', 'chouia', 'twistesque', 'forteresse', 'thematique', 'seules', 'architecturaux', 'gravite', 'changent', 'debute', 'erreur', 'interviennent', 'chris', 'demisiecle', 'signe', 'copieusement', 'surevalue', 'he', 'ho', 'detestent', 'voulant', 'inconstant', 'maladresses', 'premierement', 'sencombre', 'dexplication', 'lorigine', 'dinteraction', 'information', 'inaccessible', 'despionnage', 'dimplanter', 'lorsquil', 'linciter', 'adopter', 'prealableen', 'travaillent', 'faudra', 'saccrocher', 'manipulations', 'mentales', 'couvert', 'digressions', 'laboutissement', 'ajoutons', 'espece', 'melimelo', 'cheveuxde', 'malheureux', 'perdra', 'naura', 'interchangeables', 'dhans', 'convenues', 'lambiance', 'parvenez', 'passionner', 'pousser', 'suivront', 'passions', 'autresau', 'preferera', 'inception', 'xxx', 'days', 'formidables', 'parfaits', 'attache', 'creuser', 'bombardement', 'geante', 'calmezvous', 'pause', 'aven', 'bati', 'particuliers', 'emberlificotes', 'ressources', 'dementiront', 'deroulant', 'integralement', 'convainquant', 'paradoxalement', 'teneur', 'poreux', 'combles', 'oubliee', 'trasporte', 'planant', 'oubliees', 'lumieres', 'evocatrices', 'croule', 'explicatifs', 'faconnee', 'implacable', 'realistes', 'renforcent', 'reticente', 'faramineux', 'payes', 'mains', 'lancee', 'waouh', 'decousue', 'realisteje', 'films', 'severe', 'depatouille', 'deboule', 'lentement', 'doubleur', 'bonnement', 'renouveau', 'gen', 'translucide', 'acceuil', 'quasiunanime', 'surestimes', 'intersideral', 'recycle', 'laissons', 'duvres', 'voulezvous', 'marge', 'distrayant', 'leonard', 'futur', 'senti', 'corde', 'vibrer', 'christophe', 'concocter', 'lillusion', 'annoncees', 'desamorcees', 'larrivee', 'sennuie', 'reponses', 'bacler', 'conclure', 'maturation', 'triple', 'improbables', 'risibles', 'livarot', 'a', 'delirant', 'inconscients', 'boostees', 'faiblesse', 'interviews', '^_^', 'mememto', 'clore', 'nolan', 'excessivement', 'bavarde', 'infructueux', 'dialoguees', 'fronce', 'sourcils', 'utilites', 'pellicule', 'desastreuse', 'tapageuse', 'encensee', 'attendaiton', 'lapres', 'dinspirations', 'prevu', 'recus', 'ideeson', 'sassoit', 'tranquillement', 'levres', 'admirant', 'spots', 'synthese', 'vache', 'mcdo', 'daller', 'ressemblele', 'louverture', 'classicisme', 'dintroduction', 'allecher', 'alternatives', 'quoffre', 'filmet', 'marcheon', 'presenter', 'blinde', 'reprendre', 'fortune', 'familiale', 'guillemets', 'affirment', 'castings', 'operer', 'dinfiltrer', 'modeler', 'linvitant', 'vente', 'parts', 'perefaut', 'certesjusquici', 'jusquici', 'renversements', 'rendent', 'aussicest', 'matrixiennes', 'islandesques', 'rebienaime', 'grimpant', 'murs', 'sourimalheureusement', 'starting', 'blocks', 'bloque', 'warmupla', 'jassistais', 'test', 'snowboarder', 'playstation', 'tuant', 'centaine', 'peter', 'dos', 'fermes', 'arriere', 'scooter', 'neigessans', 'compter', 'obligeant', 'dalterner', 'vecu', 'chers', 'terrain', 'dolive', 'tomheureusement', 'remarque', 'pleurent', 'ahon', 'cadrages', 'serre', 'melle', 'damouroui', 'ahniveau', 'dexplosions', 'luke', 'skywalker', 'utiliser', 'dinconscience', 'echapper', 'oooohhh', 'presqueet', 'nexagere', 'rires', 'stupeur', 'frissons', 'magnifiquecomme', 'attendait', 'permettrait', 'liberer', 'roi', 'lion', 'mufasa', 'dhappy', 'biencertes', 'brique', 'rapprocherait', 'lecran', 'stimulant', 'multifonctionnelle', 'sentoure', 'dinfluences', 'blockbusteresques', 'jusqua', 'laspect', 'scenesvivement', 'diront', 'inserer', 'savait', 'scenario', 'compagnons', 'unissez', 'explicatives', 'decroissant', 'film', 'numeriquement', 'dires', 'rattrapent', 'reelles', 'consistances', 'donneraient', 'humanite', 'ressemblerait', 'ordinateur', 'snipper', 'operation', 'echoue', 'epoustoufle', 'mourrant', 'insiste', 'fiston', 'concurrents', 'connaissent', 'revent', 'reveilles', 'job', 'tourmente', 'risquer', 'adrenaline', 'psychologues', 'psychiatres', 'passionne', 'etude', 'savants', 'tirees', 'metil', 'jourou', 'mel', 'construisent', 'serres', 'perte', 'choisir', 'ravir', 'spectateursun', 'rapidementla', 'marbre', 'salleaucune', 'reunis', 'envoute', 'reels', 'analyse', 'mettais', 'espoirs', 'quart', 'direction', 'perturbante', 'posee', 'plaisante', 'bandeson', 'rejouissante', 'semi', 'surpasse', 'tristement', 'balancer', 'barrer', 'pions', 'abattre', 'chaine', 'videoj', 'plut', '$', 'ot', 'poli', 'deluges', 'revenolan', 'coche', 'memorables', 'savere', 'fatigante', 'mener', 'exceptee', 'lincomprehensible', 'redoubler', 'dimagination', 'professionnelles', 'enseveli', 'reessaye', 'rereessaye', 'tarabiscote', 'unicite', 'aucunement', 'parlaient', 'envoutante', 'villes', 'transformation', 'explose', 'mitraille', 'coins', 'pseudohistoire', 'gramme', 'scenariobref', 'decorateurs', 'creve', 'maisest', 'memoires', 'compliquer', 'certe', 'saoulante', 'bouge', 'cretines', 'remboursez', 'resiste', 'perdus', 'imaginarium', 'docteur', 'parnassus', 'cent', 'monstre', 'cilian', 'superpositions', 'integrer', 'tentes', 'decrochermalgre', 'hatais', 'magistral', 'maginifique', 'bouille', 'traqueur', 'fugitif', 'detruire', 'leguerun', 'colossale', 'detonnantes', 'entrelacement', 'virtuose', 'dattaques', 'reperes', 'plagiat', 'effraction', 'lest', 'bascule', 'gare', 'pardon', 'accrochezvous', 'gere', 'maestria', 'cen', 'suffocant', 'mievreries', 'abracadabrants', 'dualite', 'reelimaginaire', 'sobre', 'emouvante', 'defend', 'profil', 'pierrot', 'lunaire', 'sefforce', 'metier', 'efficaces', 'adapteson', 'integre', 'fellini', 'magiques', 'metal', 'sache', 'sarreter', 'finira', 'choir', 'matriochka', 'mouvement', 'perpetuel', 'rebondissement', 'effetssinon', 'agreablement', 'impressionants', 'retournee', 'degres', 'crepe', 'ramer', 'qn', 'efficacite']\n"
     ]
    }
   ],
   "source": [
    "# réduire le nombre de mots en supprimant les doublons\n",
    "# on transforme la liste en dico, on supprime les doublons, on retransforme en liste\n",
    "\n",
    "mylist = list(dict.fromkeys(liste_neg))\n",
    "print(mylist)"
   ]
  },
  {
   "cell_type": "code",
   "execution_count": 50,
   "id": "0a538fd4",
   "metadata": {},
   "outputs": [
    {
     "data": {
      "text/plain": [
       "6475"
      ]
     },
     "execution_count": 50,
     "metadata": {},
     "output_type": "execute_result"
    }
   ],
   "source": [
    "# nombre d'éléments dans la liste\n",
    "len(mylist)"
   ]
  },
  {
   "cell_type": "markdown",
   "id": "9135e800",
   "metadata": {},
   "source": [
    "### Création d'une liste de mots négatifs dans un txt"
   ]
  },
  {
   "cell_type": "code",
   "execution_count": 83,
   "id": "fadeae3e",
   "metadata": {
    "scrolled": true
   },
   "outputs": [],
   "source": [
    "# enregistrer les mots dans une liste\n",
    "\n",
    "# On crée un fichier txt\n",
    "f = open(\"liste_mots_neg.txt\", \"x\")"
   ]
  },
  {
   "cell_type": "code",
   "execution_count": 84,
   "id": "ccaeb99e",
   "metadata": {},
   "outputs": [],
   "source": [
    "# On ajoute chaque mot dans le fichier\n",
    "f = open(\"liste_mots_neg.txt\", \"a\")\n",
    "for x in mylist :\n",
    "    f.write(x+\"\\n\")\n",
    "f.close()"
   ]
  },
  {
   "cell_type": "markdown",
   "id": "33b3516b",
   "metadata": {},
   "source": [
    "##  Traduire chaque mot et l'ajouter au jeu de données"
   ]
  },
  {
   "cell_type": "code",
   "execution_count": 60,
   "id": "f7559141",
   "metadata": {},
   "outputs": [
    {
     "name": "stderr",
     "output_type": "stream",
     "text": [
      "100%|██████████████████████████████████████████████████████████████████████████████| 6475/6475 [29:55<00:00,  3.61it/s]\n"
     ]
    }
   ],
   "source": [
    "from tqdm import tqdm\n",
    "from googletrans import Translator, constants\n",
    "from pprint import pprint\n",
    "\n",
    "mots_trad = []\n",
    "translator = Translator()\n",
    "\n",
    "\n",
    "for x in tqdm(mylist) :\n",
    "    traduction = translator.translate(x)\n",
    "    mots_trad.append(traduction.text)"
   ]
  },
  {
   "cell_type": "code",
   "execution_count": 65,
   "id": "01f7bea9",
   "metadata": {},
   "outputs": [
    {
     "name": "stdout",
     "output_type": "stream",
     "text": [
      "\n"
     ]
    }
   ],
   "source": [
    "# On supprime les caractères vides\n",
    "liste_supp = [\"\", \" \", \"  \", \"    \", \"     \"]\n",
    "\n",
    "for x in mots_trad :\n",
    "    if x in liste_supp :\n",
    "        mots_trad.remove(x)"
   ]
  },
  {
   "cell_type": "code",
   "execution_count": 66,
   "id": "3f87d9d5",
   "metadata": {},
   "outputs": [
    {
     "data": {
      "text/plain": [
       "6474"
      ]
     },
     "execution_count": 66,
     "metadata": {},
     "output_type": "execute_result"
    }
   ],
   "source": [
    "len(mots_trad)"
   ]
  },
  {
   "cell_type": "code",
   "execution_count": 80,
   "id": "61e938d7",
   "metadata": {},
   "outputs": [],
   "source": [
    "# enregistrer les mots dans une liste\n",
    "\n",
    "# On crée un fichier txt\n",
    "# f = open(\"mots_traduits.txt\", \"x\")\n",
    "\n",
    "# On ajoute chaque mot dans le fichier\n",
    "with open('mots_traduits.txt', 'w', encoding=\"utf-8\") as f:\n",
    "    for line in mots_trad:\n",
    "        f.write(line)\n",
    "        f.write('\\n')\n",
    "f.close()"
   ]
  },
  {
   "cell_type": "markdown",
   "id": "9af19878",
   "metadata": {},
   "source": [
    "#### Traduire de l'anglais au français"
   ]
  },
  {
   "cell_type": "code",
   "execution_count": 69,
   "id": "35026474",
   "metadata": {},
   "outputs": [
    {
     "name": "stderr",
     "output_type": "stream",
     "text": [
      "100%|██████████████████████████████████████████████████████████████████████████████| 6474/6474 [29:45<00:00,  3.63it/s]\n"
     ]
    }
   ],
   "source": [
    "mots_fr = []\n",
    "translator = Translator()\n",
    "\n",
    "\n",
    "for x in tqdm(mots_trad) :\n",
    "    traduction = translator.translate(x, src = 'en', dest='fr')\n",
    "    mots_fr.append(traduction.text)"
   ]
  },
  {
   "cell_type": "code",
   "execution_count": 81,
   "id": "49dbb1e9",
   "metadata": {},
   "outputs": [],
   "source": [
    "# enregistrer les mots dans une liste\n",
    "\n",
    "# On crée un fichier txt\n",
    "# f = open(\"mots_trad_fr.txt\", \"x\")\n",
    "\n",
    "# On ajoute chaque mot dans le fichier\n",
    "with open('mots_trad_fr.txt', 'w', encoding=\"utf-8\") as f:\n",
    "    for line in mots_fr:\n",
    "        f.write(line)\n",
    "        f.write('\\n')\n",
    "f.close()"
   ]
  },
  {
   "cell_type": "code",
   "execution_count": null,
   "id": "261f1213",
   "metadata": {},
   "outputs": [],
   "source": [
    "# supprimer les doublons pour réduire le jeu de données (données superflues)"
   ]
  },
  {
   "cell_type": "code",
   "execution_count": 86,
   "id": "62dd1670",
   "metadata": {},
   "outputs": [],
   "source": [
    "# traduire de l'anglais au fr\n",
    "# ajouter la nouvelle liste à l'ancienne\n",
    "new_data = filtre + mots_fr\n",
    "# split train_test\n",
    "# entraînement du modèle"
   ]
  },
  {
   "cell_type": "code",
   "execution_count": 88,
   "id": "d1d98773",
   "metadata": {},
   "outputs": [
    {
     "data": {
      "text/plain": [
       "170208"
      ]
     },
     "execution_count": 88,
     "metadata": {},
     "output_type": "execute_result"
    }
   ],
   "source": [
    "len(filtre)"
   ]
  },
  {
   "cell_type": "code",
   "execution_count": 87,
   "id": "b5760b49",
   "metadata": {},
   "outputs": [
    {
     "data": {
      "text/plain": [
       "176682"
      ]
     },
     "execution_count": 87,
     "metadata": {},
     "output_type": "execute_result"
    }
   ],
   "source": [
    "len(new_data)"
   ]
  },
  {
   "cell_type": "markdown",
   "id": "34387119",
   "metadata": {},
   "source": [
    "---"
   ]
  },
  {
   "cell_type": "markdown",
   "id": "1e191135",
   "metadata": {},
   "source": [
    "## Séparation des données en X et y"
   ]
  },
  {
   "cell_type": "code",
   "execution_count": 373,
   "id": "0323873c",
   "metadata": {},
   "outputs": [],
   "source": [
    "X = df['Traitement_2']\n",
    "y = df['Note']"
   ]
  },
  {
   "cell_type": "markdown",
   "id": "bbd6a088",
   "metadata": {},
   "source": [
    "### Split train-test"
   ]
  },
  {
   "cell_type": "code",
   "execution_count": 374,
   "id": "359ba55a",
   "metadata": {},
   "outputs": [
    {
     "data": {
      "text/plain": [
       "((2324,), (2324,), (581,), (581,))"
      ]
     },
     "execution_count": 374,
     "metadata": {},
     "output_type": "execute_result"
    }
   ],
   "source": [
    "X_train, X_test, y_train, y_test = train_test_split(X,y, test_size=0.2, random_state=0)\n",
    "\n",
    "# taille respective :\n",
    "X_train.shape, y_train.shape, X_test.shape, y_test.shape"
   ]
  },
  {
   "cell_type": "code",
   "execution_count": 376,
   "id": "d093ebc1",
   "metadata": {},
   "outputs": [
    {
     "data": {
      "text/plain": [
       "2631    exellent film montr comment march rev inconsci...\n",
       "188     suit premi volet introduit nouveau personnag c...\n",
       "900     superb suitel er etait top second rempl contra...\n",
       "2072    tout simpl chef oeuvr comm exist peu aujourd h...\n",
       "2397    film genr voit tre rar quas a chaqu fois chez ...\n",
       "                              ...                        \n",
       "763     film just incroi pass excellent moment vu h fi...\n",
       "835     ador film beaucoup mieux premi loin trop aim c...\n",
       "1653    scenario grandios uniqu acteur mis scen parfai...\n",
       "2607    excellent film etais trop chaud a aller voir a...\n",
       "2732                                               superb\n",
       "Name: Traitement_2, Length: 2324, dtype: object"
      ]
     },
     "execution_count": 376,
     "metadata": {},
     "output_type": "execute_result"
    }
   ],
   "source": [
    "X_train"
   ]
  },
  {
   "cell_type": "markdown",
   "id": "aafeb65a",
   "metadata": {},
   "source": [
    "## Bag of Words et vectorisation"
   ]
  },
  {
   "cell_type": "code",
   "execution_count": 377,
   "id": "324780a3",
   "metadata": {},
   "outputs": [],
   "source": [
    "liste = []\n",
    "\n",
    "for x in df['Traitement_2']:\n",
    "    liste.append(x)\n",
    "    "
   ]
  },
  {
   "cell_type": "code",
   "execution_count": 378,
   "id": "4fdea291",
   "metadata": {},
   "outputs": [
    {
     "data": {
      "text/plain": [
       "2905"
      ]
     },
     "execution_count": 378,
     "metadata": {},
     "output_type": "execute_result"
    }
   ],
   "source": [
    "len(liste)"
   ]
  },
  {
   "cell_type": "code",
   "execution_count": 379,
   "id": "d9c2efe7",
   "metadata": {},
   "outputs": [
    {
     "data": {
      "image/png": "[encoded data removed]",
      "text/plain": [
       "<Figure size 432x288 with 1 Axes>"
      ]
     },
     "metadata": {
      "needs_background": "light"
     },
     "output_type": "display_data"
    }
   ],
   "source": [
    "fdist = FreqDist(liste_neg)\n",
    "\n",
    "# Frequency Distribution Plot\n",
    "import matplotlib.pyplot as plt\n",
    "fdist.plot(30,cumulative=False)\n",
    "plt.show()"
   ]
  },
  {
   "cell_type": "code",
   "execution_count": 475,
   "id": "1b46e75f",
   "metadata": {},
   "outputs": [
    {
     "data": {
      "text/plain": [
       "(2905, 8748)"
      ]
     },
     "execution_count": 475,
     "metadata": {},
     "output_type": "execute_result"
    }
   ],
   "source": [
    "from sklearn.feature_extraction.text import CountVectorizer, TfidfVectorizer\n",
    "\n",
    "CountVec = CountVectorizer()\n",
    "Count_data = CountVec.fit_transform(liste)\n",
    "# X_test_vec = CountVec.fit_transform(X_test)\n",
    "\n",
    "Count_data.shape"
   ]
  },
  {
   "cell_type": "code",
   "execution_count": 476,
   "id": "af32ebe9",
   "metadata": {},
   "outputs": [
    {
     "data": {
      "text/plain": [
       "{'bon': 851,\n",
       " 'suit': 7894,\n",
       " 'aventur': 619,\n",
       " 'sonic': 7688,\n",
       " 'cinem': 1306,\n",
       " 'dej': 2089,\n",
       " 'premi': 6420,\n",
       " 'film': 3370,\n",
       " 'etait': 3045,\n",
       " 'sup': 7912,\n",
       " 'bienun': 785,\n",
       " 'divert': 2461,\n",
       " 'tout': 8256,\n",
       " 'famill': 3270,\n",
       " 'jim': 4496,\n",
       " 'carrey': 1091,\n",
       " 'plein': 6241,\n",
       " 'formeun': 3504,\n",
       " 'explos': 3192,\n",
       " 'trop': 8350,\n",
       " 'cool': 1683,\n",
       " 'cet': 1173,\n",
       " 'incroi': 4164,\n",
       " 'fan': 3272,\n",
       " 'rav': 6772,\n",
       " 'quand': 6645,\n",
       " 'jou': 4518,\n",
       " 'megadr': 5182,\n",
       " 'montr': 5400,\n",
       " 'devenu': 2286,\n",
       " 'dingu': 2382,\n",
       " 'univer': 8411,\n",
       " 'jeu': 4486,\n",
       " 'parfait': 5927,\n",
       " 'respect': 7072,\n",
       " 'amour': 305,\n",
       " 'passion': 5993,\n",
       " 'spoil': 7798,\n",
       " 'tail': 8033,\n",
       " 'avion': 629,\n",
       " 'knuckl': 4586,\n",
       " 'robotnik': 7238,\n",
       " 'robot': 7235,\n",
       " 'guep': 3775,\n",
       " 'fond': 3485,\n",
       " 'eau': 2579,\n",
       " 'absorb': 28,\n",
       " 'bull': 985,\n",
       " 'oxygen': 5851,\n",
       " 'emeraud': 2745,\n",
       " 'clin': 1360,\n",
       " 'droit': 2549,\n",
       " 'gauch': 3634,\n",
       " 'rendent': 6988,\n",
       " 'hommag': 3913,\n",
       " 'sang': 7338,\n",
       " 'transform': 8284,\n",
       " 'just': 4554,\n",
       " 'magnif': 5011,\n",
       " 'histoir': 3895,\n",
       " 'toujour': 8238,\n",
       " 'auss': 577,\n",
       " 'sympath': 8013,\n",
       " 'petit': 6122,\n",
       " 'adopt': 137,\n",
       " 'eggmanc': 2676,\n",
       " 'merveil': 5238,\n",
       " 'viv': 8587,\n",
       " 'ouf': 5824,\n",
       " 'fait': 3254,\n",
       " 'cot': 1710,\n",
       " 'eggman': 2675,\n",
       " 'debut': 1960,\n",
       " 'referent': 6901,\n",
       " 'jeux': 4493,\n",
       " 'bas': 697,\n",
       " 'fidelit': 3354,\n",
       " 'vrai': 8645,\n",
       " 'truc': 8361,\n",
       " 'vach': 8437,\n",
       " 'apprec': 391,\n",
       " 'inclus': 4141,\n",
       " 'mast': 5121,\n",
       " 'emerald': 2744,\n",
       " 'chaos': 1203,\n",
       " 'mem': 5199,\n",
       " 'tre': 8318,\n",
       " 'fun': 3591,\n",
       " 'regard': 6920,\n",
       " 'tant': 8046,\n",
       " 'surtout': 7989,\n",
       " 'scen': 7387,\n",
       " 'court': 1748,\n",
       " 'vit': 8582,\n",
       " 'ca': 999,\n",
       " 'sembl': 7467,\n",
       " 'bet': 765,\n",
       " 'dir': 2397,\n",
       " 'comm': 1435,\n",
       " 'exempl': 3157,\n",
       " 'esquiv': 3011,\n",
       " 'vagu': 8441,\n",
       " 'cours': 1746,\n",
       " 'poursuit': 6373,\n",
       " 'entre': 2901,\n",
       " 'templ': 8092,\n",
       " 'combat': 1419,\n",
       " 'final': 3407,\n",
       " 'bref': 929,\n",
       " 'styl': 7846,\n",
       " 'cgi': 1177,\n",
       " 'march': 5089,\n",
       " 'bien': 771,\n",
       " 'vf': 8519,\n",
       " 'not': 5641,\n",
       " 'voix': 8619,\n",
       " 'deplais': 2175,\n",
       " 'tous': 8255,\n",
       " 'hater': 3845,\n",
       " 'malik': 5057,\n",
       " 'bentalh': 755,\n",
       " 'symp': 8012,\n",
       " 'si': 7561,\n",
       " 'humain': 3948,\n",
       " 'franch': 3546,\n",
       " 'util': 8426,\n",
       " 'plus': 6266,\n",
       " 'donc': 2499,\n",
       " 'va': 8435,\n",
       " 'tranquill': 8282,\n",
       " 'puis': 6612,\n",
       " 'postcred': 6344,\n",
       " 'annonc': 339,\n",
       " 'shadow': 7549,\n",
       " 'hyp': 3958,\n",
       " 'retrouv': 7131,\n",
       " 'lespr': 4762,\n",
       " 'clair': 1338,\n",
       " 'cran': 1765,\n",
       " 'trouv': 8357,\n",
       " 'rest': 7090,\n",
       " 'daventur': 1928,\n",
       " 'daction': 1861,\n",
       " 'familial': 3268,\n",
       " 'fonc': 3481,\n",
       " 'voir': 8605,\n",
       " 'saur': 7371,\n",
       " 'decu': 2038,\n",
       " 'alor': 271,\n",
       " 'transposit': 8299,\n",
       " 'mond': 5377,\n",
       " 'reel': 6891,\n",
       " 'assez': 490,\n",
       " 'reuss': 7136,\n",
       " 'personnag': 6094,\n",
       " 'attach': 520,\n",
       " 'ecritur': 2629,\n",
       " 'plutot': 6273,\n",
       " 'correct': 1701,\n",
       " 'rigolos': 7220,\n",
       " 'succedent': 7876,\n",
       " 'succulent': 7881,\n",
       " 'complet': 1466,\n",
       " 'barg': 692,\n",
       " 'contr': 1635,\n",
       " 'pass': 5980,\n",
       " 'an': 315,\n",
       " 'risqu': 7228,\n",
       " 'ennui': 2851,\n",
       " 'scenario': 7390,\n",
       " 'plat': 6230,\n",
       " 'quarantenair': 6651,\n",
       " 'quet': 6682,\n",
       " 'approch': 404,\n",
       " 'materiau': 5128,\n",
       " 'orignal': 5790,\n",
       " 'peu': 6125,\n",
       " 'decus': 2040,\n",
       " 'manqu': 5079,\n",
       " 'substanc': 7866,\n",
       " 'dison': 2423,\n",
       " 'pu': 6604,\n",
       " 'etre': 3087,\n",
       " 'pir': 6185,\n",
       " 'malgr': 5050,\n",
       " 'deux': 2278,\n",
       " 'nouveau': 5654,\n",
       " 'video': 8530,\n",
       " 'loin': 4905,\n",
       " 'catchlin': 1117,\n",
       " 'affich': 159,\n",
       " 'fois': 3467,\n",
       " 'tend': 8099,\n",
       " 'ver': 8494,\n",
       " 'moin': 5361,\n",
       " 'eton': 3079,\n",
       " 'refer': 6900,\n",
       " 'opus': 5759,\n",
       " 'sort': 7703,\n",
       " 'doubl': 2520,\n",
       " 'merit': 5235,\n",
       " 'nouveaut': 5655,\n",
       " 'effet': 2650,\n",
       " 'surprisec': 7983,\n",
       " 'malheur': 5051,\n",
       " 'faut': 3303,\n",
       " 'savoir': 7380,\n",
       " 'confort': 1565,\n",
       " 'zon': 8747,\n",
       " 'connu': 1581,\n",
       " 'apprecie': 393,\n",
       " 'egal': 2668,\n",
       " 'relanc': 6948,\n",
       " 'interet': 4339,\n",
       " 'osant': 5798,\n",
       " 'quelqu': 6666,\n",
       " 'nouvel': 5656,\n",
       " 'recettesc': 6818,\n",
       " 'version': 8506,\n",
       " 'distr': 2447,\n",
       " 'amus': 314,\n",
       " 'rythm': 7286,\n",
       " 'souvent': 7763,\n",
       " 'soutenu': 7753,\n",
       " 'certain': 1162,\n",
       " 'arriv': 452,\n",
       " 'insuffl': 4299,\n",
       " 'chos': 1275,\n",
       " 'total': 8227,\n",
       " 'novateur': 5657,\n",
       " 'comparaison': 1454,\n",
       " 'predecesseurjim': 6406,\n",
       " 'piqu': 6182,\n",
       " 'plais': 6211,\n",
       " 'leg': 4715,\n",
       " 'audessous': 561,\n",
       " 'numero': 5674,\n",
       " 'sit': 7618,\n",
       " 'cinemadourgfreefr': 1308,\n",
       " 'press': 6447,\n",
       " 'abus': 35,\n",
       " 'frisson': 3568,\n",
       " 'jusqu': 4550,\n",
       " 'fin': 3406,\n",
       " 'aucun': 556,\n",
       " 'decrochag': 2033,\n",
       " 'chef': 1226,\n",
       " 'oeuvr': 5708,\n",
       " 'sacr': 7297,\n",
       " 'supris': 7940,\n",
       " 'apre': 412,\n",
       " 'gener': 3648,\n",
       " 'mis': 5330,\n",
       " 'avant': 608,\n",
       " 'touch': 8233,\n",
       " 'coup': 1732,\n",
       " 'cur': 1844,\n",
       " 'grand': 3730,\n",
       " 'kilometr': 4573,\n",
       " 'seanc': 7437,\n",
       " 'vostfr': 8633,\n",
       " 'recommand': 6834,\n",
       " 'dign': 2352,\n",
       " 'vann': 8459,\n",
       " 'action': 105,\n",
       " 'prend': 6429,\n",
       " 'plac': 6200,\n",
       " 'encor': 2799,\n",
       " 'fou': 3512,\n",
       " 'oubliabl': 5819,\n",
       " 'mignon': 5284,\n",
       " 'marr': 5109,\n",
       " 'oubl': 5817,\n",
       " 'postgen': 6345,\n",
       " 'vaut': 8472,\n",
       " 'detour': 2263,\n",
       " 'hat': 3843,\n",
       " 'parent': 5922,\n",
       " 'enfant': 2821,\n",
       " 'vont': 8631,\n",
       " 'exceptionnel': 3145,\n",
       " 'meilleur': 5186,\n",
       " 'beaucoup': 737,\n",
       " 'person': 6092,\n",
       " 'paress': 5924,\n",
       " 'opportun': 5750,\n",
       " 'conserv': 1597,\n",
       " 'defaut': 2052,\n",
       " 'predecesseur': 6405,\n",
       " 'laid': 4619,\n",
       " 'stupid': 7845,\n",
       " 'san': 7337,\n",
       " 'interethttp': 4340,\n",
       " 'wwwcineseriecomcritiquescinesonicunesuiteopportunistehttp': 8720,\n",
       " 'wwwcineseriecomnewscinemasonicfocussurlascenepostgener': 8721,\n",
       " 'postgeneriqueplus': 6347,\n",
       " 'ambiti': 290,\n",
       " 'nombreux': 5619,\n",
       " 'element': 2695,\n",
       " 'autr': 592,\n",
       " 'public': 6606,\n",
       " 'adult': 150,\n",
       " 'ester': 3031,\n",
       " 'egg': 2674,\n",
       " 'second': 7441,\n",
       " 'lectur': 4710,\n",
       " 'leger': 4717,\n",
       " 'etcmais': 3055,\n",
       " 'plair': 6210,\n",
       " 'jeun': 4488,\n",
       " 'plait': 6217,\n",
       " 'bonussall': 867,\n",
       " 'combl': 1426,\n",
       " 'enfonc': 2826,\n",
       " 'sieg': 7570,\n",
       " 'insupport': 4302,\n",
       " 'pouss': 6379,\n",
       " 'paroxysm': 5953,\n",
       " 'van': 8457,\n",
       " 'dun': 2557,\n",
       " 'siecl': 7566,\n",
       " 'fonction': 3483,\n",
       " 'fais': 3251,\n",
       " 'mieux': 5279,\n",
       " 'sourir': 7740,\n",
       " 'gras': 3743,\n",
       " 'preado': 6394,\n",
       " 'rou': 7266,\n",
       " 'libr': 4805,\n",
       " 'ali': 239,\n",
       " 'caricatural': 1083,\n",
       " 'gadget': 3611,\n",
       " 'cochonner': 1385,\n",
       " 'plastiqu': 6229,\n",
       " 'direct': 2399,\n",
       " 'magasin': 4999,\n",
       " 'produit': 6512,\n",
       " 'deriv': 2195,\n",
       " 'lot': 4944,\n",
       " 'sucet': 7883,\n",
       " 'ref': 6899,\n",
       " 'different': 2345,\n",
       " 'etc': 3053,\n",
       " 'nai': 5486,\n",
       " 'jam': 4459,\n",
       " 'emballag': 2722,\n",
       " 'sequenc': 7514,\n",
       " 'seattl': 7438,\n",
       " 'termin': 8116,\n",
       " 'leau': 4697,\n",
       " 'egout': 2680,\n",
       " 'spectacl': 7777,\n",
       " 'sous': 7742,\n",
       " 'lun': 4971,\n",
       " 'linstar': 4863,\n",
       " 'adventur': 151,\n",
       " 'mot': 5420,\n",
       " 'apparaiss': 368,\n",
       " 'titr': 8182,\n",
       " 'journal': 4524,\n",
       " 'lendemain': 4731,\n",
       " 'napparaiss': 5499,\n",
       " 'ni': 5567,\n",
       " 'tikal': 8161,\n",
       " 'appareil': 372,\n",
       " 'quai': 6638,\n",
       " 'trait': 8273,\n",
       " 'fidel': 3353,\n",
       " 'blanc': 812,\n",
       " 'immacul': 4023,\n",
       " 'luimem': 4965,\n",
       " 'enfin': 2825,\n",
       " 'vest': 8511,\n",
       " 'roug': 7269,\n",
       " 'cel': 1129,\n",
       " 'lon': 4908,\n",
       " 'con': 1512,\n",
       " 'biplan': 796,\n",
       " 'lieu': 4813,\n",
       " 'detr': 2266,\n",
       " 'jaun': 4469,\n",
       " 'audel': 560,\n",
       " 'particulier': 5965,\n",
       " 'nest': 5550,\n",
       " 'developp': 2283,\n",
       " 'lemeraud': 4725,\n",
       " 'mer': 5226,\n",
       " 'parc': 5911,\n",
       " 'quil': 6688,\n",
       " 'puissent': 6618,\n",
       " 'prendr': 6430,\n",
       " 'main': 5018,\n",
       " 'taill': 8034,\n",
       " 'semblabl': 7469,\n",
       " 'quant': 6647,\n",
       " 'elle': 2708,\n",
       " 'retrouvent': 7133,\n",
       " 'minuscul': 5320,\n",
       " 'ridicul': 7212,\n",
       " 'plan': 6218,\n",
       " 'pens': 6038,\n",
       " 'ceux': 1174,\n",
       " 'foret': 3493,\n",
       " 'labyrinth': 4601,\n",
       " 'uniqu': 8406,\n",
       " 'deco': 1998,\n",
       " 'yeux': 8732,\n",
       " 'silluminent': 7586,\n",
       " 'sait': 7315,\n",
       " 'pourquoi': 6369,\n",
       " 'lil': 4820,\n",
       " 'senvol': 7504,\n",
       " 'parallel': 5904,\n",
       " 'knukl': 4589,\n",
       " 'utilis': 8428,\n",
       " 'point': 6288,\n",
       " 'escalad': 2989,\n",
       " 'vol': 8620,\n",
       " 'ten': 8098,\n",
       " 'form': 3496,\n",
       " 'spheriqu': 7792,\n",
       " 'battr': 721,\n",
       " 'dont': 2504,\n",
       " 'vitess': 8585,\n",
       " 'permet': 6082,\n",
       " 'coll': 1408,\n",
       " 'parois': 5951,\n",
       " 'detail': 2250,\n",
       " 'propr': 6551,\n",
       " 'surf': 7962,\n",
       " 'debr': 1955,\n",
       " 'derrier': 2204,\n",
       " 'dans': 1890,\n",
       " 'rien': 7214,\n",
       " 'fair': 3246,\n",
       " 'longu': 4919,\n",
       " 'gen': 3644,\n",
       " 'humour': 3955,\n",
       " 'peterrot': 6120,\n",
       " 'arrivent': 455,\n",
       " 'gagn': 3614,\n",
       " 'infantilit': 4213,\n",
       " 'cass': 1106,\n",
       " 'leffort': 4714,\n",
       " 'facilit': 3231,\n",
       " 'trois': 8344,\n",
       " 'pag': 5859,\n",
       " 'parvient': 5975,\n",
       " 'luniver': 4975,\n",
       " 'predecesseurplus': 6407,\n",
       " 'rich': 7207,\n",
       " 'about': 16,\n",
       " 'foistrop': 3474,\n",
       " 'joyeux': 4529,\n",
       " 'passag': 5981,\n",
       " 'grav': 3749,\n",
       " 'destruct': 2245,\n",
       " 'derni': 2196,\n",
       " 'acte': 93,\n",
       " 'sais': 7311,\n",
       " 'bless': 814,\n",
       " 'recouvert': 6853,\n",
       " 'bou': 875,\n",
       " 'blessur': 815,\n",
       " 'front': 3577,\n",
       " 'haut': 3848,\n",
       " 'danger': 1884,\n",
       " 'mort': 5417,\n",
       " 'lhumeur': 4798,\n",
       " 'eteinteun': 3059,\n",
       " 'introduct': 4390,\n",
       " 'gun': 3788,\n",
       " 'peut': 6130,\n",
       " 'presqu': 6445,\n",
       " 'suffis': 7886,\n",
       " 'distrai': 2449,\n",
       " 'revoil': 7191,\n",
       " 'part': 5957,\n",
       " 'renard': 6985,\n",
       " 'leroug': 4756,\n",
       " 'reprend': 7046,\n",
       " 'revoir': 7192,\n",
       " 'rol': 7250,\n",
       " 'sav': 7376,\n",
       " 'voit': 8615,\n",
       " 'cabotin': 1002,\n",
       " 'choui': 1279,\n",
       " 'moment': 5373,\n",
       " 'eclat': 2611,\n",
       " 'niveau': 5577,\n",
       " 'rappel': 6744,\n",
       " 'epoqu': 2959,\n",
       " 'meg': 5181,\n",
       " 'driv': 2548,\n",
       " 'souven': 7758,\n",
       " 'souvenirl': 7760,\n",
       " 'bruitag': 969,\n",
       " 'anneau': 334,\n",
       " 'mod': 5351,\n",
       " 'boul': 888,\n",
       " 'air': 216,\n",
       " 'combien': 1423,\n",
       " 'jsuis': 4531,\n",
       " 'marin': 5097,\n",
       " 'embet': 2729,\n",
       " 'represent': 7049,\n",
       " 'couleur': 1729,\n",
       " 'energ': 2817,\n",
       " 'contrair': 1639,\n",
       " 'charism': 1209,\n",
       " 'bulot': 987,\n",
       " 'anti': 347,\n",
       " 'depresseurcontrair': 2185,\n",
       " 'francais': 3544,\n",
       " 'idris': 3988,\n",
       " 'elba': 2691,\n",
       " 'impos': 4070,\n",
       " 'post': 6343,\n",
       " 'premier': 6421,\n",
       " 'ser': 7515,\n",
       " 'nom': 5616,\n",
       " 'ecran': 2622,\n",
       " 'previens': 6462,\n",
       " 'garcon': 3627,\n",
       " 'ador': 139,\n",
       " 'cas': 1099,\n",
       " 'decev': 1980,\n",
       " 'herisson': 3865,\n",
       " 'apport': 388,\n",
       " 'rev': 7143,\n",
       " 'justici': 4557,\n",
       " 'facon': 3233,\n",
       " 'superheros': 7921,\n",
       " 'sauv': 7374,\n",
       " 'veuv': 8517,\n",
       " 'lorphelin': 4937,\n",
       " 'vill': 8545,\n",
       " 'green': 3755,\n",
       " 'hill': 3892,\n",
       " 'sauf': 7367,\n",
       " 'dr': 2537,\n",
       " 'retour': 7119,\n",
       " 'decid': 1990,\n",
       " 'elimin': 2704,\n",
       " 'anthropomorphequ': 346,\n",
       " 'cru': 1828,\n",
       " 'adapt': 121,\n",
       " 'rencontr': 6986,\n",
       " 'aut': 582,\n",
       " 'succ': 7875,\n",
       " 'rapport': 6748,\n",
       " 'depart': 2163,\n",
       " 'quun': 6705,\n",
       " 'badbuzz': 648,\n",
       " 'preced': 6397,\n",
       " 'mondial': 5380,\n",
       " 'cest': 1171,\n",
       " 'surpris': 7982,\n",
       " 'paramount': 5906,\n",
       " 'don': 2497,\n",
       " 'feu': 3338,\n",
       " 'vert': 8507,\n",
       " 'lanc': 4642,\n",
       " 'pur': 6625,\n",
       " 'mercantil': 5228,\n",
       " 'sadress': 7303,\n",
       " 'essentiel': 3019,\n",
       " 'heurehistoir': 3878,\n",
       " 'rajout': 6725,\n",
       " 'consist': 1600,\n",
       " 'script': 7432,\n",
       " 'gueguerr': 3774,\n",
       " 'devient': 2291,\n",
       " 'redond': 6881,\n",
       " 'viennent': 8538,\n",
       " 'rec': 6811,\n",
       " 'lechidn': 4702,\n",
       " 'dreadlock': 2543,\n",
       " 'queu': 6683,\n",
       " 'orient': 5778,\n",
       " 'tranch': 8280,\n",
       " 'dag': 1867,\n",
       " 'lhumour': 4799,\n",
       " 'gag': 3612,\n",
       " 'question': 6678,\n",
       " 'flatulent': 3440,\n",
       " 'oubli': 5818,\n",
       " 'cit': 1332,\n",
       " 'fessiercopt': 3334,\n",
       " 'secondair': 7442,\n",
       " 'marsden': 5110,\n",
       " 'tet': 8131,\n",
       " 'servent': 7527,\n",
       " 'meubl': 5263,\n",
       " 'sousintrigu': 7747,\n",
       " 'futil': 3602,\n",
       " 'une': 8404,\n",
       " 'visibl': 8566,\n",
       " 'jeff': 4476,\n",
       " 'fowl': 3533,\n",
       " 'quoi': 6695,\n",
       " 'tent': 8109,\n",
       " 'mal': 5044,\n",
       " 'lexempl': 4785,\n",
       " 'calibr': 1021,\n",
       " 'auditoir': 565,\n",
       " 'gamin': 3621,\n",
       " 'dev': 2280,\n",
       " 'insipid': 4275,\n",
       " 'fad': 3238,\n",
       " 'content': 1623,\n",
       " 'remplissag': 6980,\n",
       " 'pend': 6034,\n",
       " 'heur': 3877,\n",
       " 'seul': 7537,\n",
       " 'maison': 5028,\n",
       " 'projetx': 6534,\n",
       " 'siber': 7562,\n",
       " 'battl': 720,\n",
       " 'larg': 4664,\n",
       " 'chi': 1252,\n",
       " 'dailleur': 1870,\n",
       " 'demand': 2106,\n",
       " 'quel': 6664,\n",
       " 'linteret': 4866,\n",
       " 'pop': 6315,\n",
       " 'cultur': 1842,\n",
       " 'napportent': 5501,\n",
       " 'strict': 7835,\n",
       " 'pelemel': 6028,\n",
       " 'batman': 712,\n",
       " 'uber': 8385,\n",
       " 'professor': 6518,\n",
       " 'soldat': 7664,\n",
       " 'hiv': 3900,\n",
       " 'monopolyalor': 5386,\n",
       " 'sall': 7323,\n",
       " 'fevri': 3341,\n",
       " 'tard': 8057,\n",
       " 'tournag': 8249,\n",
       " 'volet': 8624,\n",
       " 'demarr': 2112,\n",
       " 'realis': 6782,\n",
       " 'precipit': 6402,\n",
       " 'postprod': 6352,\n",
       " 'mois': 5364,\n",
       " 'surpren': 7977,\n",
       " 'deprim': 2186,\n",
       " 'textur': 8134,\n",
       " 'foire': 3464,\n",
       " 'repris': 7051,\n",
       " 'interact': 4329,\n",
       " 'acteur': 94,\n",
       " 'collent': 1415,\n",
       " 'lennui': 4735,\n",
       " 'pre': 6393,\n",
       " 'den': 2143,\n",
       " 'puisquun': 6615,\n",
       " 'eme': 2743,\n",
       " 'attest': 542,\n",
       " 'postgener': 6346,\n",
       " 'lapparit': 4654,\n",
       " 'http': 3938,\n",
       " 'bitlycinephilenostalgeek': 798,\n",
       " 'twittercomb_reng': 8381,\n",
       " 'lavou': 4692,\n",
       " 'jai': 4453,\n",
       " 'horribl': 3928,\n",
       " 'enfantin': 2822,\n",
       " 'quoil': 6697,\n",
       " 'limit': 4830,\n",
       " 'caissebrefpubl': 1018,\n",
       " 'avril': 637,\n",
       " 'retrouvon': 7134,\n",
       " 'ingeni': 4232,\n",
       " 'drol': 2550,\n",
       " 'vraisembl': 8650,\n",
       " 'puissanc': 6617,\n",
       " 'fol': 3475,\n",
       " 'inspir': 4283,\n",
       " 'avoir': 633,\n",
       " 'evolu': 3117,\n",
       " 'accompagn': 60,\n",
       " 'labori': 4598,\n",
       " 'er': 2981,\n",
       " 'decor': 2010,\n",
       " 'ressembl': 7079,\n",
       " 'enchain': 2792,\n",
       " 'mauvais': 5148,\n",
       " 'blagu': 810,\n",
       " 'sert': 7524,\n",
       " 'intrigu': 4386,\n",
       " 'mariag': 5095,\n",
       " 'haw': 3852,\n",
       " 'soi': 7648,\n",
       " 'dis': 2410,\n",
       " 'pauvr': 6015,\n",
       " 'excellent': 3132,\n",
       " 'rent': 7004,\n",
       " 'compt': 1508,\n",
       " 'pouvoir': 6385,\n",
       " 'mec': 5163,\n",
       " 'homm': 3912,\n",
       " 'moustach': 5435,\n",
       " 'amit': 304,\n",
       " 'gentielless': 3668,\n",
       " 'rendr': 6990,\n",
       " 'aid': 201,\n",
       " 'import': 4068,\n",
       " 'jour': 4523,\n",
       " 'reussit': 7138,\n",
       " 'exact': 3123,\n",
       " 'attend': 533,\n",
       " 'verit': 8501,\n",
       " 'lettr': 4771,\n",
       " 'licenc': 4806,\n",
       " 'aim': 210,\n",
       " 'surp': 7974,\n",
       " 'tel': 8080,\n",
       " 'impress': 4080,\n",
       " 'prototyp': 6562,\n",
       " 'term': 8115,\n",
       " 'non': 5624,\n",
       " 'lor': 4931,\n",
       " 'exploit': 3187,\n",
       " 'peupl': 6128,\n",
       " 'echidn': 2603,\n",
       " 'emerauld': 2746,\n",
       " 'lieux': 4816,\n",
       " 'environ': 2933,\n",
       " 'montagn': 5395,\n",
       " 'enneige': 2848,\n",
       " 'font': 3488,\n",
       " 'ice': 3971,\n",
       " 'cap': 1058,\n",
       " 'perdu': 6059,\n",
       " 'hidden': 3887,\n",
       " 'palac': 5868,\n",
       " 'hero': 3872,\n",
       " 'anim': 330,\n",
       " 'heros': 3874,\n",
       " 'tom': 8193,\n",
       " 'madd': 4995,\n",
       " 'introduit': 4394,\n",
       " 'leur': 4772,\n",
       " 'climax': 1359,\n",
       " 'absolu': 27,\n",
       " 'genial': 3654,\n",
       " 'trio': 8333,\n",
       " 'sonictailsknukl': 7689,\n",
       " 'team': 8066,\n",
       " 'jouiss': 4521,\n",
       " 'apparit': 374,\n",
       " 'enorm': 2860,\n",
       " 'inattendu': 4107,\n",
       " 'perso': 6091,\n",
       " 'vu': 8653,\n",
       " 'ven': 8484,\n",
       " 'precedent': 6398,\n",
       " 'toler': 8191,\n",
       " 'doublag': 2521,\n",
       " 'met': 5245,\n",
       " 'sent': 7497,\n",
       " 'decalag': 1965,\n",
       " 'tach': 8029,\n",
       " 'dommag': 2492,\n",
       " 'ensuit': 2873,\n",
       " 'teas': 8067,\n",
       " 'arrive': 453,\n",
       " 'partag': 5958,\n",
       " 'temp': 8091,\n",
       " 'peur': 6129,\n",
       " 'personnel': 6097,\n",
       " 'tot': 8226,\n",
       " 'introduir': 4391,\n",
       " 'mainten': 5021,\n",
       " 'sinon': 7610,\n",
       " 'voil': 8601,\n",
       " 'confirm': 1556,\n",
       " 'travaillent': 8310,\n",
       " 'cinematic': 1318,\n",
       " 'univers': 8412,\n",
       " 'honor': 3918,\n",
       " 'servic': 7530,\n",
       " 'formej': 3501,\n",
       " 'sequel': 7513,\n",
       " 'serieux': 7521,\n",
       " 'bient': 783,\n",
       " 'celon': 1137,\n",
       " 'qualit': 6642,\n",
       " 'herison': 3864,\n",
       " 'seg': 7455,\n",
       " 'impres': 4078,\n",
       " 'grac': 3724,\n",
       " 'agreabl': 188,\n",
       " 'bleu': 816,\n",
       " 'ideal': 3976,\n",
       " 'aprem': 414,\n",
       " 'vein': 8482,\n",
       " 'gros': 3768,\n",
       " 'mech': 5166,\n",
       " 'finalit': 3409,\n",
       " 'tient': 8158,\n",
       " 'ren': 6983,\n",
       " 'knucl': 4588,\n",
       " 'souvenir': 7759,\n",
       " 'dout': 2531,\n",
       " 'connaitr': 1576,\n",
       " 'lorsqu': 4938,\n",
       " 'present': 6441,\n",
       " 'visuel': 8578,\n",
       " 'tram': 8278,\n",
       " 'pos': 6330,\n",
       " 'emmen': 2755,\n",
       " 'ami': 302,\n",
       " 'devoir': 2294,\n",
       " 'fac': 3225,\n",
       " 'surv': 7991,\n",
       " 'planet': 6220,\n",
       " 'veut': 8516,\n",
       " 'simpl': 7592,\n",
       " 'sen': 7478,\n",
       " 'real': 6781,\n",
       " 'innov': 4256,\n",
       " 'ete': 3056,\n",
       " 'pari': 5934,\n",
       " 'offre': 5722,\n",
       " 'long': 4909,\n",
       " 'ressort': 7085,\n",
       " 'pet': 6116,\n",
       " 'persos': 6098,\n",
       " 'casting': 1113,\n",
       " 'original': 5781,\n",
       " 'dingo': 2381,\n",
       " 'parsem': 5956,\n",
       " 'oeil': 5707,\n",
       " 'videos': 8532,\n",
       " 'special': 7769,\n",
       " 'knuckll': 4587,\n",
       " 'ligne': 4818,\n",
       " 'mesur': 5244,\n",
       " 'valeur': 8450,\n",
       " 'hel': 3859,\n",
       " 'derang': 2189,\n",
       " 'deuxiem': 2279,\n",
       " 'top': 8206,\n",
       " 'connaisseur': 1574,\n",
       " 'gard': 3628,\n",
       " 'proteg': 6560,\n",
       " 'recherch': 6820,\n",
       " 'comprend': 1498,\n",
       " 'chang': 1196,\n",
       " 'but': 995,\n",
       " 'pondr': 6312,\n",
       " 'docteur': 2471,\n",
       " 'goss': 3719,\n",
       " 'problem': 6492,\n",
       " 'ide': 3975,\n",
       " 'fes': 3332,\n",
       " 'buddy': 980,\n",
       " 'mov': 5439,\n",
       " 'ecrit': 2628,\n",
       " 'flash': 3437,\n",
       " 'esperon': 3003,\n",
       " 'car': 1074,\n",
       " 'ensembl': 2870,\n",
       " 'meh': 5185,\n",
       " 'mauv': 5147,\n",
       " 'gachent': 3608,\n",
       " 'abord': 14,\n",
       " 'parlon': 5945,\n",
       " 'comiqu': 1433,\n",
       " 'situat': 7620,\n",
       " 'dur': 2562,\n",
       " 'tension': 8108,\n",
       " 'const': 1607,\n",
       " 'gestuel': 3678,\n",
       " 'plombent': 6253,\n",
       " 'dialogu': 2319,\n",
       " 'forc': 3491,\n",
       " 'mou': 5426,\n",
       " 'degr': 2081,\n",
       " 'immersionmainten': 4035,\n",
       " 'clich': 1356,\n",
       " 'lecon': 4704,\n",
       " 'moral': 5408,\n",
       " 'cec': 1127,\n",
       " 'amis': 303,\n",
       " 'blablabl': 803,\n",
       " 'subtil': 7868,\n",
       " 'dit': 2453,\n",
       " 'martel': 5112,\n",
       " 'fort': 3507,\n",
       " 'migraineset': 5287,\n",
       " 'compar': 1453,\n",
       " 'narciss': 5502,\n",
       " 'egocentr': 2678,\n",
       " 'bord': 871,\n",
       " 'devien': 2288,\n",
       " 'maboul': 4989,\n",
       " 'extas': 3203,\n",
       " 'gaz': 3638,\n",
       " 'hilar': 3891,\n",
       " 'interess': 4334,\n",
       " 'moit': 5366,\n",
       " 'lourd': 4951,\n",
       " 'ramoll': 6736,\n",
       " 'caracter': 1075,\n",
       " 'deven': 2285,\n",
       " 'tsunder': 8367,\n",
       " 'focus': 3461,\n",
       " 'piec': 6164,\n",
       " 'theatr': 8139,\n",
       " 'comiqueet': 1434,\n",
       " 'connaiss': 1572,\n",
       " 'parl': 5940,\n",
       " 'oh': 5725,\n",
       " 'vfx': 8520,\n",
       " 'etaient': 3043,\n",
       " 'bizarr': 800,\n",
       " 'terribl': 8125,\n",
       " 'cestadir': 1172,\n",
       " 'instaur': 4294,\n",
       " 'nen': 5542,\n",
       " 'friandl': 3563,\n",
       " 'classiqu': 1350,\n",
       " 'satisfais': 7356,\n",
       " 'null': 5670,\n",
       " 'metteur': 5260,\n",
       " 'impression': 4081,\n",
       " 'cartoonesqu': 1098,\n",
       " 'protagon': 6558,\n",
       " 'autressinon': 599,\n",
       " 'ny': 5677,\n",
       " 'lhistoir': 4793,\n",
       " 'presente': 6442,\n",
       " 'profondeur': 6524,\n",
       " 'background': 644,\n",
       " 'continuit': 1634,\n",
       " 'parfois': 5931,\n",
       " 'peuvent': 6134,\n",
       " 'decroch': 2032,\n",
       " 'sourirej': 7741,\n",
       " 'conseil': 1593,\n",
       " 'sattendr': 7362,\n",
       " 'bancal': 679,\n",
       " 'ret': 7104,\n",
       " 'sketch': 7624,\n",
       " 'critiqu': 1809,\n",
       " 'commercial': 1443,\n",
       " 'evident': 3111,\n",
       " 'allait': 247,\n",
       " 'rapid': 6742,\n",
       " 'chanti': 1201,\n",
       " 'ouvert': 5839,\n",
       " 'appel': 382,\n",
       " 'raconte': 6714,\n",
       " 'inclu': 4139,\n",
       " 'bigg': 788,\n",
       " 'it': 4444,\n",
       " 'eh': 2682,\n",
       " 'affreux': 171,\n",
       " 'faudr': 3298,\n",
       " 'budget': 981,\n",
       " 'hawai': 3853,\n",
       " 'indian': 4180,\n",
       " 'joneson': 4511,\n",
       " 'pretext': 6460,\n",
       " 'multipl': 5451,\n",
       " 'bad': 647,\n",
       " 'guy': 3791,\n",
       " 'etrang': 3084,\n",
       " 'premierl': 6422,\n",
       " 'proven': 6567,\n",
       " 'principal': 6473,\n",
       " 'ici': 3972,\n",
       " 'dissimin': 2437,\n",
       " 'traver': 8314,\n",
       " 'horripil': 3930,\n",
       " 'plusieur': 6267,\n",
       " 'rempilent': 6977,\n",
       " 'cam': 1030,\n",
       " 'revient': 7184,\n",
       " 'originalit': 5784,\n",
       " 'centr': 1150,\n",
       " 'preoccupationssonic': 6435,\n",
       " 'encombr': 2798,\n",
       " 'enjeux': 2844,\n",
       " 'menac': 5210,\n",
       " 'habit': 3799,\n",
       " 'ambianc': 283,\n",
       " 'allegr': 253,\n",
       " 'pomp': 6304,\n",
       " 'publicon': 6609,\n",
       " 'navigu': 5521,\n",
       " 'urbain': 8416,\n",
       " 'product': 6507,\n",
       " 'dc': 1932,\n",
       " 'espionnag': 3005,\n",
       " 'rapproch': 6749,\n",
       " ...}"
      ]
     },
     "execution_count": 476,
     "metadata": {},
     "output_type": "execute_result"
    }
   ],
   "source": [
    "CountVec.vocabulary_"
   ]
  },
  {
   "cell_type": "code",
   "execution_count": 477,
   "id": "51dea98b",
   "metadata": {},
   "outputs": [
    {
     "name": "stderr",
     "output_type": "stream",
     "text": [
      "C:\\Users\\utilisateur\\anaconda3\\lib\\site-packages\\sklearn\\utils\\deprecation.py:87: FutureWarning: Function get_feature_names is deprecated; get_feature_names is deprecated in 1.0 and will be removed in 1.2. Please use get_feature_names_out instead.\n",
      "  warnings.warn(msg, category=FutureWarning)\n"
     ]
    },
    {
     "data": {
      "text/html": [
       "<div>\n",
       "<style scoped>\n",
       "    .dataframe tbody tr th:only-of-type {\n",
       "        vertical-align: middle;\n",
       "    }\n",
       "\n",
       "    .dataframe tbody tr th {\n",
       "        vertical-align: top;\n",
       "    }\n",
       "\n",
       "    .dataframe thead th {\n",
       "        text-align: right;\n",
       "    }\n",
       "</style>\n",
       "<table border=\"1\" class=\"dataframe\">\n",
       "  <thead>\n",
       "    <tr style=\"text-align: right;\">\n",
       "      <th></th>\n",
       "      <th>aahahahahah</th>\n",
       "      <th>aakhen</th>\n",
       "      <th>aaron</th>\n",
       "      <th>abandon</th>\n",
       "      <th>abandonne</th>\n",
       "      <th>abasourd</th>\n",
       "      <th>abattag</th>\n",
       "      <th>abattr</th>\n",
       "      <th>abattu</th>\n",
       "      <th>abbus</th>\n",
       "      <th>...</th>\n",
       "      <th>zero</th>\n",
       "      <th>zest</th>\n",
       "      <th>zeus</th>\n",
       "      <th>zimm</th>\n",
       "      <th>zimmerincept</th>\n",
       "      <th>zimmernolan</th>\n",
       "      <th>zimmerquand</th>\n",
       "      <th>zimmerun</th>\n",
       "      <th>zizan</th>\n",
       "      <th>zon</th>\n",
       "    </tr>\n",
       "  </thead>\n",
       "  <tbody>\n",
       "    <tr>\n",
       "      <th>0</th>\n",
       "      <td>0</td>\n",
       "      <td>0</td>\n",
       "      <td>0</td>\n",
       "      <td>0</td>\n",
       "      <td>0</td>\n",
       "      <td>0</td>\n",
       "      <td>0</td>\n",
       "      <td>0</td>\n",
       "      <td>0</td>\n",
       "      <td>0</td>\n",
       "      <td>...</td>\n",
       "      <td>0</td>\n",
       "      <td>0</td>\n",
       "      <td>0</td>\n",
       "      <td>0</td>\n",
       "      <td>0</td>\n",
       "      <td>0</td>\n",
       "      <td>0</td>\n",
       "      <td>0</td>\n",
       "      <td>0</td>\n",
       "      <td>0</td>\n",
       "    </tr>\n",
       "    <tr>\n",
       "      <th>1</th>\n",
       "      <td>0</td>\n",
       "      <td>0</td>\n",
       "      <td>0</td>\n",
       "      <td>0</td>\n",
       "      <td>0</td>\n",
       "      <td>0</td>\n",
       "      <td>0</td>\n",
       "      <td>0</td>\n",
       "      <td>0</td>\n",
       "      <td>0</td>\n",
       "      <td>...</td>\n",
       "      <td>0</td>\n",
       "      <td>0</td>\n",
       "      <td>0</td>\n",
       "      <td>0</td>\n",
       "      <td>0</td>\n",
       "      <td>0</td>\n",
       "      <td>0</td>\n",
       "      <td>0</td>\n",
       "      <td>0</td>\n",
       "      <td>0</td>\n",
       "    </tr>\n",
       "    <tr>\n",
       "      <th>2</th>\n",
       "      <td>0</td>\n",
       "      <td>0</td>\n",
       "      <td>0</td>\n",
       "      <td>0</td>\n",
       "      <td>0</td>\n",
       "      <td>0</td>\n",
       "      <td>0</td>\n",
       "      <td>0</td>\n",
       "      <td>0</td>\n",
       "      <td>0</td>\n",
       "      <td>...</td>\n",
       "      <td>0</td>\n",
       "      <td>0</td>\n",
       "      <td>0</td>\n",
       "      <td>0</td>\n",
       "      <td>0</td>\n",
       "      <td>0</td>\n",
       "      <td>0</td>\n",
       "      <td>0</td>\n",
       "      <td>0</td>\n",
       "      <td>0</td>\n",
       "    </tr>\n",
       "    <tr>\n",
       "      <th>3</th>\n",
       "      <td>0</td>\n",
       "      <td>0</td>\n",
       "      <td>0</td>\n",
       "      <td>0</td>\n",
       "      <td>0</td>\n",
       "      <td>0</td>\n",
       "      <td>0</td>\n",
       "      <td>0</td>\n",
       "      <td>0</td>\n",
       "      <td>0</td>\n",
       "      <td>...</td>\n",
       "      <td>0</td>\n",
       "      <td>0</td>\n",
       "      <td>0</td>\n",
       "      <td>0</td>\n",
       "      <td>0</td>\n",
       "      <td>0</td>\n",
       "      <td>0</td>\n",
       "      <td>0</td>\n",
       "      <td>0</td>\n",
       "      <td>0</td>\n",
       "    </tr>\n",
       "    <tr>\n",
       "      <th>4</th>\n",
       "      <td>0</td>\n",
       "      <td>0</td>\n",
       "      <td>0</td>\n",
       "      <td>0</td>\n",
       "      <td>0</td>\n",
       "      <td>0</td>\n",
       "      <td>0</td>\n",
       "      <td>0</td>\n",
       "      <td>0</td>\n",
       "      <td>0</td>\n",
       "      <td>...</td>\n",
       "      <td>0</td>\n",
       "      <td>0</td>\n",
       "      <td>0</td>\n",
       "      <td>0</td>\n",
       "      <td>0</td>\n",
       "      <td>0</td>\n",
       "      <td>0</td>\n",
       "      <td>0</td>\n",
       "      <td>0</td>\n",
       "      <td>0</td>\n",
       "    </tr>\n",
       "    <tr>\n",
       "      <th>...</th>\n",
       "      <td>...</td>\n",
       "      <td>...</td>\n",
       "      <td>...</td>\n",
       "      <td>...</td>\n",
       "      <td>...</td>\n",
       "      <td>...</td>\n",
       "      <td>...</td>\n",
       "      <td>...</td>\n",
       "      <td>...</td>\n",
       "      <td>...</td>\n",
       "      <td>...</td>\n",
       "      <td>...</td>\n",
       "      <td>...</td>\n",
       "      <td>...</td>\n",
       "      <td>...</td>\n",
       "      <td>...</td>\n",
       "      <td>...</td>\n",
       "      <td>...</td>\n",
       "      <td>...</td>\n",
       "      <td>...</td>\n",
       "      <td>...</td>\n",
       "    </tr>\n",
       "    <tr>\n",
       "      <th>2900</th>\n",
       "      <td>0</td>\n",
       "      <td>0</td>\n",
       "      <td>0</td>\n",
       "      <td>0</td>\n",
       "      <td>0</td>\n",
       "      <td>0</td>\n",
       "      <td>0</td>\n",
       "      <td>0</td>\n",
       "      <td>0</td>\n",
       "      <td>0</td>\n",
       "      <td>...</td>\n",
       "      <td>0</td>\n",
       "      <td>0</td>\n",
       "      <td>0</td>\n",
       "      <td>0</td>\n",
       "      <td>0</td>\n",
       "      <td>0</td>\n",
       "      <td>0</td>\n",
       "      <td>0</td>\n",
       "      <td>0</td>\n",
       "      <td>0</td>\n",
       "    </tr>\n",
       "    <tr>\n",
       "      <th>2901</th>\n",
       "      <td>0</td>\n",
       "      <td>0</td>\n",
       "      <td>0</td>\n",
       "      <td>0</td>\n",
       "      <td>0</td>\n",
       "      <td>0</td>\n",
       "      <td>0</td>\n",
       "      <td>0</td>\n",
       "      <td>0</td>\n",
       "      <td>0</td>\n",
       "      <td>...</td>\n",
       "      <td>0</td>\n",
       "      <td>0</td>\n",
       "      <td>0</td>\n",
       "      <td>0</td>\n",
       "      <td>0</td>\n",
       "      <td>0</td>\n",
       "      <td>0</td>\n",
       "      <td>0</td>\n",
       "      <td>0</td>\n",
       "      <td>0</td>\n",
       "    </tr>\n",
       "    <tr>\n",
       "      <th>2902</th>\n",
       "      <td>0</td>\n",
       "      <td>0</td>\n",
       "      <td>0</td>\n",
       "      <td>0</td>\n",
       "      <td>0</td>\n",
       "      <td>0</td>\n",
       "      <td>0</td>\n",
       "      <td>0</td>\n",
       "      <td>0</td>\n",
       "      <td>0</td>\n",
       "      <td>...</td>\n",
       "      <td>0</td>\n",
       "      <td>0</td>\n",
       "      <td>0</td>\n",
       "      <td>0</td>\n",
       "      <td>0</td>\n",
       "      <td>0</td>\n",
       "      <td>0</td>\n",
       "      <td>0</td>\n",
       "      <td>0</td>\n",
       "      <td>0</td>\n",
       "    </tr>\n",
       "    <tr>\n",
       "      <th>2903</th>\n",
       "      <td>0</td>\n",
       "      <td>0</td>\n",
       "      <td>0</td>\n",
       "      <td>0</td>\n",
       "      <td>0</td>\n",
       "      <td>0</td>\n",
       "      <td>0</td>\n",
       "      <td>0</td>\n",
       "      <td>0</td>\n",
       "      <td>0</td>\n",
       "      <td>...</td>\n",
       "      <td>0</td>\n",
       "      <td>0</td>\n",
       "      <td>0</td>\n",
       "      <td>0</td>\n",
       "      <td>0</td>\n",
       "      <td>0</td>\n",
       "      <td>0</td>\n",
       "      <td>0</td>\n",
       "      <td>0</td>\n",
       "      <td>0</td>\n",
       "    </tr>\n",
       "    <tr>\n",
       "      <th>2904</th>\n",
       "      <td>0</td>\n",
       "      <td>0</td>\n",
       "      <td>0</td>\n",
       "      <td>0</td>\n",
       "      <td>0</td>\n",
       "      <td>0</td>\n",
       "      <td>0</td>\n",
       "      <td>0</td>\n",
       "      <td>0</td>\n",
       "      <td>0</td>\n",
       "      <td>...</td>\n",
       "      <td>0</td>\n",
       "      <td>0</td>\n",
       "      <td>0</td>\n",
       "      <td>0</td>\n",
       "      <td>0</td>\n",
       "      <td>0</td>\n",
       "      <td>0</td>\n",
       "      <td>0</td>\n",
       "      <td>0</td>\n",
       "      <td>0</td>\n",
       "    </tr>\n",
       "  </tbody>\n",
       "</table>\n",
       "<p>2905 rows × 8748 columns</p>\n",
       "</div>"
      ],
      "text/plain": [
       "      aahahahahah  aakhen  aaron  abandon  abandonne  abasourd  abattag  \\\n",
       "0               0       0      0        0          0         0        0   \n",
       "1               0       0      0        0          0         0        0   \n",
       "2               0       0      0        0          0         0        0   \n",
       "3               0       0      0        0          0         0        0   \n",
       "4               0       0      0        0          0         0        0   \n",
       "...           ...     ...    ...      ...        ...       ...      ...   \n",
       "2900            0       0      0        0          0         0        0   \n",
       "2901            0       0      0        0          0         0        0   \n",
       "2902            0       0      0        0          0         0        0   \n",
       "2903            0       0      0        0          0         0        0   \n",
       "2904            0       0      0        0          0         0        0   \n",
       "\n",
       "      abattr  abattu  abbus  ...  zero  zest  zeus  zimm  zimmerincept  \\\n",
       "0          0       0      0  ...     0     0     0     0             0   \n",
       "1          0       0      0  ...     0     0     0     0             0   \n",
       "2          0       0      0  ...     0     0     0     0             0   \n",
       "3          0       0      0  ...     0     0     0     0             0   \n",
       "4          0       0      0  ...     0     0     0     0             0   \n",
       "...      ...     ...    ...  ...   ...   ...   ...   ...           ...   \n",
       "2900       0       0      0  ...     0     0     0     0             0   \n",
       "2901       0       0      0  ...     0     0     0     0             0   \n",
       "2902       0       0      0  ...     0     0     0     0             0   \n",
       "2903       0       0      0  ...     0     0     0     0             0   \n",
       "2904       0       0      0  ...     0     0     0     0             0   \n",
       "\n",
       "      zimmernolan  zimmerquand  zimmerun  zizan  zon  \n",
       "0               0            0         0      0    0  \n",
       "1               0            0         0      0    0  \n",
       "2               0            0         0      0    0  \n",
       "3               0            0         0      0    0  \n",
       "4               0            0         0      0    0  \n",
       "...           ...          ...       ...    ...  ...  \n",
       "2900            0            0         0      0    0  \n",
       "2901            0            0         0      0    0  \n",
       "2902            0            0         0      0    0  \n",
       "2903            0            0         0      0    0  \n",
       "2904            0            0         0      0    0  \n",
       "\n",
       "[2905 rows x 8748 columns]"
      ]
     },
     "execution_count": 477,
     "metadata": {},
     "output_type": "execute_result"
    }
   ],
   "source": [
    "# création d'un dataframe\n",
    "cv_dataframe=pd.DataFrame(Count_data.toarray(),columns=CountVec.get_feature_names())\n",
    "cv_dataframe"
   ]
  },
  {
   "cell_type": "code",
   "execution_count": 482,
   "id": "a709fc92",
   "metadata": {},
   "outputs": [
    {
     "data": {
      "text/plain": [
       "(2324,)"
      ]
     },
     "execution_count": 482,
     "metadata": {},
     "output_type": "execute_result"
    }
   ],
   "source": [
    "X_train.shape"
   ]
  },
  {
   "cell_type": "code",
   "execution_count": 483,
   "id": "f4c914a5",
   "metadata": {},
   "outputs": [
    {
     "data": {
      "text/plain": [
       "(581,)"
      ]
     },
     "execution_count": 483,
     "metadata": {},
     "output_type": "execute_result"
    }
   ],
   "source": [
    "X_test.shape"
   ]
  },
  {
   "cell_type": "markdown",
   "id": "8e94c116",
   "metadata": {},
   "source": [
    "## TF-IDF"
   ]
  },
  {
   "cell_type": "code",
   "execution_count": 526,
   "id": "bd4acf0f",
   "metadata": {},
   "outputs": [
    {
     "ename": "NotFittedError",
     "evalue": "The TF-IDF vectorizer is not fitted",
     "output_type": "error",
     "traceback": [
      "\u001b[1;31m---------------------------------------------------------------------------\u001b[0m",
      "\u001b[1;31mNotFittedError\u001b[0m                            Traceback (most recent call last)",
      "\u001b[1;32m<ipython-input-526-2506ef8ff32c>\u001b[0m in \u001b[0;36m<module>\u001b[1;34m\u001b[0m\n\u001b[0;32m      1\u001b[0m \u001b[0mtf_idf_vec\u001b[0m \u001b[1;33m=\u001b[0m \u001b[0mTfidfVectorizer\u001b[0m\u001b[1;33m(\u001b[0m\u001b[1;33m)\u001b[0m\u001b[1;33m\u001b[0m\u001b[1;33m\u001b[0m\u001b[0m\n\u001b[1;32m----> 2\u001b[1;33m \u001b[0mtf_idf_data\u001b[0m \u001b[1;33m=\u001b[0m \u001b[0mtf_idf_vec\u001b[0m\u001b[1;33m.\u001b[0m\u001b[0mtransform\u001b[0m\u001b[1;33m(\u001b[0m\u001b[0mX_train\u001b[0m\u001b[1;33m)\u001b[0m\u001b[1;33m\u001b[0m\u001b[1;33m\u001b[0m\u001b[0m\n\u001b[0m\u001b[0;32m      3\u001b[0m \u001b[1;33m\u001b[0m\u001b[0m\n\u001b[0;32m      4\u001b[0m \u001b[1;33m\u001b[0m\u001b[0m\n\u001b[0;32m      5\u001b[0m \u001b[1;31m# création d'un dataframe\u001b[0m\u001b[1;33m\u001b[0m\u001b[1;33m\u001b[0m\u001b[1;33m\u001b[0m\u001b[0m\n",
      "\u001b[1;32m~\\anaconda3\\lib\\site-packages\\sklearn\\feature_extraction\\text.py\u001b[0m in \u001b[0;36mtransform\u001b[1;34m(self, raw_documents)\u001b[0m\n\u001b[0;32m   2097\u001b[0m             \u001b[0mTf\u001b[0m\u001b[1;33m-\u001b[0m\u001b[0midf\u001b[0m\u001b[1;33m-\u001b[0m\u001b[0mweighted\u001b[0m \u001b[0mdocument\u001b[0m\u001b[1;33m-\u001b[0m\u001b[0mterm\u001b[0m \u001b[0mmatrix\u001b[0m\u001b[1;33m.\u001b[0m\u001b[1;33m\u001b[0m\u001b[1;33m\u001b[0m\u001b[0m\n\u001b[0;32m   2098\u001b[0m         \"\"\"\n\u001b[1;32m-> 2099\u001b[1;33m         \u001b[0mcheck_is_fitted\u001b[0m\u001b[1;33m(\u001b[0m\u001b[0mself\u001b[0m\u001b[1;33m,\u001b[0m \u001b[0mmsg\u001b[0m\u001b[1;33m=\u001b[0m\u001b[1;34m\"The TF-IDF vectorizer is not fitted\"\u001b[0m\u001b[1;33m)\u001b[0m\u001b[1;33m\u001b[0m\u001b[1;33m\u001b[0m\u001b[0m\n\u001b[0m\u001b[0;32m   2100\u001b[0m \u001b[1;33m\u001b[0m\u001b[0m\n\u001b[0;32m   2101\u001b[0m         \u001b[0mX\u001b[0m \u001b[1;33m=\u001b[0m \u001b[0msuper\u001b[0m\u001b[1;33m(\u001b[0m\u001b[1;33m)\u001b[0m\u001b[1;33m.\u001b[0m\u001b[0mtransform\u001b[0m\u001b[1;33m(\u001b[0m\u001b[0mraw_documents\u001b[0m\u001b[1;33m)\u001b[0m\u001b[1;33m\u001b[0m\u001b[1;33m\u001b[0m\u001b[0m\n",
      "\u001b[1;32m~\\anaconda3\\lib\\site-packages\\sklearn\\utils\\validation.py\u001b[0m in \u001b[0;36mcheck_is_fitted\u001b[1;34m(estimator, attributes, msg, all_or_any)\u001b[0m\n\u001b[0;32m   1220\u001b[0m \u001b[1;33m\u001b[0m\u001b[0m\n\u001b[0;32m   1221\u001b[0m     \u001b[1;32mif\u001b[0m \u001b[1;32mnot\u001b[0m \u001b[0mfitted\u001b[0m\u001b[1;33m:\u001b[0m\u001b[1;33m\u001b[0m\u001b[1;33m\u001b[0m\u001b[0m\n\u001b[1;32m-> 1222\u001b[1;33m         \u001b[1;32mraise\u001b[0m \u001b[0mNotFittedError\u001b[0m\u001b[1;33m(\u001b[0m\u001b[0mmsg\u001b[0m \u001b[1;33m%\u001b[0m \u001b[1;33m{\u001b[0m\u001b[1;34m\"name\"\u001b[0m\u001b[1;33m:\u001b[0m \u001b[0mtype\u001b[0m\u001b[1;33m(\u001b[0m\u001b[0mestimator\u001b[0m\u001b[1;33m)\u001b[0m\u001b[1;33m.\u001b[0m\u001b[0m__name__\u001b[0m\u001b[1;33m}\u001b[0m\u001b[1;33m)\u001b[0m\u001b[1;33m\u001b[0m\u001b[1;33m\u001b[0m\u001b[0m\n\u001b[0m\u001b[0;32m   1223\u001b[0m \u001b[1;33m\u001b[0m\u001b[0m\n\u001b[0;32m   1224\u001b[0m \u001b[1;33m\u001b[0m\u001b[0m\n",
      "\u001b[1;31mNotFittedError\u001b[0m: The TF-IDF vectorizer is not fitted"
     ]
    }
   ],
   "source": [
    "# tf_idf_vec = TfidfVectorizer()\n",
    "# tf_idf_data = tf_idf_vec.transform(X_train)\n",
    "\n",
    " \n",
    "# # création d'un dataframe\n",
    "# tf_idf_df=pd.DataFrame(tf_idf_data.toarray(),columns=tf_idf_vec.get_feature_names())\n",
    "# tf_idf_df"
   ]
  },
  {
   "cell_type": "code",
   "execution_count": 524,
   "id": "267e421e",
   "metadata": {},
   "outputs": [],
   "source": [
    "from sklearn.preprocessing import LabelEncoder\n",
    "\n",
    "le = LabelEncoder()\n",
    "le.fit(X_train.astype(str))\n",
    "normdf = le.transform(X_train.astype(str))"
   ]
  },
  {
   "cell_type": "code",
   "execution_count": 525,
   "id": "ef875256",
   "metadata": {},
   "outputs": [
    {
     "ename": "ValueError",
     "evalue": "could not convert string to float: 'exellent film montr comment march rev inconscient subconscient comment simpl ide sem tet quelqu peut deven si import parfois mem danger peut constat quand femm suicid car croit plus a cet realit peut voir point matrix effet special exellent musiqu tre bien apprpri film scen film tient halein pend tout dure fin vrai magnif grand christoph nolan chapeau'",
     "output_type": "error",
     "traceback": [
      "\u001b[1;31m---------------------------------------------------------------------------\u001b[0m",
      "\u001b[1;31mValueError\u001b[0m                                Traceback (most recent call last)",
      "\u001b[1;32m<ipython-input-525-b21127f6f4e1>\u001b[0m in \u001b[0;36m<module>\u001b[1;34m\u001b[0m\n\u001b[0;32m      1\u001b[0m \u001b[1;32mfrom\u001b[0m \u001b[0msklearn\u001b[0m\u001b[1;33m.\u001b[0m\u001b[0mnaive_bayes\u001b[0m \u001b[1;32mimport\u001b[0m \u001b[0mMultinomialNB\u001b[0m\u001b[1;33m\u001b[0m\u001b[1;33m\u001b[0m\u001b[0m\n\u001b[1;32m----> 2\u001b[1;33m \u001b[0mclf\u001b[0m \u001b[1;33m=\u001b[0m \u001b[0mMultinomialNB\u001b[0m\u001b[1;33m(\u001b[0m\u001b[1;33m)\u001b[0m\u001b[1;33m.\u001b[0m\u001b[0mfit\u001b[0m\u001b[1;33m(\u001b[0m\u001b[0mX_train\u001b[0m\u001b[1;33m,\u001b[0m \u001b[0my_train\u001b[0m\u001b[1;33m)\u001b[0m\u001b[1;33m\u001b[0m\u001b[1;33m\u001b[0m\u001b[0m\n\u001b[0m\u001b[0;32m      3\u001b[0m \u001b[0mX_new_counts\u001b[0m \u001b[1;33m=\u001b[0m \u001b[0mcount_vect\u001b[0m\u001b[1;33m.\u001b[0m\u001b[0mtransform\u001b[0m\u001b[1;33m(\u001b[0m\u001b[0mX_train\u001b[0m\u001b[1;33m)\u001b[0m\u001b[1;33m\u001b[0m\u001b[1;33m\u001b[0m\u001b[0m\n\u001b[0;32m      4\u001b[0m \u001b[0mX_new_tfidf\u001b[0m \u001b[1;33m=\u001b[0m \u001b[0mtfidf_transformer\u001b[0m\u001b[1;33m.\u001b[0m\u001b[0mtransform\u001b[0m\u001b[1;33m(\u001b[0m\u001b[0mX_new_counts\u001b[0m\u001b[1;33m)\u001b[0m\u001b[1;33m\u001b[0m\u001b[1;33m\u001b[0m\u001b[0m\n\u001b[0;32m      5\u001b[0m \u001b[1;33m\u001b[0m\u001b[0m\n",
      "\u001b[1;32m~\\anaconda3\\lib\\site-packages\\sklearn\\naive_bayes.py\u001b[0m in \u001b[0;36mfit\u001b[1;34m(self, X, y, sample_weight)\u001b[0m\n\u001b[0;32m    661\u001b[0m             \u001b[0mReturns\u001b[0m \u001b[0mthe\u001b[0m \u001b[0minstance\u001b[0m \u001b[0mitself\u001b[0m\u001b[1;33m.\u001b[0m\u001b[1;33m\u001b[0m\u001b[1;33m\u001b[0m\u001b[0m\n\u001b[0;32m    662\u001b[0m         \"\"\"\n\u001b[1;32m--> 663\u001b[1;33m         \u001b[0mX\u001b[0m\u001b[1;33m,\u001b[0m \u001b[0my\u001b[0m \u001b[1;33m=\u001b[0m \u001b[0mself\u001b[0m\u001b[1;33m.\u001b[0m\u001b[0m_check_X_y\u001b[0m\u001b[1;33m(\u001b[0m\u001b[0mX\u001b[0m\u001b[1;33m,\u001b[0m \u001b[0my\u001b[0m\u001b[1;33m)\u001b[0m\u001b[1;33m\u001b[0m\u001b[1;33m\u001b[0m\u001b[0m\n\u001b[0m\u001b[0;32m    664\u001b[0m         \u001b[0m_\u001b[0m\u001b[1;33m,\u001b[0m \u001b[0mn_features\u001b[0m \u001b[1;33m=\u001b[0m \u001b[0mX\u001b[0m\u001b[1;33m.\u001b[0m\u001b[0mshape\u001b[0m\u001b[1;33m\u001b[0m\u001b[1;33m\u001b[0m\u001b[0m\n\u001b[0;32m    665\u001b[0m \u001b[1;33m\u001b[0m\u001b[0m\n",
      "\u001b[1;32m~\\anaconda3\\lib\\site-packages\\sklearn\\naive_bayes.py\u001b[0m in \u001b[0;36m_check_X_y\u001b[1;34m(self, X, y, reset)\u001b[0m\n\u001b[0;32m    521\u001b[0m     \u001b[1;32mdef\u001b[0m \u001b[0m_check_X_y\u001b[0m\u001b[1;33m(\u001b[0m\u001b[0mself\u001b[0m\u001b[1;33m,\u001b[0m \u001b[0mX\u001b[0m\u001b[1;33m,\u001b[0m \u001b[0my\u001b[0m\u001b[1;33m,\u001b[0m \u001b[0mreset\u001b[0m\u001b[1;33m=\u001b[0m\u001b[1;32mTrue\u001b[0m\u001b[1;33m)\u001b[0m\u001b[1;33m:\u001b[0m\u001b[1;33m\u001b[0m\u001b[1;33m\u001b[0m\u001b[0m\n\u001b[0;32m    522\u001b[0m         \u001b[1;34m\"\"\"Validate X and y in fit methods.\"\"\"\u001b[0m\u001b[1;33m\u001b[0m\u001b[1;33m\u001b[0m\u001b[0m\n\u001b[1;32m--> 523\u001b[1;33m         \u001b[1;32mreturn\u001b[0m \u001b[0mself\u001b[0m\u001b[1;33m.\u001b[0m\u001b[0m_validate_data\u001b[0m\u001b[1;33m(\u001b[0m\u001b[0mX\u001b[0m\u001b[1;33m,\u001b[0m \u001b[0my\u001b[0m\u001b[1;33m,\u001b[0m \u001b[0maccept_sparse\u001b[0m\u001b[1;33m=\u001b[0m\u001b[1;34m\"csr\"\u001b[0m\u001b[1;33m,\u001b[0m \u001b[0mreset\u001b[0m\u001b[1;33m=\u001b[0m\u001b[0mreset\u001b[0m\u001b[1;33m)\u001b[0m\u001b[1;33m\u001b[0m\u001b[1;33m\u001b[0m\u001b[0m\n\u001b[0m\u001b[0;32m    524\u001b[0m \u001b[1;33m\u001b[0m\u001b[0m\n\u001b[0;32m    525\u001b[0m     \u001b[1;32mdef\u001b[0m \u001b[0m_update_class_log_prior\u001b[0m\u001b[1;33m(\u001b[0m\u001b[0mself\u001b[0m\u001b[1;33m,\u001b[0m \u001b[0mclass_prior\u001b[0m\u001b[1;33m=\u001b[0m\u001b[1;32mNone\u001b[0m\u001b[1;33m)\u001b[0m\u001b[1;33m:\u001b[0m\u001b[1;33m\u001b[0m\u001b[1;33m\u001b[0m\u001b[0m\n",
      "\u001b[1;32m~\\anaconda3\\lib\\site-packages\\sklearn\\base.py\u001b[0m in \u001b[0;36m_validate_data\u001b[1;34m(self, X, y, reset, validate_separately, **check_params)\u001b[0m\n\u001b[0;32m    579\u001b[0m                 \u001b[0my\u001b[0m \u001b[1;33m=\u001b[0m \u001b[0mcheck_array\u001b[0m\u001b[1;33m(\u001b[0m\u001b[0my\u001b[0m\u001b[1;33m,\u001b[0m \u001b[1;33m**\u001b[0m\u001b[0mcheck_y_params\u001b[0m\u001b[1;33m)\u001b[0m\u001b[1;33m\u001b[0m\u001b[1;33m\u001b[0m\u001b[0m\n\u001b[0;32m    580\u001b[0m             \u001b[1;32melse\u001b[0m\u001b[1;33m:\u001b[0m\u001b[1;33m\u001b[0m\u001b[1;33m\u001b[0m\u001b[0m\n\u001b[1;32m--> 581\u001b[1;33m                 \u001b[0mX\u001b[0m\u001b[1;33m,\u001b[0m \u001b[0my\u001b[0m \u001b[1;33m=\u001b[0m \u001b[0mcheck_X_y\u001b[0m\u001b[1;33m(\u001b[0m\u001b[0mX\u001b[0m\u001b[1;33m,\u001b[0m \u001b[0my\u001b[0m\u001b[1;33m,\u001b[0m \u001b[1;33m**\u001b[0m\u001b[0mcheck_params\u001b[0m\u001b[1;33m)\u001b[0m\u001b[1;33m\u001b[0m\u001b[1;33m\u001b[0m\u001b[0m\n\u001b[0m\u001b[0;32m    582\u001b[0m             \u001b[0mout\u001b[0m \u001b[1;33m=\u001b[0m \u001b[0mX\u001b[0m\u001b[1;33m,\u001b[0m \u001b[0my\u001b[0m\u001b[1;33m\u001b[0m\u001b[1;33m\u001b[0m\u001b[0m\n\u001b[0;32m    583\u001b[0m \u001b[1;33m\u001b[0m\u001b[0m\n",
      "\u001b[1;32m~\\anaconda3\\lib\\site-packages\\sklearn\\utils\\validation.py\u001b[0m in \u001b[0;36mcheck_X_y\u001b[1;34m(X, y, accept_sparse, accept_large_sparse, dtype, order, copy, force_all_finite, ensure_2d, allow_nd, multi_output, ensure_min_samples, ensure_min_features, y_numeric, estimator)\u001b[0m\n\u001b[0;32m    962\u001b[0m         \u001b[1;32mraise\u001b[0m \u001b[0mValueError\u001b[0m\u001b[1;33m(\u001b[0m\u001b[1;34m\"y cannot be None\"\u001b[0m\u001b[1;33m)\u001b[0m\u001b[1;33m\u001b[0m\u001b[1;33m\u001b[0m\u001b[0m\n\u001b[0;32m    963\u001b[0m \u001b[1;33m\u001b[0m\u001b[0m\n\u001b[1;32m--> 964\u001b[1;33m     X = check_array(\n\u001b[0m\u001b[0;32m    965\u001b[0m         \u001b[0mX\u001b[0m\u001b[1;33m,\u001b[0m\u001b[1;33m\u001b[0m\u001b[1;33m\u001b[0m\u001b[0m\n\u001b[0;32m    966\u001b[0m         \u001b[0maccept_sparse\u001b[0m\u001b[1;33m=\u001b[0m\u001b[0maccept_sparse\u001b[0m\u001b[1;33m,\u001b[0m\u001b[1;33m\u001b[0m\u001b[1;33m\u001b[0m\u001b[0m\n",
      "\u001b[1;32m~\\anaconda3\\lib\\site-packages\\sklearn\\utils\\validation.py\u001b[0m in \u001b[0;36mcheck_array\u001b[1;34m(array, accept_sparse, accept_large_sparse, dtype, order, copy, force_all_finite, ensure_2d, allow_nd, ensure_min_samples, ensure_min_features, estimator)\u001b[0m\n\u001b[0;32m    744\u001b[0m                     \u001b[0marray\u001b[0m \u001b[1;33m=\u001b[0m \u001b[0marray\u001b[0m\u001b[1;33m.\u001b[0m\u001b[0mastype\u001b[0m\u001b[1;33m(\u001b[0m\u001b[0mdtype\u001b[0m\u001b[1;33m,\u001b[0m \u001b[0mcasting\u001b[0m\u001b[1;33m=\u001b[0m\u001b[1;34m\"unsafe\"\u001b[0m\u001b[1;33m,\u001b[0m \u001b[0mcopy\u001b[0m\u001b[1;33m=\u001b[0m\u001b[1;32mFalse\u001b[0m\u001b[1;33m)\u001b[0m\u001b[1;33m\u001b[0m\u001b[1;33m\u001b[0m\u001b[0m\n\u001b[0;32m    745\u001b[0m                 \u001b[1;32melse\u001b[0m\u001b[1;33m:\u001b[0m\u001b[1;33m\u001b[0m\u001b[1;33m\u001b[0m\u001b[0m\n\u001b[1;32m--> 746\u001b[1;33m                     \u001b[0marray\u001b[0m \u001b[1;33m=\u001b[0m \u001b[0mnp\u001b[0m\u001b[1;33m.\u001b[0m\u001b[0masarray\u001b[0m\u001b[1;33m(\u001b[0m\u001b[0marray\u001b[0m\u001b[1;33m,\u001b[0m \u001b[0morder\u001b[0m\u001b[1;33m=\u001b[0m\u001b[0morder\u001b[0m\u001b[1;33m,\u001b[0m \u001b[0mdtype\u001b[0m\u001b[1;33m=\u001b[0m\u001b[0mdtype\u001b[0m\u001b[1;33m)\u001b[0m\u001b[1;33m\u001b[0m\u001b[1;33m\u001b[0m\u001b[0m\n\u001b[0m\u001b[0;32m    747\u001b[0m             \u001b[1;32mexcept\u001b[0m \u001b[0mComplexWarning\u001b[0m \u001b[1;32mas\u001b[0m \u001b[0mcomplex_warning\u001b[0m\u001b[1;33m:\u001b[0m\u001b[1;33m\u001b[0m\u001b[1;33m\u001b[0m\u001b[0m\n\u001b[0;32m    748\u001b[0m                 raise ValueError(\n",
      "\u001b[1;32m~\\anaconda3\\lib\\site-packages\\numpy\\core\\_asarray.py\u001b[0m in \u001b[0;36masarray\u001b[1;34m(a, dtype, order, like)\u001b[0m\n\u001b[0;32m    100\u001b[0m         \u001b[1;32mreturn\u001b[0m \u001b[0m_asarray_with_like\u001b[0m\u001b[1;33m(\u001b[0m\u001b[0ma\u001b[0m\u001b[1;33m,\u001b[0m \u001b[0mdtype\u001b[0m\u001b[1;33m=\u001b[0m\u001b[0mdtype\u001b[0m\u001b[1;33m,\u001b[0m \u001b[0morder\u001b[0m\u001b[1;33m=\u001b[0m\u001b[0morder\u001b[0m\u001b[1;33m,\u001b[0m \u001b[0mlike\u001b[0m\u001b[1;33m=\u001b[0m\u001b[0mlike\u001b[0m\u001b[1;33m)\u001b[0m\u001b[1;33m\u001b[0m\u001b[1;33m\u001b[0m\u001b[0m\n\u001b[0;32m    101\u001b[0m \u001b[1;33m\u001b[0m\u001b[0m\n\u001b[1;32m--> 102\u001b[1;33m     \u001b[1;32mreturn\u001b[0m \u001b[0marray\u001b[0m\u001b[1;33m(\u001b[0m\u001b[0ma\u001b[0m\u001b[1;33m,\u001b[0m \u001b[0mdtype\u001b[0m\u001b[1;33m,\u001b[0m \u001b[0mcopy\u001b[0m\u001b[1;33m=\u001b[0m\u001b[1;32mFalse\u001b[0m\u001b[1;33m,\u001b[0m \u001b[0morder\u001b[0m\u001b[1;33m=\u001b[0m\u001b[0morder\u001b[0m\u001b[1;33m)\u001b[0m\u001b[1;33m\u001b[0m\u001b[1;33m\u001b[0m\u001b[0m\n\u001b[0m\u001b[0;32m    103\u001b[0m \u001b[1;33m\u001b[0m\u001b[0m\n\u001b[0;32m    104\u001b[0m \u001b[1;33m\u001b[0m\u001b[0m\n",
      "\u001b[1;32m~\\anaconda3\\lib\\site-packages\\pandas\\core\\series.py\u001b[0m in \u001b[0;36m__array__\u001b[1;34m(self, dtype)\u001b[0m\n\u001b[0;32m    870\u001b[0m               dtype='datetime64[ns]')\n\u001b[0;32m    871\u001b[0m         \"\"\"\n\u001b[1;32m--> 872\u001b[1;33m         \u001b[1;32mreturn\u001b[0m \u001b[0mnp\u001b[0m\u001b[1;33m.\u001b[0m\u001b[0masarray\u001b[0m\u001b[1;33m(\u001b[0m\u001b[0mself\u001b[0m\u001b[1;33m.\u001b[0m\u001b[0m_values\u001b[0m\u001b[1;33m,\u001b[0m \u001b[0mdtype\u001b[0m\u001b[1;33m)\u001b[0m\u001b[1;33m\u001b[0m\u001b[1;33m\u001b[0m\u001b[0m\n\u001b[0m\u001b[0;32m    873\u001b[0m \u001b[1;33m\u001b[0m\u001b[0m\n\u001b[0;32m    874\u001b[0m     \u001b[1;31m# ----------------------------------------------------------------------\u001b[0m\u001b[1;33m\u001b[0m\u001b[1;33m\u001b[0m\u001b[1;33m\u001b[0m\u001b[0m\n",
      "\u001b[1;32m~\\anaconda3\\lib\\site-packages\\numpy\\core\\_asarray.py\u001b[0m in \u001b[0;36masarray\u001b[1;34m(a, dtype, order, like)\u001b[0m\n\u001b[0;32m    100\u001b[0m         \u001b[1;32mreturn\u001b[0m \u001b[0m_asarray_with_like\u001b[0m\u001b[1;33m(\u001b[0m\u001b[0ma\u001b[0m\u001b[1;33m,\u001b[0m \u001b[0mdtype\u001b[0m\u001b[1;33m=\u001b[0m\u001b[0mdtype\u001b[0m\u001b[1;33m,\u001b[0m \u001b[0morder\u001b[0m\u001b[1;33m=\u001b[0m\u001b[0morder\u001b[0m\u001b[1;33m,\u001b[0m \u001b[0mlike\u001b[0m\u001b[1;33m=\u001b[0m\u001b[0mlike\u001b[0m\u001b[1;33m)\u001b[0m\u001b[1;33m\u001b[0m\u001b[1;33m\u001b[0m\u001b[0m\n\u001b[0;32m    101\u001b[0m \u001b[1;33m\u001b[0m\u001b[0m\n\u001b[1;32m--> 102\u001b[1;33m     \u001b[1;32mreturn\u001b[0m \u001b[0marray\u001b[0m\u001b[1;33m(\u001b[0m\u001b[0ma\u001b[0m\u001b[1;33m,\u001b[0m \u001b[0mdtype\u001b[0m\u001b[1;33m,\u001b[0m \u001b[0mcopy\u001b[0m\u001b[1;33m=\u001b[0m\u001b[1;32mFalse\u001b[0m\u001b[1;33m,\u001b[0m \u001b[0morder\u001b[0m\u001b[1;33m=\u001b[0m\u001b[0morder\u001b[0m\u001b[1;33m)\u001b[0m\u001b[1;33m\u001b[0m\u001b[1;33m\u001b[0m\u001b[0m\n\u001b[0m\u001b[0;32m    103\u001b[0m \u001b[1;33m\u001b[0m\u001b[0m\n\u001b[0;32m    104\u001b[0m \u001b[1;33m\u001b[0m\u001b[0m\n",
      "\u001b[1;31mValueError\u001b[0m: could not convert string to float: 'exellent film montr comment march rev inconscient subconscient comment simpl ide sem tet quelqu peut deven si import parfois mem danger peut constat quand femm suicid car croit plus a cet realit peut voir point matrix effet special exellent musiqu tre bien apprpri film scen film tient halein pend tout dure fin vrai magnif grand christoph nolan chapeau'"
     ]
    }
   ],
   "source": [
    "from sklearn.naive_bayes import MultinomialNB\n",
    "clf = MultinomialNB().fit(X_train, y_train)\n",
    "X_new_counts = count_vect.transform(X_train)\n",
    "X_new_tfidf = tfidf_transformer.transform(X_new_counts)\n",
    "\n",
    "predicted = clf.predict(X_new_tfidf)\n",
    "\n",
    "for doc, category in zip(docs_new, predicted):\n",
    "     print('%r => %s' % (doc, twenty_train.target_names[category]))"
   ]
  },
  {
   "cell_type": "code",
   "execution_count": 486,
   "id": "44e7f7b9",
   "metadata": {},
   "outputs": [],
   "source": [
    "X_test_vec = tf_idf_vec.fit_transform(X_test)"
   ]
  },
  {
   "cell_type": "markdown",
   "id": "bf1e4a96",
   "metadata": {},
   "source": [
    "## Régression logisitique"
   ]
  },
  {
   "cell_type": "code",
   "execution_count": 508,
   "id": "da6bce27",
   "metadata": {},
   "outputs": [],
   "source": [
    "from sklearn.linear_model import LogisticRegression\n",
    "\n",
    "lr = LogisticRegression()"
   ]
  },
  {
   "cell_type": "code",
   "execution_count": 509,
   "id": "ada8d298",
   "metadata": {},
   "outputs": [
    {
     "data": {
      "text/plain": [
       "LogisticRegression()"
      ]
     },
     "execution_count": 509,
     "metadata": {},
     "output_type": "execute_result"
    }
   ],
   "source": [
    "lr.fit(tf_idf_data, y_train)"
   ]
  },
  {
   "cell_type": "code",
   "execution_count": 512,
   "id": "f92a1460",
   "metadata": {},
   "outputs": [
    {
     "data": {
      "text/plain": [
       "((2324,), (581,))"
      ]
     },
     "execution_count": 512,
     "metadata": {},
     "output_type": "execute_result"
    }
   ],
   "source": [
    "y_train.shape, y_test.shape"
   ]
  },
  {
   "cell_type": "code",
   "execution_count": 511,
   "id": "ec78da9d",
   "metadata": {},
   "outputs": [
    {
     "ename": "ValueError",
     "evalue": "X has 3663 features, but LogisticRegression is expecting 7881 features as input.",
     "output_type": "error",
     "traceback": [
      "\u001b[1;31m---------------------------------------------------------------------------\u001b[0m",
      "\u001b[1;31mValueError\u001b[0m                                Traceback (most recent call last)",
      "\u001b[1;32m<ipython-input-511-cf28af7c459d>\u001b[0m in \u001b[0;36m<module>\u001b[1;34m\u001b[0m\n\u001b[0;32m      5\u001b[0m     \u001b[0mlr\u001b[0m \u001b[1;33m=\u001b[0m \u001b[0mLogisticRegression\u001b[0m\u001b[1;33m(\u001b[0m\u001b[0mC\u001b[0m\u001b[1;33m=\u001b[0m\u001b[0mc\u001b[0m\u001b[1;33m,\u001b[0m\u001b[0msolver\u001b[0m\u001b[1;33m=\u001b[0m\u001b[1;34m'liblinear'\u001b[0m\u001b[1;33m,\u001b[0m \u001b[0mrandom_state\u001b[0m\u001b[1;33m=\u001b[0m\u001b[1;36m0\u001b[0m\u001b[1;33m,\u001b[0m \u001b[0mmax_iter\u001b[0m\u001b[1;33m=\u001b[0m\u001b[1;36m150\u001b[0m\u001b[1;33m)\u001b[0m\u001b[1;33m\u001b[0m\u001b[1;33m\u001b[0m\u001b[0m\n\u001b[0;32m      6\u001b[0m     \u001b[0mlr\u001b[0m\u001b[1;33m.\u001b[0m\u001b[0mfit\u001b[0m\u001b[1;33m(\u001b[0m\u001b[0mtf_idf_data\u001b[0m\u001b[1;33m,\u001b[0m \u001b[0my_train\u001b[0m\u001b[1;33m)\u001b[0m\u001b[1;33m\u001b[0m\u001b[1;33m\u001b[0m\u001b[0m\n\u001b[1;32m----> 7\u001b[1;33m     \u001b[0my_pred_test\u001b[0m \u001b[1;33m=\u001b[0m \u001b[0mlr\u001b[0m\u001b[1;33m.\u001b[0m\u001b[0mpredict\u001b[0m\u001b[1;33m(\u001b[0m\u001b[0mX_test_vec\u001b[0m\u001b[1;33m)\u001b[0m\u001b[1;33m\u001b[0m\u001b[1;33m\u001b[0m\u001b[0m\n\u001b[0m\u001b[0;32m      8\u001b[0m     \u001b[0mprint\u001b[0m \u001b[1;33m(\u001b[0m\u001b[1;34m\"Précision pour C=%s: %s\"\u001b[0m \u001b[1;33m%\u001b[0m \u001b[1;33m(\u001b[0m\u001b[0mc\u001b[0m\u001b[1;33m,\u001b[0m \u001b[0mround\u001b[0m\u001b[1;33m(\u001b[0m\u001b[0maccuracy_score\u001b[0m\u001b[1;33m(\u001b[0m\u001b[0my_test\u001b[0m\u001b[1;33m,\u001b[0m \u001b[0my_pred_test\u001b[0m\u001b[1;33m)\u001b[0m\u001b[1;33m,\u001b[0m\u001b[1;36m4\u001b[0m\u001b[1;33m)\u001b[0m\u001b[1;33m)\u001b[0m\u001b[1;33m)\u001b[0m\u001b[1;33m\u001b[0m\u001b[1;33m\u001b[0m\u001b[0m\n",
      "\u001b[1;32m~\\anaconda3\\lib\\site-packages\\sklearn\\linear_model\\_base.py\u001b[0m in \u001b[0;36mpredict\u001b[1;34m(self, X)\u001b[0m\n\u001b[0;32m    423\u001b[0m             \u001b[0mVector\u001b[0m \u001b[0mcontaining\u001b[0m \u001b[0mthe\u001b[0m \u001b[1;32mclass\u001b[0m \u001b[0mlabels\u001b[0m \u001b[1;32mfor\u001b[0m \u001b[0meach\u001b[0m \u001b[0msample\u001b[0m\u001b[1;33m.\u001b[0m\u001b[1;33m\u001b[0m\u001b[1;33m\u001b[0m\u001b[0m\n\u001b[0;32m    424\u001b[0m         \"\"\"\n\u001b[1;32m--> 425\u001b[1;33m         \u001b[0mscores\u001b[0m \u001b[1;33m=\u001b[0m \u001b[0mself\u001b[0m\u001b[1;33m.\u001b[0m\u001b[0mdecision_function\u001b[0m\u001b[1;33m(\u001b[0m\u001b[0mX\u001b[0m\u001b[1;33m)\u001b[0m\u001b[1;33m\u001b[0m\u001b[1;33m\u001b[0m\u001b[0m\n\u001b[0m\u001b[0;32m    426\u001b[0m         \u001b[1;32mif\u001b[0m \u001b[0mlen\u001b[0m\u001b[1;33m(\u001b[0m\u001b[0mscores\u001b[0m\u001b[1;33m.\u001b[0m\u001b[0mshape\u001b[0m\u001b[1;33m)\u001b[0m \u001b[1;33m==\u001b[0m \u001b[1;36m1\u001b[0m\u001b[1;33m:\u001b[0m\u001b[1;33m\u001b[0m\u001b[1;33m\u001b[0m\u001b[0m\n\u001b[0;32m    427\u001b[0m             \u001b[0mindices\u001b[0m \u001b[1;33m=\u001b[0m \u001b[1;33m(\u001b[0m\u001b[0mscores\u001b[0m \u001b[1;33m>\u001b[0m \u001b[1;36m0\u001b[0m\u001b[1;33m)\u001b[0m\u001b[1;33m.\u001b[0m\u001b[0mastype\u001b[0m\u001b[1;33m(\u001b[0m\u001b[0mint\u001b[0m\u001b[1;33m)\u001b[0m\u001b[1;33m\u001b[0m\u001b[1;33m\u001b[0m\u001b[0m\n",
      "\u001b[1;32m~\\anaconda3\\lib\\site-packages\\sklearn\\linear_model\\_base.py\u001b[0m in \u001b[0;36mdecision_function\u001b[1;34m(self, X)\u001b[0m\n\u001b[0;32m    405\u001b[0m         \u001b[0mcheck_is_fitted\u001b[0m\u001b[1;33m(\u001b[0m\u001b[0mself\u001b[0m\u001b[1;33m)\u001b[0m\u001b[1;33m\u001b[0m\u001b[1;33m\u001b[0m\u001b[0m\n\u001b[0;32m    406\u001b[0m \u001b[1;33m\u001b[0m\u001b[0m\n\u001b[1;32m--> 407\u001b[1;33m         \u001b[0mX\u001b[0m \u001b[1;33m=\u001b[0m \u001b[0mself\u001b[0m\u001b[1;33m.\u001b[0m\u001b[0m_validate_data\u001b[0m\u001b[1;33m(\u001b[0m\u001b[0mX\u001b[0m\u001b[1;33m,\u001b[0m \u001b[0maccept_sparse\u001b[0m\u001b[1;33m=\u001b[0m\u001b[1;34m\"csr\"\u001b[0m\u001b[1;33m,\u001b[0m \u001b[0mreset\u001b[0m\u001b[1;33m=\u001b[0m\u001b[1;32mFalse\u001b[0m\u001b[1;33m)\u001b[0m\u001b[1;33m\u001b[0m\u001b[1;33m\u001b[0m\u001b[0m\n\u001b[0m\u001b[0;32m    408\u001b[0m         \u001b[0mscores\u001b[0m \u001b[1;33m=\u001b[0m \u001b[0msafe_sparse_dot\u001b[0m\u001b[1;33m(\u001b[0m\u001b[0mX\u001b[0m\u001b[1;33m,\u001b[0m \u001b[0mself\u001b[0m\u001b[1;33m.\u001b[0m\u001b[0mcoef_\u001b[0m\u001b[1;33m.\u001b[0m\u001b[0mT\u001b[0m\u001b[1;33m,\u001b[0m \u001b[0mdense_output\u001b[0m\u001b[1;33m=\u001b[0m\u001b[1;32mTrue\u001b[0m\u001b[1;33m)\u001b[0m \u001b[1;33m+\u001b[0m \u001b[0mself\u001b[0m\u001b[1;33m.\u001b[0m\u001b[0mintercept_\u001b[0m\u001b[1;33m\u001b[0m\u001b[1;33m\u001b[0m\u001b[0m\n\u001b[0;32m    409\u001b[0m         \u001b[1;32mreturn\u001b[0m \u001b[0mscores\u001b[0m\u001b[1;33m.\u001b[0m\u001b[0mravel\u001b[0m\u001b[1;33m(\u001b[0m\u001b[1;33m)\u001b[0m \u001b[1;32mif\u001b[0m \u001b[0mscores\u001b[0m\u001b[1;33m.\u001b[0m\u001b[0mshape\u001b[0m\u001b[1;33m[\u001b[0m\u001b[1;36m1\u001b[0m\u001b[1;33m]\u001b[0m \u001b[1;33m==\u001b[0m \u001b[1;36m1\u001b[0m \u001b[1;32melse\u001b[0m \u001b[0mscores\u001b[0m\u001b[1;33m\u001b[0m\u001b[1;33m\u001b[0m\u001b[0m\n",
      "\u001b[1;32m~\\anaconda3\\lib\\site-packages\\sklearn\\base.py\u001b[0m in \u001b[0;36m_validate_data\u001b[1;34m(self, X, y, reset, validate_separately, **check_params)\u001b[0m\n\u001b[0;32m    583\u001b[0m \u001b[1;33m\u001b[0m\u001b[0m\n\u001b[0;32m    584\u001b[0m         \u001b[1;32mif\u001b[0m \u001b[1;32mnot\u001b[0m \u001b[0mno_val_X\u001b[0m \u001b[1;32mand\u001b[0m \u001b[0mcheck_params\u001b[0m\u001b[1;33m.\u001b[0m\u001b[0mget\u001b[0m\u001b[1;33m(\u001b[0m\u001b[1;34m\"ensure_2d\"\u001b[0m\u001b[1;33m,\u001b[0m \u001b[1;32mTrue\u001b[0m\u001b[1;33m)\u001b[0m\u001b[1;33m:\u001b[0m\u001b[1;33m\u001b[0m\u001b[1;33m\u001b[0m\u001b[0m\n\u001b[1;32m--> 585\u001b[1;33m             \u001b[0mself\u001b[0m\u001b[1;33m.\u001b[0m\u001b[0m_check_n_features\u001b[0m\u001b[1;33m(\u001b[0m\u001b[0mX\u001b[0m\u001b[1;33m,\u001b[0m \u001b[0mreset\u001b[0m\u001b[1;33m=\u001b[0m\u001b[0mreset\u001b[0m\u001b[1;33m)\u001b[0m\u001b[1;33m\u001b[0m\u001b[1;33m\u001b[0m\u001b[0m\n\u001b[0m\u001b[0;32m    586\u001b[0m \u001b[1;33m\u001b[0m\u001b[0m\n\u001b[0;32m    587\u001b[0m         \u001b[1;32mreturn\u001b[0m \u001b[0mout\u001b[0m\u001b[1;33m\u001b[0m\u001b[1;33m\u001b[0m\u001b[0m\n",
      "\u001b[1;32m~\\anaconda3\\lib\\site-packages\\sklearn\\base.py\u001b[0m in \u001b[0;36m_check_n_features\u001b[1;34m(self, X, reset)\u001b[0m\n\u001b[0;32m    398\u001b[0m \u001b[1;33m\u001b[0m\u001b[0m\n\u001b[0;32m    399\u001b[0m         \u001b[1;32mif\u001b[0m \u001b[0mn_features\u001b[0m \u001b[1;33m!=\u001b[0m \u001b[0mself\u001b[0m\u001b[1;33m.\u001b[0m\u001b[0mn_features_in_\u001b[0m\u001b[1;33m:\u001b[0m\u001b[1;33m\u001b[0m\u001b[1;33m\u001b[0m\u001b[0m\n\u001b[1;32m--> 400\u001b[1;33m             raise ValueError(\n\u001b[0m\u001b[0;32m    401\u001b[0m                 \u001b[1;34mf\"X has {n_features} features, but {self.__class__.__name__} \"\u001b[0m\u001b[1;33m\u001b[0m\u001b[1;33m\u001b[0m\u001b[0m\n\u001b[0;32m    402\u001b[0m                 \u001b[1;34mf\"is expecting {self.n_features_in_} features as input.\"\u001b[0m\u001b[1;33m\u001b[0m\u001b[1;33m\u001b[0m\u001b[0m\n",
      "\u001b[1;31mValueError\u001b[0m: X has 3663 features, but LogisticRegression is expecting 7881 features as input."
     ]
    }
   ],
   "source": [
    "from sklearn.linear_model import LogisticRegression\n",
    "from sklearn.metrics import accuracy_score\n",
    "\n",
    "for c in [0.01, 0.05, 0.25, 0.5, 1]:\n",
    "    lr = LogisticRegression(C=c,solver='liblinear', random_state=0, max_iter=150)\n",
    "    lr.fit(tf_idf_data, y_train)\n",
    "    y_pred_test = lr.predict(X_test_vec)\n",
    "    print (\"Précision pour C=%s: %s\" % (c, round(accuracy_score(y_test, y_pred_test),4)))"
   ]
  },
  {
   "cell_type": "code",
   "execution_count": 510,
   "id": "eef23084",
   "metadata": {},
   "outputs": [
    {
     "ename": "ValueError",
     "evalue": "X has 3663 features, but LogisticRegression is expecting 7881 features as input.",
     "output_type": "error",
     "traceback": [
      "\u001b[1;31m---------------------------------------------------------------------------\u001b[0m",
      "\u001b[1;31mValueError\u001b[0m                                Traceback (most recent call last)",
      "\u001b[1;32m<ipython-input-510-267a2f6ef73d>\u001b[0m in \u001b[0;36m<module>\u001b[1;34m\u001b[0m\n\u001b[1;32m----> 1\u001b[1;33m \u001b[0mpredictions\u001b[0m \u001b[1;33m=\u001b[0m \u001b[0mlr\u001b[0m\u001b[1;33m.\u001b[0m\u001b[0mpredict\u001b[0m\u001b[1;33m(\u001b[0m\u001b[0mX_test_vec\u001b[0m\u001b[1;33m)\u001b[0m\u001b[1;33m\u001b[0m\u001b[1;33m\u001b[0m\u001b[0m\n\u001b[0m",
      "\u001b[1;32m~\\anaconda3\\lib\\site-packages\\sklearn\\linear_model\\_base.py\u001b[0m in \u001b[0;36mpredict\u001b[1;34m(self, X)\u001b[0m\n\u001b[0;32m    423\u001b[0m             \u001b[0mVector\u001b[0m \u001b[0mcontaining\u001b[0m \u001b[0mthe\u001b[0m \u001b[1;32mclass\u001b[0m \u001b[0mlabels\u001b[0m \u001b[1;32mfor\u001b[0m \u001b[0meach\u001b[0m \u001b[0msample\u001b[0m\u001b[1;33m.\u001b[0m\u001b[1;33m\u001b[0m\u001b[1;33m\u001b[0m\u001b[0m\n\u001b[0;32m    424\u001b[0m         \"\"\"\n\u001b[1;32m--> 425\u001b[1;33m         \u001b[0mscores\u001b[0m \u001b[1;33m=\u001b[0m \u001b[0mself\u001b[0m\u001b[1;33m.\u001b[0m\u001b[0mdecision_function\u001b[0m\u001b[1;33m(\u001b[0m\u001b[0mX\u001b[0m\u001b[1;33m)\u001b[0m\u001b[1;33m\u001b[0m\u001b[1;33m\u001b[0m\u001b[0m\n\u001b[0m\u001b[0;32m    426\u001b[0m         \u001b[1;32mif\u001b[0m \u001b[0mlen\u001b[0m\u001b[1;33m(\u001b[0m\u001b[0mscores\u001b[0m\u001b[1;33m.\u001b[0m\u001b[0mshape\u001b[0m\u001b[1;33m)\u001b[0m \u001b[1;33m==\u001b[0m \u001b[1;36m1\u001b[0m\u001b[1;33m:\u001b[0m\u001b[1;33m\u001b[0m\u001b[1;33m\u001b[0m\u001b[0m\n\u001b[0;32m    427\u001b[0m             \u001b[0mindices\u001b[0m \u001b[1;33m=\u001b[0m \u001b[1;33m(\u001b[0m\u001b[0mscores\u001b[0m \u001b[1;33m>\u001b[0m \u001b[1;36m0\u001b[0m\u001b[1;33m)\u001b[0m\u001b[1;33m.\u001b[0m\u001b[0mastype\u001b[0m\u001b[1;33m(\u001b[0m\u001b[0mint\u001b[0m\u001b[1;33m)\u001b[0m\u001b[1;33m\u001b[0m\u001b[1;33m\u001b[0m\u001b[0m\n",
      "\u001b[1;32m~\\anaconda3\\lib\\site-packages\\sklearn\\linear_model\\_base.py\u001b[0m in \u001b[0;36mdecision_function\u001b[1;34m(self, X)\u001b[0m\n\u001b[0;32m    405\u001b[0m         \u001b[0mcheck_is_fitted\u001b[0m\u001b[1;33m(\u001b[0m\u001b[0mself\u001b[0m\u001b[1;33m)\u001b[0m\u001b[1;33m\u001b[0m\u001b[1;33m\u001b[0m\u001b[0m\n\u001b[0;32m    406\u001b[0m \u001b[1;33m\u001b[0m\u001b[0m\n\u001b[1;32m--> 407\u001b[1;33m         \u001b[0mX\u001b[0m \u001b[1;33m=\u001b[0m \u001b[0mself\u001b[0m\u001b[1;33m.\u001b[0m\u001b[0m_validate_data\u001b[0m\u001b[1;33m(\u001b[0m\u001b[0mX\u001b[0m\u001b[1;33m,\u001b[0m \u001b[0maccept_sparse\u001b[0m\u001b[1;33m=\u001b[0m\u001b[1;34m\"csr\"\u001b[0m\u001b[1;33m,\u001b[0m \u001b[0mreset\u001b[0m\u001b[1;33m=\u001b[0m\u001b[1;32mFalse\u001b[0m\u001b[1;33m)\u001b[0m\u001b[1;33m\u001b[0m\u001b[1;33m\u001b[0m\u001b[0m\n\u001b[0m\u001b[0;32m    408\u001b[0m         \u001b[0mscores\u001b[0m \u001b[1;33m=\u001b[0m \u001b[0msafe_sparse_dot\u001b[0m\u001b[1;33m(\u001b[0m\u001b[0mX\u001b[0m\u001b[1;33m,\u001b[0m \u001b[0mself\u001b[0m\u001b[1;33m.\u001b[0m\u001b[0mcoef_\u001b[0m\u001b[1;33m.\u001b[0m\u001b[0mT\u001b[0m\u001b[1;33m,\u001b[0m \u001b[0mdense_output\u001b[0m\u001b[1;33m=\u001b[0m\u001b[1;32mTrue\u001b[0m\u001b[1;33m)\u001b[0m \u001b[1;33m+\u001b[0m \u001b[0mself\u001b[0m\u001b[1;33m.\u001b[0m\u001b[0mintercept_\u001b[0m\u001b[1;33m\u001b[0m\u001b[1;33m\u001b[0m\u001b[0m\n\u001b[0;32m    409\u001b[0m         \u001b[1;32mreturn\u001b[0m \u001b[0mscores\u001b[0m\u001b[1;33m.\u001b[0m\u001b[0mravel\u001b[0m\u001b[1;33m(\u001b[0m\u001b[1;33m)\u001b[0m \u001b[1;32mif\u001b[0m \u001b[0mscores\u001b[0m\u001b[1;33m.\u001b[0m\u001b[0mshape\u001b[0m\u001b[1;33m[\u001b[0m\u001b[1;36m1\u001b[0m\u001b[1;33m]\u001b[0m \u001b[1;33m==\u001b[0m \u001b[1;36m1\u001b[0m \u001b[1;32melse\u001b[0m \u001b[0mscores\u001b[0m\u001b[1;33m\u001b[0m\u001b[1;33m\u001b[0m\u001b[0m\n",
      "\u001b[1;32m~\\anaconda3\\lib\\site-packages\\sklearn\\base.py\u001b[0m in \u001b[0;36m_validate_data\u001b[1;34m(self, X, y, reset, validate_separately, **check_params)\u001b[0m\n\u001b[0;32m    583\u001b[0m \u001b[1;33m\u001b[0m\u001b[0m\n\u001b[0;32m    584\u001b[0m         \u001b[1;32mif\u001b[0m \u001b[1;32mnot\u001b[0m \u001b[0mno_val_X\u001b[0m \u001b[1;32mand\u001b[0m \u001b[0mcheck_params\u001b[0m\u001b[1;33m.\u001b[0m\u001b[0mget\u001b[0m\u001b[1;33m(\u001b[0m\u001b[1;34m\"ensure_2d\"\u001b[0m\u001b[1;33m,\u001b[0m \u001b[1;32mTrue\u001b[0m\u001b[1;33m)\u001b[0m\u001b[1;33m:\u001b[0m\u001b[1;33m\u001b[0m\u001b[1;33m\u001b[0m\u001b[0m\n\u001b[1;32m--> 585\u001b[1;33m             \u001b[0mself\u001b[0m\u001b[1;33m.\u001b[0m\u001b[0m_check_n_features\u001b[0m\u001b[1;33m(\u001b[0m\u001b[0mX\u001b[0m\u001b[1;33m,\u001b[0m \u001b[0mreset\u001b[0m\u001b[1;33m=\u001b[0m\u001b[0mreset\u001b[0m\u001b[1;33m)\u001b[0m\u001b[1;33m\u001b[0m\u001b[1;33m\u001b[0m\u001b[0m\n\u001b[0m\u001b[0;32m    586\u001b[0m \u001b[1;33m\u001b[0m\u001b[0m\n\u001b[0;32m    587\u001b[0m         \u001b[1;32mreturn\u001b[0m \u001b[0mout\u001b[0m\u001b[1;33m\u001b[0m\u001b[1;33m\u001b[0m\u001b[0m\n",
      "\u001b[1;32m~\\anaconda3\\lib\\site-packages\\sklearn\\base.py\u001b[0m in \u001b[0;36m_check_n_features\u001b[1;34m(self, X, reset)\u001b[0m\n\u001b[0;32m    398\u001b[0m \u001b[1;33m\u001b[0m\u001b[0m\n\u001b[0;32m    399\u001b[0m         \u001b[1;32mif\u001b[0m \u001b[0mn_features\u001b[0m \u001b[1;33m!=\u001b[0m \u001b[0mself\u001b[0m\u001b[1;33m.\u001b[0m\u001b[0mn_features_in_\u001b[0m\u001b[1;33m:\u001b[0m\u001b[1;33m\u001b[0m\u001b[1;33m\u001b[0m\u001b[0m\n\u001b[1;32m--> 400\u001b[1;33m             raise ValueError(\n\u001b[0m\u001b[0;32m    401\u001b[0m                 \u001b[1;34mf\"X has {n_features} features, but {self.__class__.__name__} \"\u001b[0m\u001b[1;33m\u001b[0m\u001b[1;33m\u001b[0m\u001b[0m\n\u001b[0;32m    402\u001b[0m                 \u001b[1;34mf\"is expecting {self.n_features_in_} features as input.\"\u001b[0m\u001b[1;33m\u001b[0m\u001b[1;33m\u001b[0m\u001b[0m\n",
      "\u001b[1;31mValueError\u001b[0m: X has 3663 features, but LogisticRegression is expecting 7881 features as input."
     ]
    }
   ],
   "source": [
    "predictions = lr.predict(X_test_vec)"
   ]
  },
  {
   "cell_type": "markdown",
   "id": "18cf4693",
   "metadata": {},
   "source": [
    "## SVM linéaire"
   ]
  },
  {
   "cell_type": "code",
   "execution_count": 513,
   "id": "44a5c268",
   "metadata": {},
   "outputs": [],
   "source": [
    "from sklearn.svm import LinearSVC\n",
    "from sklearn.pipeline import Pipeline\n",
    "from sklearn.preprocessing import StandardScaler\n",
    "from sklearn.model_selection import GridSearchCV\n",
    "\n",
    "\n",
    "clf = LinearSVC(max_iter=10000, C=0.1)"
   ]
  },
  {
   "cell_type": "code",
   "execution_count": 514,
   "id": "9b285eb1",
   "metadata": {},
   "outputs": [],
   "source": [
    "def fit_vectorizers(vectorizer):\n",
    "    pipeline = Pipeline(\n",
    "    [\n",
    "        (\"vect\", vectorizer()),\n",
    "        (\"scaling\", StandardScaler(with_mean=False)),\n",
    "        (\"clf\", clf),\n",
    "    ]\n",
    "    )\n",
    "\n",
    "    parameters = {\n",
    "        \"vect__ngram_range\": ((1, 1), (1, 2)),  # unigrams or bigrams\n",
    "        \"vect__stop_words\": (\"english\", None)\n",
    "    }\n",
    "\n",
    "    grid_search = GridSearchCV(pipeline, parameters, scoring='f1_micro',\n",
    "                               cv=4, n_jobs=4, verbose=1)\n",
    "    grid_search.fit(X_train, y_train)\n",
    "\n",
    "    best_parameters = grid_search.best_estimator_.get_params()\n",
    "    for param_name in sorted(parameters.keys()):\n",
    "        print(\"\\t%s: %r\" % (param_name, best_parameters[param_name]))\n",
    "\n",
    "    print(f\"CV scores {grid_search.cv_results_['mean_test_score']}\")\n",
    "    print(f\"Mean F1 {np.mean(grid_search.cv_results_['mean_test_score'])}\")\n",
    "    \n",
    "    return grid_search"
   ]
  },
  {
   "cell_type": "code",
   "execution_count": 504,
   "id": "f3836a18",
   "metadata": {},
   "outputs": [
    {
     "name": "stdout",
     "output_type": "stream",
     "text": [
      "Fitting 4 folds for each of 4 candidates, totalling 16 fits\n",
      "\tvect__ngram_range: (1, 1)\n",
      "\tvect__stop_words: None\n",
      "CV scores [0.89672978 0.89845095 0.88166954 0.88166954]\n",
      "Mean F1 0.8896299483648882\n"
     ]
    }
   ],
   "source": [
    "cv_bow = fit_vectorizers(CountVectorizer)"
   ]
  },
  {
   "cell_type": "code",
   "execution_count": 505,
   "id": "b1f36a97",
   "metadata": {},
   "outputs": [
    {
     "name": "stdout",
     "output_type": "stream",
     "text": [
      "Fitting 4 folds for each of 4 candidates, totalling 16 fits\n",
      "\tvect__ngram_range: (1, 1)\n",
      "\tvect__stop_words: 'english'\n",
      "CV scores [0.90920826 0.90920826 0.88898451 0.8894148 ]\n",
      "Mean F1 0.8992039586919105\n"
     ]
    }
   ],
   "source": [
    "cv_tfidf = fit_vectorizers(TfidfVectorizer)"
   ]
  },
  {
   "cell_type": "code",
   "execution_count": 506,
   "id": "5ce14075",
   "metadata": {},
   "outputs": [],
   "source": [
    "from sklearn import svm\n",
    "clf=svm.LinearSVC()"
   ]
  },
  {
   "cell_type": "code",
   "execution_count": 507,
   "id": "32248854",
   "metadata": {},
   "outputs": [
    {
     "ename": "ValueError",
     "evalue": "X has 3663 features, but LinearSVC is expecting 7881 features as input.",
     "output_type": "error",
     "traceback": [
      "\u001b[1;31m---------------------------------------------------------------------------\u001b[0m",
      "\u001b[1;31mValueError\u001b[0m                                Traceback (most recent call last)",
      "\u001b[1;32m<ipython-input-507-87453a54132b>\u001b[0m in \u001b[0;36m<module>\u001b[1;34m\u001b[0m\n\u001b[0;32m      1\u001b[0m \u001b[0mclf\u001b[0m\u001b[1;33m.\u001b[0m\u001b[0mfit\u001b[0m\u001b[1;33m(\u001b[0m\u001b[0mtf_idf_data\u001b[0m\u001b[1;33m,\u001b[0m\u001b[0my_train\u001b[0m\u001b[1;33m)\u001b[0m\u001b[1;33m\u001b[0m\u001b[1;33m\u001b[0m\u001b[0m\n\u001b[0;32m      2\u001b[0m \u001b[1;33m\u001b[0m\u001b[0m\n\u001b[1;32m----> 3\u001b[1;33m \u001b[0mres\u001b[0m\u001b[1;33m=\u001b[0m \u001b[0mclf\u001b[0m\u001b[1;33m.\u001b[0m\u001b[0m_predict_proba_lr\u001b[0m\u001b[1;33m(\u001b[0m\u001b[0mX_test_vec\u001b[0m\u001b[1;33m)\u001b[0m\u001b[1;33m\u001b[0m\u001b[1;33m\u001b[0m\u001b[0m\n\u001b[0m",
      "\u001b[1;32m~\\anaconda3\\lib\\site-packages\\sklearn\\linear_model\\_base.py\u001b[0m in \u001b[0;36m_predict_proba_lr\u001b[1;34m(self, X)\u001b[0m\n\u001b[0;32m    437\u001b[0m         \u001b[0mmulticlass\u001b[0m \u001b[1;32mis\u001b[0m \u001b[0mhandled\u001b[0m \u001b[0mby\u001b[0m \u001b[0mnormalizing\u001b[0m \u001b[0mthat\u001b[0m \u001b[0mover\u001b[0m \u001b[0mall\u001b[0m \u001b[0mclasses\u001b[0m\u001b[1;33m.\u001b[0m\u001b[1;33m\u001b[0m\u001b[1;33m\u001b[0m\u001b[0m\n\u001b[0;32m    438\u001b[0m         \"\"\"\n\u001b[1;32m--> 439\u001b[1;33m         \u001b[0mprob\u001b[0m \u001b[1;33m=\u001b[0m \u001b[0mself\u001b[0m\u001b[1;33m.\u001b[0m\u001b[0mdecision_function\u001b[0m\u001b[1;33m(\u001b[0m\u001b[0mX\u001b[0m\u001b[1;33m)\u001b[0m\u001b[1;33m\u001b[0m\u001b[1;33m\u001b[0m\u001b[0m\n\u001b[0m\u001b[0;32m    440\u001b[0m         \u001b[0mexpit\u001b[0m\u001b[1;33m(\u001b[0m\u001b[0mprob\u001b[0m\u001b[1;33m,\u001b[0m \u001b[0mout\u001b[0m\u001b[1;33m=\u001b[0m\u001b[0mprob\u001b[0m\u001b[1;33m)\u001b[0m\u001b[1;33m\u001b[0m\u001b[1;33m\u001b[0m\u001b[0m\n\u001b[0;32m    441\u001b[0m         \u001b[1;32mif\u001b[0m \u001b[0mprob\u001b[0m\u001b[1;33m.\u001b[0m\u001b[0mndim\u001b[0m \u001b[1;33m==\u001b[0m \u001b[1;36m1\u001b[0m\u001b[1;33m:\u001b[0m\u001b[1;33m\u001b[0m\u001b[1;33m\u001b[0m\u001b[0m\n",
      "\u001b[1;32m~\\anaconda3\\lib\\site-packages\\sklearn\\linear_model\\_base.py\u001b[0m in \u001b[0;36mdecision_function\u001b[1;34m(self, X)\u001b[0m\n\u001b[0;32m    405\u001b[0m         \u001b[0mcheck_is_fitted\u001b[0m\u001b[1;33m(\u001b[0m\u001b[0mself\u001b[0m\u001b[1;33m)\u001b[0m\u001b[1;33m\u001b[0m\u001b[1;33m\u001b[0m\u001b[0m\n\u001b[0;32m    406\u001b[0m \u001b[1;33m\u001b[0m\u001b[0m\n\u001b[1;32m--> 407\u001b[1;33m         \u001b[0mX\u001b[0m \u001b[1;33m=\u001b[0m \u001b[0mself\u001b[0m\u001b[1;33m.\u001b[0m\u001b[0m_validate_data\u001b[0m\u001b[1;33m(\u001b[0m\u001b[0mX\u001b[0m\u001b[1;33m,\u001b[0m \u001b[0maccept_sparse\u001b[0m\u001b[1;33m=\u001b[0m\u001b[1;34m\"csr\"\u001b[0m\u001b[1;33m,\u001b[0m \u001b[0mreset\u001b[0m\u001b[1;33m=\u001b[0m\u001b[1;32mFalse\u001b[0m\u001b[1;33m)\u001b[0m\u001b[1;33m\u001b[0m\u001b[1;33m\u001b[0m\u001b[0m\n\u001b[0m\u001b[0;32m    408\u001b[0m         \u001b[0mscores\u001b[0m \u001b[1;33m=\u001b[0m \u001b[0msafe_sparse_dot\u001b[0m\u001b[1;33m(\u001b[0m\u001b[0mX\u001b[0m\u001b[1;33m,\u001b[0m \u001b[0mself\u001b[0m\u001b[1;33m.\u001b[0m\u001b[0mcoef_\u001b[0m\u001b[1;33m.\u001b[0m\u001b[0mT\u001b[0m\u001b[1;33m,\u001b[0m \u001b[0mdense_output\u001b[0m\u001b[1;33m=\u001b[0m\u001b[1;32mTrue\u001b[0m\u001b[1;33m)\u001b[0m \u001b[1;33m+\u001b[0m \u001b[0mself\u001b[0m\u001b[1;33m.\u001b[0m\u001b[0mintercept_\u001b[0m\u001b[1;33m\u001b[0m\u001b[1;33m\u001b[0m\u001b[0m\n\u001b[0;32m    409\u001b[0m         \u001b[1;32mreturn\u001b[0m \u001b[0mscores\u001b[0m\u001b[1;33m.\u001b[0m\u001b[0mravel\u001b[0m\u001b[1;33m(\u001b[0m\u001b[1;33m)\u001b[0m \u001b[1;32mif\u001b[0m \u001b[0mscores\u001b[0m\u001b[1;33m.\u001b[0m\u001b[0mshape\u001b[0m\u001b[1;33m[\u001b[0m\u001b[1;36m1\u001b[0m\u001b[1;33m]\u001b[0m \u001b[1;33m==\u001b[0m \u001b[1;36m1\u001b[0m \u001b[1;32melse\u001b[0m \u001b[0mscores\u001b[0m\u001b[1;33m\u001b[0m\u001b[1;33m\u001b[0m\u001b[0m\n",
      "\u001b[1;32m~\\anaconda3\\lib\\site-packages\\sklearn\\base.py\u001b[0m in \u001b[0;36m_validate_data\u001b[1;34m(self, X, y, reset, validate_separately, **check_params)\u001b[0m\n\u001b[0;32m    583\u001b[0m \u001b[1;33m\u001b[0m\u001b[0m\n\u001b[0;32m    584\u001b[0m         \u001b[1;32mif\u001b[0m \u001b[1;32mnot\u001b[0m \u001b[0mno_val_X\u001b[0m \u001b[1;32mand\u001b[0m \u001b[0mcheck_params\u001b[0m\u001b[1;33m.\u001b[0m\u001b[0mget\u001b[0m\u001b[1;33m(\u001b[0m\u001b[1;34m\"ensure_2d\"\u001b[0m\u001b[1;33m,\u001b[0m \u001b[1;32mTrue\u001b[0m\u001b[1;33m)\u001b[0m\u001b[1;33m:\u001b[0m\u001b[1;33m\u001b[0m\u001b[1;33m\u001b[0m\u001b[0m\n\u001b[1;32m--> 585\u001b[1;33m             \u001b[0mself\u001b[0m\u001b[1;33m.\u001b[0m\u001b[0m_check_n_features\u001b[0m\u001b[1;33m(\u001b[0m\u001b[0mX\u001b[0m\u001b[1;33m,\u001b[0m \u001b[0mreset\u001b[0m\u001b[1;33m=\u001b[0m\u001b[0mreset\u001b[0m\u001b[1;33m)\u001b[0m\u001b[1;33m\u001b[0m\u001b[1;33m\u001b[0m\u001b[0m\n\u001b[0m\u001b[0;32m    586\u001b[0m \u001b[1;33m\u001b[0m\u001b[0m\n\u001b[0;32m    587\u001b[0m         \u001b[1;32mreturn\u001b[0m \u001b[0mout\u001b[0m\u001b[1;33m\u001b[0m\u001b[1;33m\u001b[0m\u001b[0m\n",
      "\u001b[1;32m~\\anaconda3\\lib\\site-packages\\sklearn\\base.py\u001b[0m in \u001b[0;36m_check_n_features\u001b[1;34m(self, X, reset)\u001b[0m\n\u001b[0;32m    398\u001b[0m \u001b[1;33m\u001b[0m\u001b[0m\n\u001b[0;32m    399\u001b[0m         \u001b[1;32mif\u001b[0m \u001b[0mn_features\u001b[0m \u001b[1;33m!=\u001b[0m \u001b[0mself\u001b[0m\u001b[1;33m.\u001b[0m\u001b[0mn_features_in_\u001b[0m\u001b[1;33m:\u001b[0m\u001b[1;33m\u001b[0m\u001b[1;33m\u001b[0m\u001b[0m\n\u001b[1;32m--> 400\u001b[1;33m             raise ValueError(\n\u001b[0m\u001b[0;32m    401\u001b[0m                 \u001b[1;34mf\"X has {n_features} features, but {self.__class__.__name__} \"\u001b[0m\u001b[1;33m\u001b[0m\u001b[1;33m\u001b[0m\u001b[0m\n\u001b[0;32m    402\u001b[0m                 \u001b[1;34mf\"is expecting {self.n_features_in_} features as input.\"\u001b[0m\u001b[1;33m\u001b[0m\u001b[1;33m\u001b[0m\u001b[0m\n",
      "\u001b[1;31mValueError\u001b[0m: X has 3663 features, but LinearSVC is expecting 7881 features as input."
     ]
    }
   ],
   "source": [
    "clf.fit(tf_idf_data,y_train)\n",
    "\n",
    "res= clf._predict_proba_lr(X_test_vec)"
   ]
  }
 ],
 "metadata": {
  "kernelspec": {
   "display_name": "Python 3",
   "language": "python",
   "name": "python3"
  },
  "language_info": {
   "codemirror_mode": {
    "name": "ipython",
    "version": 3
   },
   "file_extension": ".py",
   "mimetype": "text/x-python",
   "name": "python",
   "nbconvert_exporter": "python",
   "pygments_lexer": "ipython3",
   "version": "3.8.3"
  }
 },
 "nbformat": 4,
 "nbformat_minor": 5
}
